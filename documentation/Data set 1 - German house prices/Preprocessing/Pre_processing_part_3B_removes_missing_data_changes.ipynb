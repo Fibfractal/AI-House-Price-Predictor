{
 "cells": [
  {
   "cell_type": "markdown",
   "id": "reliable-manitoba",
   "metadata": {},
   "source": [
    "## Preprocessing of data, Part 3B - remove rows with missing values"
   ]
  },
  {
   "cell_type": "markdown",
   "id": "agricultural-circus",
   "metadata": {},
   "source": [
    "In this notebook will we also work with the csv-file we created in part 2. But before we start remove all rows that contains missing data, we will change the missing data in a few columns."
   ]
  },
  {
   "cell_type": "markdown",
   "id": "congressional-onion",
   "metadata": {},
   "source": [
    "### Import libraries and dataset"
   ]
  },
  {
   "cell_type": "code",
   "execution_count": 1,
   "id": "vocal-spider",
   "metadata": {},
   "outputs": [],
   "source": [
    "import numpy as np\n",
    "import pandas as pd\n",
    "import seaborn as sns\n",
    "import matplotlib.pyplot as plt"
   ]
  },
  {
   "cell_type": "code",
   "execution_count": 2,
   "id": "desperate-remark",
   "metadata": {},
   "outputs": [
    {
     "data": {
      "text/html": [
       "<div>\n",
       "<style scoped>\n",
       "    .dataframe tbody tr th:only-of-type {\n",
       "        vertical-align: middle;\n",
       "    }\n",
       "\n",
       "    .dataframe tbody tr th {\n",
       "        vertical-align: top;\n",
       "    }\n",
       "\n",
       "    .dataframe thead th {\n",
       "        text-align: right;\n",
       "    }\n",
       "</style>\n",
       "<table border=\"1\" class=\"dataframe\">\n",
       "  <thead>\n",
       "    <tr style=\"text-align: right;\">\n",
       "      <th></th>\n",
       "      <th>Living_space</th>\n",
       "      <th>Lot</th>\n",
       "      <th>Rooms</th>\n",
       "      <th>Bedrooms</th>\n",
       "      <th>Bathrooms</th>\n",
       "      <th>Floors</th>\n",
       "      <th>Year_built</th>\n",
       "      <th>Year_renovated</th>\n",
       "      <th>Garages</th>\n",
       "      <th>Condition</th>\n",
       "      <th>Heating</th>\n",
       "      <th>Energy_source</th>\n",
       "      <th>State</th>\n",
       "      <th>Garagetype</th>\n",
       "      <th>Type</th>\n",
       "      <th>Price</th>\n",
       "    </tr>\n",
       "  </thead>\n",
       "  <tbody>\n",
       "    <tr>\n",
       "      <th>0</th>\n",
       "      <td>106.00</td>\n",
       "      <td>229.0</td>\n",
       "      <td>5.5</td>\n",
       "      <td>3.0</td>\n",
       "      <td>1.0</td>\n",
       "      <td>2.0</td>\n",
       "      <td>2005.0</td>\n",
       "      <td>NaN</td>\n",
       "      <td>2.0</td>\n",
       "      <td>modernized</td>\n",
       "      <td>central heating</td>\n",
       "      <td>gas</td>\n",
       "      <td>Baden-Württemberg</td>\n",
       "      <td>Parking lot</td>\n",
       "      <td>Multiple dwelling</td>\n",
       "      <td>498000.0</td>\n",
       "    </tr>\n",
       "    <tr>\n",
       "      <th>1</th>\n",
       "      <td>140.93</td>\n",
       "      <td>517.0</td>\n",
       "      <td>6.0</td>\n",
       "      <td>3.0</td>\n",
       "      <td>2.0</td>\n",
       "      <td>NaN</td>\n",
       "      <td>1994.0</td>\n",
       "      <td>NaN</td>\n",
       "      <td>7.0</td>\n",
       "      <td>modernized</td>\n",
       "      <td>stove heating</td>\n",
       "      <td>NaN</td>\n",
       "      <td>Baden-Württemberg</td>\n",
       "      <td>Parking lot</td>\n",
       "      <td>Mid-terrace house</td>\n",
       "      <td>495000.0</td>\n",
       "    </tr>\n",
       "    <tr>\n",
       "      <th>2</th>\n",
       "      <td>162.89</td>\n",
       "      <td>82.0</td>\n",
       "      <td>5.0</td>\n",
       "      <td>3.0</td>\n",
       "      <td>2.0</td>\n",
       "      <td>4.0</td>\n",
       "      <td>2013.0</td>\n",
       "      <td>NaN</td>\n",
       "      <td>1.0</td>\n",
       "      <td>dilapidated</td>\n",
       "      <td>stove heating</td>\n",
       "      <td>other combinations of energy sources</td>\n",
       "      <td>Baden-Württemberg</td>\n",
       "      <td>Garage</td>\n",
       "      <td>Farmhouse</td>\n",
       "      <td>749000.0</td>\n",
       "    </tr>\n",
       "    <tr>\n",
       "      <th>3</th>\n",
       "      <td>140.00</td>\n",
       "      <td>814.0</td>\n",
       "      <td>4.0</td>\n",
       "      <td>NaN</td>\n",
       "      <td>2.0</td>\n",
       "      <td>2.0</td>\n",
       "      <td>1900.0</td>\n",
       "      <td>2000.0</td>\n",
       "      <td>1.0</td>\n",
       "      <td>fixer-upper</td>\n",
       "      <td>central heating</td>\n",
       "      <td>electricity</td>\n",
       "      <td>Baden-Württemberg</td>\n",
       "      <td>Garage</td>\n",
       "      <td>Farmhouse</td>\n",
       "      <td>259000.0</td>\n",
       "    </tr>\n",
       "    <tr>\n",
       "      <th>4</th>\n",
       "      <td>115.00</td>\n",
       "      <td>244.0</td>\n",
       "      <td>4.5</td>\n",
       "      <td>2.0</td>\n",
       "      <td>1.0</td>\n",
       "      <td>NaN</td>\n",
       "      <td>1968.0</td>\n",
       "      <td>2019.0</td>\n",
       "      <td>1.0</td>\n",
       "      <td>refurbished</td>\n",
       "      <td>central heating</td>\n",
       "      <td>oil</td>\n",
       "      <td>Baden-Württemberg</td>\n",
       "      <td>Garage</td>\n",
       "      <td>Multiple dwelling</td>\n",
       "      <td>469000.0</td>\n",
       "    </tr>\n",
       "  </tbody>\n",
       "</table>\n",
       "</div>"
      ],
      "text/plain": [
       "   Living_space    Lot  Rooms  Bedrooms  Bathrooms  Floors  Year_built  \\\n",
       "0        106.00  229.0    5.5       3.0        1.0     2.0      2005.0   \n",
       "1        140.93  517.0    6.0       3.0        2.0     NaN      1994.0   \n",
       "2        162.89   82.0    5.0       3.0        2.0     4.0      2013.0   \n",
       "3        140.00  814.0    4.0       NaN        2.0     2.0      1900.0   \n",
       "4        115.00  244.0    4.5       2.0        1.0     NaN      1968.0   \n",
       "\n",
       "   Year_renovated  Garages    Condition          Heating  \\\n",
       "0             NaN      2.0   modernized  central heating   \n",
       "1             NaN      7.0   modernized    stove heating   \n",
       "2             NaN      1.0  dilapidated    stove heating   \n",
       "3          2000.0      1.0  fixer-upper  central heating   \n",
       "4          2019.0      1.0  refurbished  central heating   \n",
       "\n",
       "                          Energy_source              State   Garagetype  \\\n",
       "0                                   gas  Baden-Württemberg  Parking lot   \n",
       "1                                   NaN  Baden-Württemberg  Parking lot   \n",
       "2  other combinations of energy sources  Baden-Württemberg       Garage   \n",
       "3                           electricity  Baden-Württemberg       Garage   \n",
       "4                                   oil  Baden-Württemberg       Garage   \n",
       "\n",
       "                Type     Price  \n",
       "0  Multiple dwelling  498000.0  \n",
       "1  Mid-terrace house  495000.0  \n",
       "2          Farmhouse  749000.0  \n",
       "3          Farmhouse  259000.0  \n",
       "4  Multiple dwelling  469000.0  "
      ]
     },
     "execution_count": 2,
     "metadata": {},
     "output_type": "execute_result"
    }
   ],
   "source": [
    "# Uses csv-file with unwanted columns and data removed\n",
    "df = pd.read_csv('germany_housing_data_part2_after_cleaning.csv')\n",
    "df.head()"
   ]
  },
  {
   "cell_type": "markdown",
   "id": "stock-spank",
   "metadata": {},
   "source": [
    "### First check of dataset"
   ]
  },
  {
   "cell_type": "markdown",
   "id": "mature-newton",
   "metadata": {},
   "source": [
    "We start with a check of the dataset - what it contains and where the missing data is located. We also add a graph how much data is missing in the different columns."
   ]
  },
  {
   "cell_type": "code",
   "execution_count": 3,
   "id": "intellectual-pittsburgh",
   "metadata": {},
   "outputs": [
    {
     "name": "stdout",
     "output_type": "stream",
     "text": [
      "<class 'pandas.core.frame.DataFrame'>\n",
      "RangeIndex: 10527 entries, 0 to 10526\n",
      "Data columns (total 16 columns):\n",
      " #   Column          Non-Null Count  Dtype  \n",
      "---  ------          --------------  -----  \n",
      " 0   Living_space    10527 non-null  float64\n",
      " 1   Lot             10527 non-null  float64\n",
      " 2   Rooms           10527 non-null  float64\n",
      " 3   Bedrooms        6854 non-null   float64\n",
      " 4   Bathrooms       8726 non-null   float64\n",
      " 5   Floors          7865 non-null   float64\n",
      " 6   Year_built      9834 non-null   float64\n",
      " 7   Year_renovated  5326 non-null   float64\n",
      " 8   Garages         8573 non-null   float64\n",
      " 9   Condition       10206 non-null  object \n",
      " 10  Heating         9946 non-null   object \n",
      " 11  Energy_source   9301 non-null   object \n",
      " 12  State           10526 non-null  object \n",
      " 13  Garagetype      8573 non-null   object \n",
      " 14  Type            10126 non-null  object \n",
      " 15  Price           10527 non-null  float64\n",
      "dtypes: float64(10), object(6)\n",
      "memory usage: 1.3+ MB\n"
     ]
    }
   ],
   "source": [
    "df.info()"
   ]
  },
  {
   "cell_type": "code",
   "execution_count": 4,
   "id": "genetic-ratio",
   "metadata": {},
   "outputs": [
    {
     "data": {
      "text/plain": [
       "Living_space         0\n",
       "Lot                  0\n",
       "Rooms                0\n",
       "Bedrooms          3673\n",
       "Bathrooms         1801\n",
       "Floors            2662\n",
       "Year_built         693\n",
       "Year_renovated    5201\n",
       "Garages           1954\n",
       "Condition          321\n",
       "Heating            581\n",
       "Energy_source     1226\n",
       "State                1\n",
       "Garagetype        1954\n",
       "Type               401\n",
       "Price                0\n",
       "dtype: int64"
      ]
     },
     "execution_count": 4,
     "metadata": {},
     "output_type": "execute_result"
    }
   ],
   "source": [
    "# How many null-value is in each column\n",
    "df.isnull().sum()"
   ]
  },
  {
   "cell_type": "code",
   "execution_count": 5,
   "id": "violent-wallace",
   "metadata": {},
   "outputs": [
    {
     "data": {
      "image/png": "[encoded data removed]",
      "text/plain": [
       "<Figure size 432x288 with 1 Axes>"
      ]
     },
     "metadata": {
      "needs_background": "light"
     },
     "output_type": "display_data"
    }
   ],
   "source": [
    "sns.barplot(x=df.isnull().sum()/df.shape[0] * 100, y=df.columns)\n",
    "bins = np.arange(0, 100, 10)\n",
    "plt.xlabel(\"Percent null values\")\n",
    "plt.xticks(bins)\n",
    "plt.show()"
   ]
  },
  {
   "cell_type": "markdown",
   "id": "developed-patch",
   "metadata": {},
   "source": [
    "### Replace missing values in column 'Garages' and 'Garagetype'"
   ]
  },
  {
   "cell_type": "markdown",
   "id": "little-islam",
   "metadata": {},
   "source": [
    "Since there are no values for 0 garages, we concluded that a large percent, if not all, of the missing data in these columns could be just that. Houses with no parking left it blank. We decided to replace the missing data in 'Garages' with 0 and in 'Garagetype' with a new value 'No parking'"
   ]
  },
  {
   "cell_type": "code",
   "execution_count": 6,
   "id": "confused-marketing",
   "metadata": {},
   "outputs": [],
   "source": [
    "values = {'Garages': 0, 'Garagetype': 'No parking'}\n",
    "df.fillna(value=values, inplace=True)"
   ]
  },
  {
   "cell_type": "code",
   "execution_count": 7,
   "id": "expanded-tolerance",
   "metadata": {},
   "outputs": [
    {
     "name": "stdout",
     "output_type": "stream",
     "text": [
      "<class 'pandas.core.frame.DataFrame'>\n",
      "RangeIndex: 10527 entries, 0 to 10526\n",
      "Data columns (total 16 columns):\n",
      " #   Column          Non-Null Count  Dtype  \n",
      "---  ------          --------------  -----  \n",
      " 0   Living_space    10527 non-null  float64\n",
      " 1   Lot             10527 non-null  float64\n",
      " 2   Rooms           10527 non-null  float64\n",
      " 3   Bedrooms        6854 non-null   float64\n",
      " 4   Bathrooms       8726 non-null   float64\n",
      " 5   Floors          7865 non-null   float64\n",
      " 6   Year_built      9834 non-null   float64\n",
      " 7   Year_renovated  5326 non-null   float64\n",
      " 8   Garages         10527 non-null  float64\n",
      " 9   Condition       10206 non-null  object \n",
      " 10  Heating         9946 non-null   object \n",
      " 11  Energy_source   9301 non-null   object \n",
      " 12  State           10526 non-null  object \n",
      " 13  Garagetype      10527 non-null  object \n",
      " 14  Type            10126 non-null  object \n",
      " 15  Price           10527 non-null  float64\n",
      "dtypes: float64(10), object(6)\n",
      "memory usage: 1.3+ MB\n"
     ]
    }
   ],
   "source": [
    "df.info()"
   ]
  },
  {
   "cell_type": "markdown",
   "id": "perfect-reducing",
   "metadata": {},
   "source": [
    "### Replace missing values in column 'Year_renovated'  with 'Year_built'"
   ]
  },
  {
   "cell_type": "markdown",
   "id": "institutional-three",
   "metadata": {},
   "source": [
    "In the same way, we decided to replace a missing value in 'Year_renovated' with the value of 'Year_built'. \n",
    "The reason was that a large part of those who left 'Year_renovated' blank may not have done any renovation. \n",
    "\n",
    "However we concludes that the value should not be set as 0, because there is a big difference in a unrenovated house from 1970 and a unrenovated house from 2015. So we chose to use de value for 'Year_built'. \n",
    "\n",
    "'Year_renovated' will now only have missing data if there is missing data for 'Year_built' also."
   ]
  },
  {
   "cell_type": "code",
   "execution_count": 8,
   "id": "contemporary-psychology",
   "metadata": {},
   "outputs": [],
   "source": [
    "# Replace missing value in 'Year_renovated' with value from 'Year_built'\n",
    "df.Year_renovated.fillna(df.Year_built, inplace=True)"
   ]
  },
  {
   "cell_type": "markdown",
   "id": "north-scale",
   "metadata": {},
   "source": [
    "We check the dataset after this change."
   ]
  },
  {
   "cell_type": "code",
   "execution_count": 9,
   "id": "palestinian-medline",
   "metadata": {},
   "outputs": [
    {
     "data": {
      "text/html": [
       "<div>\n",
       "<style scoped>\n",
       "    .dataframe tbody tr th:only-of-type {\n",
       "        vertical-align: middle;\n",
       "    }\n",
       "\n",
       "    .dataframe tbody tr th {\n",
       "        vertical-align: top;\n",
       "    }\n",
       "\n",
       "    .dataframe thead th {\n",
       "        text-align: right;\n",
       "    }\n",
       "</style>\n",
       "<table border=\"1\" class=\"dataframe\">\n",
       "  <thead>\n",
       "    <tr style=\"text-align: right;\">\n",
       "      <th></th>\n",
       "      <th>Living_space</th>\n",
       "      <th>Lot</th>\n",
       "      <th>Rooms</th>\n",
       "      <th>Bedrooms</th>\n",
       "      <th>Bathrooms</th>\n",
       "      <th>Floors</th>\n",
       "      <th>Year_built</th>\n",
       "      <th>Year_renovated</th>\n",
       "      <th>Garages</th>\n",
       "      <th>Condition</th>\n",
       "      <th>Heating</th>\n",
       "      <th>Energy_source</th>\n",
       "      <th>State</th>\n",
       "      <th>Garagetype</th>\n",
       "      <th>Type</th>\n",
       "      <th>Price</th>\n",
       "    </tr>\n",
       "  </thead>\n",
       "  <tbody>\n",
       "    <tr>\n",
       "      <th>0</th>\n",
       "      <td>106.00</td>\n",
       "      <td>229.0</td>\n",
       "      <td>5.5</td>\n",
       "      <td>3.0</td>\n",
       "      <td>1.0</td>\n",
       "      <td>2.0</td>\n",
       "      <td>2005.0</td>\n",
       "      <td>2005.0</td>\n",
       "      <td>2.0</td>\n",
       "      <td>modernized</td>\n",
       "      <td>central heating</td>\n",
       "      <td>gas</td>\n",
       "      <td>Baden-Württemberg</td>\n",
       "      <td>Parking lot</td>\n",
       "      <td>Multiple dwelling</td>\n",
       "      <td>498000.0</td>\n",
       "    </tr>\n",
       "    <tr>\n",
       "      <th>1</th>\n",
       "      <td>140.93</td>\n",
       "      <td>517.0</td>\n",
       "      <td>6.0</td>\n",
       "      <td>3.0</td>\n",
       "      <td>2.0</td>\n",
       "      <td>NaN</td>\n",
       "      <td>1994.0</td>\n",
       "      <td>1994.0</td>\n",
       "      <td>7.0</td>\n",
       "      <td>modernized</td>\n",
       "      <td>stove heating</td>\n",
       "      <td>NaN</td>\n",
       "      <td>Baden-Württemberg</td>\n",
       "      <td>Parking lot</td>\n",
       "      <td>Mid-terrace house</td>\n",
       "      <td>495000.0</td>\n",
       "    </tr>\n",
       "    <tr>\n",
       "      <th>2</th>\n",
       "      <td>162.89</td>\n",
       "      <td>82.0</td>\n",
       "      <td>5.0</td>\n",
       "      <td>3.0</td>\n",
       "      <td>2.0</td>\n",
       "      <td>4.0</td>\n",
       "      <td>2013.0</td>\n",
       "      <td>2013.0</td>\n",
       "      <td>1.0</td>\n",
       "      <td>dilapidated</td>\n",
       "      <td>stove heating</td>\n",
       "      <td>other combinations of energy sources</td>\n",
       "      <td>Baden-Württemberg</td>\n",
       "      <td>Garage</td>\n",
       "      <td>Farmhouse</td>\n",
       "      <td>749000.0</td>\n",
       "    </tr>\n",
       "    <tr>\n",
       "      <th>3</th>\n",
       "      <td>140.00</td>\n",
       "      <td>814.0</td>\n",
       "      <td>4.0</td>\n",
       "      <td>NaN</td>\n",
       "      <td>2.0</td>\n",
       "      <td>2.0</td>\n",
       "      <td>1900.0</td>\n",
       "      <td>2000.0</td>\n",
       "      <td>1.0</td>\n",
       "      <td>fixer-upper</td>\n",
       "      <td>central heating</td>\n",
       "      <td>electricity</td>\n",
       "      <td>Baden-Württemberg</td>\n",
       "      <td>Garage</td>\n",
       "      <td>Farmhouse</td>\n",
       "      <td>259000.0</td>\n",
       "    </tr>\n",
       "    <tr>\n",
       "      <th>4</th>\n",
       "      <td>115.00</td>\n",
       "      <td>244.0</td>\n",
       "      <td>4.5</td>\n",
       "      <td>2.0</td>\n",
       "      <td>1.0</td>\n",
       "      <td>NaN</td>\n",
       "      <td>1968.0</td>\n",
       "      <td>2019.0</td>\n",
       "      <td>1.0</td>\n",
       "      <td>refurbished</td>\n",
       "      <td>central heating</td>\n",
       "      <td>oil</td>\n",
       "      <td>Baden-Württemberg</td>\n",
       "      <td>Garage</td>\n",
       "      <td>Multiple dwelling</td>\n",
       "      <td>469000.0</td>\n",
       "    </tr>\n",
       "    <tr>\n",
       "      <th>...</th>\n",
       "      <td>...</td>\n",
       "      <td>...</td>\n",
       "      <td>...</td>\n",
       "      <td>...</td>\n",
       "      <td>...</td>\n",
       "      <td>...</td>\n",
       "      <td>...</td>\n",
       "      <td>...</td>\n",
       "      <td>...</td>\n",
       "      <td>...</td>\n",
       "      <td>...</td>\n",
       "      <td>...</td>\n",
       "      <td>...</td>\n",
       "      <td>...</td>\n",
       "      <td>...</td>\n",
       "      <td>...</td>\n",
       "    </tr>\n",
       "    <tr>\n",
       "      <th>10522</th>\n",
       "      <td>167.00</td>\n",
       "      <td>683.0</td>\n",
       "      <td>6.5</td>\n",
       "      <td>4.0</td>\n",
       "      <td>3.0</td>\n",
       "      <td>NaN</td>\n",
       "      <td>1976.0</td>\n",
       "      <td>2015.0</td>\n",
       "      <td>1.0</td>\n",
       "      <td>first occupation after refurbishment</td>\n",
       "      <td>stove heating</td>\n",
       "      <td>district heating</td>\n",
       "      <td>Bayern</td>\n",
       "      <td>Garage</td>\n",
       "      <td>Special property</td>\n",
       "      <td>1495000.0</td>\n",
       "    </tr>\n",
       "    <tr>\n",
       "      <th>10523</th>\n",
       "      <td>222.00</td>\n",
       "      <td>4000.0</td>\n",
       "      <td>6.0</td>\n",
       "      <td>5.0</td>\n",
       "      <td>3.0</td>\n",
       "      <td>1.0</td>\n",
       "      <td>2017.0</td>\n",
       "      <td>2020.0</td>\n",
       "      <td>4.0</td>\n",
       "      <td>dilapidated</td>\n",
       "      <td>oil heating</td>\n",
       "      <td>geothermal energy</td>\n",
       "      <td>Sachsen-Anhalt</td>\n",
       "      <td>Parking lot</td>\n",
       "      <td>Mid-terrace house</td>\n",
       "      <td>449000.0</td>\n",
       "    </tr>\n",
       "    <tr>\n",
       "      <th>10524</th>\n",
       "      <td>142.00</td>\n",
       "      <td>377.0</td>\n",
       "      <td>4.0</td>\n",
       "      <td>3.0</td>\n",
       "      <td>NaN</td>\n",
       "      <td>NaN</td>\n",
       "      <td>2021.0</td>\n",
       "      <td>2021.0</td>\n",
       "      <td>2.0</td>\n",
       "      <td>dilapidated</td>\n",
       "      <td>central heating</td>\n",
       "      <td>NaN</td>\n",
       "      <td>Bayern</td>\n",
       "      <td>Garage</td>\n",
       "      <td>Mid-terrace house</td>\n",
       "      <td>678000.0</td>\n",
       "    </tr>\n",
       "    <tr>\n",
       "      <th>10525</th>\n",
       "      <td>120.83</td>\n",
       "      <td>501.0</td>\n",
       "      <td>5.0</td>\n",
       "      <td>NaN</td>\n",
       "      <td>1.0</td>\n",
       "      <td>2.0</td>\n",
       "      <td>2019.0</td>\n",
       "      <td>2019.0</td>\n",
       "      <td>1.0</td>\n",
       "      <td>NaN</td>\n",
       "      <td>stove heating</td>\n",
       "      <td>NaN</td>\n",
       "      <td>Sachsen-Anhalt</td>\n",
       "      <td>Garage</td>\n",
       "      <td>Mid-terrace house</td>\n",
       "      <td>419900.0</td>\n",
       "    </tr>\n",
       "    <tr>\n",
       "      <th>10526</th>\n",
       "      <td>145.00</td>\n",
       "      <td>357.0</td>\n",
       "      <td>5.5</td>\n",
       "      <td>4.0</td>\n",
       "      <td>1.0</td>\n",
       "      <td>3.0</td>\n",
       "      <td>2015.0</td>\n",
       "      <td>2015.0</td>\n",
       "      <td>2.0</td>\n",
       "      <td>dilapidated</td>\n",
       "      <td>oil heating</td>\n",
       "      <td>solar, gas</td>\n",
       "      <td>Bayern</td>\n",
       "      <td>Garage</td>\n",
       "      <td>Multiple dwelling</td>\n",
       "      <td>699000.0</td>\n",
       "    </tr>\n",
       "  </tbody>\n",
       "</table>\n",
       "<p>10527 rows × 16 columns</p>\n",
       "</div>"
      ],
      "text/plain": [
       "       Living_space     Lot  Rooms  Bedrooms  Bathrooms  Floors  Year_built  \\\n",
       "0            106.00   229.0    5.5       3.0        1.0     2.0      2005.0   \n",
       "1            140.93   517.0    6.0       3.0        2.0     NaN      1994.0   \n",
       "2            162.89    82.0    5.0       3.0        2.0     4.0      2013.0   \n",
       "3            140.00   814.0    4.0       NaN        2.0     2.0      1900.0   \n",
       "4            115.00   244.0    4.5       2.0        1.0     NaN      1968.0   \n",
       "...             ...     ...    ...       ...        ...     ...         ...   \n",
       "10522        167.00   683.0    6.5       4.0        3.0     NaN      1976.0   \n",
       "10523        222.00  4000.0    6.0       5.0        3.0     1.0      2017.0   \n",
       "10524        142.00   377.0    4.0       3.0        NaN     NaN      2021.0   \n",
       "10525        120.83   501.0    5.0       NaN        1.0     2.0      2019.0   \n",
       "10526        145.00   357.0    5.5       4.0        1.0     3.0      2015.0   \n",
       "\n",
       "       Year_renovated  Garages                             Condition  \\\n",
       "0              2005.0      2.0                            modernized   \n",
       "1              1994.0      7.0                            modernized   \n",
       "2              2013.0      1.0                           dilapidated   \n",
       "3              2000.0      1.0                           fixer-upper   \n",
       "4              2019.0      1.0                           refurbished   \n",
       "...               ...      ...                                   ...   \n",
       "10522          2015.0      1.0  first occupation after refurbishment   \n",
       "10523          2020.0      4.0                           dilapidated   \n",
       "10524          2021.0      2.0                           dilapidated   \n",
       "10525          2019.0      1.0                                   NaN   \n",
       "10526          2015.0      2.0                           dilapidated   \n",
       "\n",
       "               Heating                         Energy_source  \\\n",
       "0      central heating                                   gas   \n",
       "1        stove heating                                   NaN   \n",
       "2        stove heating  other combinations of energy sources   \n",
       "3      central heating                           electricity   \n",
       "4      central heating                                   oil   \n",
       "...                ...                                   ...   \n",
       "10522    stove heating                      district heating   \n",
       "10523      oil heating                     geothermal energy   \n",
       "10524  central heating                                   NaN   \n",
       "10525    stove heating                                   NaN   \n",
       "10526      oil heating                            solar, gas   \n",
       "\n",
       "                   State   Garagetype               Type      Price  \n",
       "0      Baden-Württemberg  Parking lot  Multiple dwelling   498000.0  \n",
       "1      Baden-Württemberg  Parking lot  Mid-terrace house   495000.0  \n",
       "2      Baden-Württemberg       Garage          Farmhouse   749000.0  \n",
       "3      Baden-Württemberg       Garage          Farmhouse   259000.0  \n",
       "4      Baden-Württemberg       Garage  Multiple dwelling   469000.0  \n",
       "...                  ...          ...                ...        ...  \n",
       "10522             Bayern       Garage   Special property  1495000.0  \n",
       "10523     Sachsen-Anhalt  Parking lot  Mid-terrace house   449000.0  \n",
       "10524             Bayern       Garage  Mid-terrace house   678000.0  \n",
       "10525     Sachsen-Anhalt       Garage  Mid-terrace house   419900.0  \n",
       "10526             Bayern       Garage  Multiple dwelling   699000.0  \n",
       "\n",
       "[10527 rows x 16 columns]"
      ]
     },
     "execution_count": 9,
     "metadata": {},
     "output_type": "execute_result"
    }
   ],
   "source": [
    "# Show df in new form\n",
    "df"
   ]
  },
  {
   "cell_type": "code",
   "execution_count": 10,
   "id": "warming-objective",
   "metadata": {},
   "outputs": [
    {
     "name": "stdout",
     "output_type": "stream",
     "text": [
      "<class 'pandas.core.frame.DataFrame'>\n",
      "RangeIndex: 10527 entries, 0 to 10526\n",
      "Data columns (total 16 columns):\n",
      " #   Column          Non-Null Count  Dtype  \n",
      "---  ------          --------------  -----  \n",
      " 0   Living_space    10527 non-null  float64\n",
      " 1   Lot             10527 non-null  float64\n",
      " 2   Rooms           10527 non-null  float64\n",
      " 3   Bedrooms        6854 non-null   float64\n",
      " 4   Bathrooms       8726 non-null   float64\n",
      " 5   Floors          7865 non-null   float64\n",
      " 6   Year_built      9834 non-null   float64\n",
      " 7   Year_renovated  10187 non-null  float64\n",
      " 8   Garages         10527 non-null  float64\n",
      " 9   Condition       10206 non-null  object \n",
      " 10  Heating         9946 non-null   object \n",
      " 11  Energy_source   9301 non-null   object \n",
      " 12  State           10526 non-null  object \n",
      " 13  Garagetype      10527 non-null  object \n",
      " 14  Type            10126 non-null  object \n",
      " 15  Price           10527 non-null  float64\n",
      "dtypes: float64(10), object(6)\n",
      "memory usage: 1.3+ MB\n"
     ]
    }
   ],
   "source": [
    "df.info()"
   ]
  },
  {
   "cell_type": "code",
   "execution_count": 11,
   "id": "linear-seven",
   "metadata": {},
   "outputs": [
    {
     "data": {
      "image/png": "[encoded data removed]",
      "text/plain": [
       "<Figure size 432x288 with 1 Axes>"
      ]
     },
     "metadata": {
      "needs_background": "light"
     },
     "output_type": "display_data"
    }
   ],
   "source": [
    "sns.barplot(x=df.isnull().sum()/df.shape[0] * 100, y=df.columns)\n",
    "bins = np.arange(0, 100, 10)\n",
    "plt.xlabel(\"Percent null values\")\n",
    "plt.xticks(bins)\n",
    "plt.show()"
   ]
  },
  {
   "cell_type": "markdown",
   "id": "blank-blackberry",
   "metadata": {},
   "source": [
    "### Remove all remaining rows with missing data"
   ]
  },
  {
   "cell_type": "markdown",
   "id": "proper-contribution",
   "metadata": {},
   "source": [
    "We remove all rows that still contains a missing value and check the dataset again"
   ]
  },
  {
   "cell_type": "code",
   "execution_count": 12,
   "id": "dried-drama",
   "metadata": {},
   "outputs": [],
   "source": [
    "# Removes all rows with a missing value\n",
    "df.dropna(inplace=True)"
   ]
  },
  {
   "cell_type": "code",
   "execution_count": 13,
   "id": "composed-blast",
   "metadata": {},
   "outputs": [
    {
     "name": "stdout",
     "output_type": "stream",
     "text": [
      "<class 'pandas.core.frame.DataFrame'>\n",
      "Int64Index: 4142 entries, 0 to 10526\n",
      "Data columns (total 16 columns):\n",
      " #   Column          Non-Null Count  Dtype  \n",
      "---  ------          --------------  -----  \n",
      " 0   Living_space    4142 non-null   float64\n",
      " 1   Lot             4142 non-null   float64\n",
      " 2   Rooms           4142 non-null   float64\n",
      " 3   Bedrooms        4142 non-null   float64\n",
      " 4   Bathrooms       4142 non-null   float64\n",
      " 5   Floors          4142 non-null   float64\n",
      " 6   Year_built      4142 non-null   float64\n",
      " 7   Year_renovated  4142 non-null   float64\n",
      " 8   Garages         4142 non-null   float64\n",
      " 9   Condition       4142 non-null   object \n",
      " 10  Heating         4142 non-null   object \n",
      " 11  Energy_source   4142 non-null   object \n",
      " 12  State           4142 non-null   object \n",
      " 13  Garagetype      4142 non-null   object \n",
      " 14  Type            4142 non-null   object \n",
      " 15  Price           4142 non-null   float64\n",
      "dtypes: float64(10), object(6)\n",
      "memory usage: 550.1+ KB\n"
     ]
    }
   ],
   "source": [
    "df.info()"
   ]
  },
  {
   "cell_type": "code",
   "execution_count": 14,
   "id": "handy-local",
   "metadata": {},
   "outputs": [
    {
     "data": {
      "image/png": "[encoded data removed]",
      "text/plain": [
       "<Figure size 432x288 with 1 Axes>"
      ]
     },
     "metadata": {
      "needs_background": "light"
     },
     "output_type": "display_data"
    }
   ],
   "source": [
    "sns.barplot(x=df.isnull().sum()/df.shape[0] * 100, y=df.columns)\n",
    "bins = np.arange(0, 100, 10)\n",
    "plt.xlabel(\"Percent null values\")\n",
    "plt.xticks(bins)\n",
    "plt.show()"
   ]
  },
  {
   "cell_type": "markdown",
   "id": "respected-moderator",
   "metadata": {},
   "source": [
    "### Result"
   ]
  },
  {
   "cell_type": "markdown",
   "id": "suitable-bristol",
   "metadata": {},
   "source": [
    "Our dataset went from 10 527 to 4 142 rows after first change missing values in 'Garages','Garagetype' and 'Year_renovated', and then remove remaining missing values.\n",
    "\n",
    "This can compare to Part 3A (where we removed all rows with missing data) there we went from 10 552 to 2 062 rows after removing missing values."
   ]
  },
  {
   "cell_type": "markdown",
   "id": "passive-powell",
   "metadata": {},
   "source": [
    "### Saving the changes"
   ]
  },
  {
   "cell_type": "markdown",
   "id": "after-fortune",
   "metadata": {},
   "source": [
    "We save our changes to a new csv-file to use, when we start the process of trying to find the best model."
   ]
  },
  {
   "cell_type": "code",
   "execution_count": 15,
   "id": "wound-stuart",
   "metadata": {},
   "outputs": [],
   "source": [
    "# Create a new csv-file based on this option\n",
    "df.to_csv('germany_housing_data_part3B_removed_missing_values.csv', index=False)"
   ]
  },
  {
   "cell_type": "code",
   "execution_count": null,
   "id": "manufactured-appliance",
   "metadata": {},
   "outputs": [],
   "source": []
  }
 ],
 "metadata": {
  "kernelspec": {
   "display_name": "Python 3",
   "language": "python",
   "name": "python3"
  },
  "language_info": {
   "codemirror_mode": {
    "name": "ipython",
    "version": 3
   },
   "file_extension": ".py",
   "mimetype": "text/x-python",
   "name": "python",
   "nbconvert_exporter": "python",
   "pygments_lexer": "ipython3",
   "version": "3.9.2"
  }
 },
 "nbformat": 4,
 "nbformat_minor": 5
}
