{
 "cells": [
  {
   "cell_type": "markdown",
   "metadata": {
    "id": "r3cas2_1T98w"
   },
   "source": [
    "# Model selection, XGBoost data set 2"
   ]
  },
  {
   "cell_type": "markdown",
   "metadata": {
    "id": "IODliia6U1xO"
   },
   "source": [
    "## Importing the libraries"
   ]
  },
  {
   "cell_type": "code",
   "execution_count": 1,
   "metadata": {
    "id": "y98nA5UdU6Hf"
   },
   "outputs": [],
   "source": [
    "import numpy as np\n",
    "import matplotlib.pyplot as plt\n",
    "import pandas as pd\n",
    "import warnings\n",
    "warnings.filterwarnings(\"ignore\")"
   ]
  },
  {
   "cell_type": "markdown",
   "metadata": {
    "id": "jpjZ43YlU8eI"
   },
   "source": [
    "## Importing the dataset"
   ]
  },
  {
   "cell_type": "code",
   "execution_count": 2,
   "metadata": {
    "colab": {
     "base_uri": "https://localhost:8080/",
     "height": 289
    },
    "id": "pLVaXoYVU_Uy",
    "outputId": "e7c7af53-fb69-43bc-e8bc-71e445563bc9"
   },
   "outputs": [
    {
     "data": {
      "text/html": [
       "<div>\n",
       "<style scoped>\n",
       "    .dataframe tbody tr th:only-of-type {\n",
       "        vertical-align: middle;\n",
       "    }\n",
       "\n",
       "    .dataframe tbody tr th {\n",
       "        vertical-align: top;\n",
       "    }\n",
       "\n",
       "    .dataframe thead th {\n",
       "        text-align: right;\n",
       "    }\n",
       "</style>\n",
       "<table border=\"1\" class=\"dataframe\">\n",
       "  <thead>\n",
       "    <tr style=\"text-align: right;\">\n",
       "      <th></th>\n",
       "      <th>Living_space</th>\n",
       "      <th>Lot</th>\n",
       "      <th>Rooms</th>\n",
       "      <th>Bedrooms</th>\n",
       "      <th>Bathrooms</th>\n",
       "      <th>Floors</th>\n",
       "      <th>Year_built</th>\n",
       "      <th>Year_renovated</th>\n",
       "      <th>Garages</th>\n",
       "      <th>Condition</th>\n",
       "      <th>Heating</th>\n",
       "      <th>Energy_source</th>\n",
       "      <th>State</th>\n",
       "      <th>Garagetype</th>\n",
       "      <th>Type</th>\n",
       "      <th>Price</th>\n",
       "    </tr>\n",
       "  </thead>\n",
       "  <tbody>\n",
       "    <tr>\n",
       "      <th>0</th>\n",
       "      <td>106.00</td>\n",
       "      <td>229.0</td>\n",
       "      <td>5.5</td>\n",
       "      <td>3.0</td>\n",
       "      <td>1.0</td>\n",
       "      <td>2.0</td>\n",
       "      <td>2005.0</td>\n",
       "      <td>NaN</td>\n",
       "      <td>2.0</td>\n",
       "      <td>modernized</td>\n",
       "      <td>central heating</td>\n",
       "      <td>gas</td>\n",
       "      <td>Baden-Württemberg</td>\n",
       "      <td>Parking lot</td>\n",
       "      <td>Multiple dwelling</td>\n",
       "      <td>498000.0</td>\n",
       "    </tr>\n",
       "    <tr>\n",
       "      <th>1</th>\n",
       "      <td>140.93</td>\n",
       "      <td>517.0</td>\n",
       "      <td>6.0</td>\n",
       "      <td>3.0</td>\n",
       "      <td>2.0</td>\n",
       "      <td>NaN</td>\n",
       "      <td>1994.0</td>\n",
       "      <td>NaN</td>\n",
       "      <td>7.0</td>\n",
       "      <td>modernized</td>\n",
       "      <td>stove heating</td>\n",
       "      <td>NaN</td>\n",
       "      <td>Baden-Württemberg</td>\n",
       "      <td>Parking lot</td>\n",
       "      <td>Mid-terrace house</td>\n",
       "      <td>495000.0</td>\n",
       "    </tr>\n",
       "    <tr>\n",
       "      <th>2</th>\n",
       "      <td>162.89</td>\n",
       "      <td>82.0</td>\n",
       "      <td>5.0</td>\n",
       "      <td>3.0</td>\n",
       "      <td>2.0</td>\n",
       "      <td>4.0</td>\n",
       "      <td>2013.0</td>\n",
       "      <td>NaN</td>\n",
       "      <td>1.0</td>\n",
       "      <td>dilapidated</td>\n",
       "      <td>stove heating</td>\n",
       "      <td>other combinations of energy sources</td>\n",
       "      <td>Baden-Württemberg</td>\n",
       "      <td>Garage</td>\n",
       "      <td>Farmhouse</td>\n",
       "      <td>749000.0</td>\n",
       "    </tr>\n",
       "    <tr>\n",
       "      <th>3</th>\n",
       "      <td>140.00</td>\n",
       "      <td>814.0</td>\n",
       "      <td>4.0</td>\n",
       "      <td>NaN</td>\n",
       "      <td>2.0</td>\n",
       "      <td>2.0</td>\n",
       "      <td>1900.0</td>\n",
       "      <td>2000.0</td>\n",
       "      <td>1.0</td>\n",
       "      <td>fixer-upper</td>\n",
       "      <td>central heating</td>\n",
       "      <td>electricity</td>\n",
       "      <td>Baden-Württemberg</td>\n",
       "      <td>Garage</td>\n",
       "      <td>Farmhouse</td>\n",
       "      <td>259000.0</td>\n",
       "    </tr>\n",
       "    <tr>\n",
       "      <th>4</th>\n",
       "      <td>115.00</td>\n",
       "      <td>244.0</td>\n",
       "      <td>4.5</td>\n",
       "      <td>2.0</td>\n",
       "      <td>1.0</td>\n",
       "      <td>NaN</td>\n",
       "      <td>1968.0</td>\n",
       "      <td>2019.0</td>\n",
       "      <td>1.0</td>\n",
       "      <td>refurbished</td>\n",
       "      <td>central heating</td>\n",
       "      <td>oil</td>\n",
       "      <td>Baden-Württemberg</td>\n",
       "      <td>Garage</td>\n",
       "      <td>Multiple dwelling</td>\n",
       "      <td>469000.0</td>\n",
       "    </tr>\n",
       "  </tbody>\n",
       "</table>\n",
       "</div>"
      ],
      "text/plain": [
       "   Living_space    Lot  Rooms  Bedrooms  Bathrooms  Floors  Year_built  \\\n",
       "0        106.00  229.0    5.5       3.0        1.0     2.0      2005.0   \n",
       "1        140.93  517.0    6.0       3.0        2.0     NaN      1994.0   \n",
       "2        162.89   82.0    5.0       3.0        2.0     4.0      2013.0   \n",
       "3        140.00  814.0    4.0       NaN        2.0     2.0      1900.0   \n",
       "4        115.00  244.0    4.5       2.0        1.0     NaN      1968.0   \n",
       "\n",
       "   Year_renovated  Garages    Condition          Heating  \\\n",
       "0             NaN      2.0   modernized  central heating   \n",
       "1             NaN      7.0   modernized    stove heating   \n",
       "2             NaN      1.0  dilapidated    stove heating   \n",
       "3          2000.0      1.0  fixer-upper  central heating   \n",
       "4          2019.0      1.0  refurbished  central heating   \n",
       "\n",
       "                          Energy_source              State   Garagetype  \\\n",
       "0                                   gas  Baden-Württemberg  Parking lot   \n",
       "1                                   NaN  Baden-Württemberg  Parking lot   \n",
       "2  other combinations of energy sources  Baden-Württemberg       Garage   \n",
       "3                           electricity  Baden-Württemberg       Garage   \n",
       "4                                   oil  Baden-Württemberg       Garage   \n",
       "\n",
       "                Type     Price  \n",
       "0  Multiple dwelling  498000.0  \n",
       "1  Mid-terrace house  495000.0  \n",
       "2          Farmhouse  749000.0  \n",
       "3          Farmhouse  259000.0  \n",
       "4  Multiple dwelling  469000.0  "
      ]
     },
     "execution_count": 2,
     "metadata": {},
     "output_type": "execute_result"
    }
   ],
   "source": [
    "dataset = pd.read_csv('germany_housing_data_part2_after_cleaning.csv')\n",
    "X = dataset.iloc[:, :-1]\n",
    "y = dataset.iloc[:, -1]\n",
    "dataset.head()"
   ]
  },
  {
   "cell_type": "markdown",
   "metadata": {
    "id": "BSG-NjWNiTTP"
   },
   "source": [
    "## Encoding categorical data"
   ]
  },
  {
   "cell_type": "markdown",
   "metadata": {
    "id": "3KEVnY2MiTTQ"
   },
   "source": [
    "We can see below, that the column numbers 9 - 14 have categorical data and must be one hot encoded"
   ]
  },
  {
   "cell_type": "code",
   "execution_count": 3,
   "metadata": {
    "colab": {
     "base_uri": "https://localhost:8080/"
    },
    "id": "SLF0lyCRiTTQ",
    "outputId": "55007f42-e830-4064-bd71-e655d9acb8d2"
   },
   "outputs": [
    {
     "name": "stdout",
     "output_type": "stream",
     "text": [
      "<class 'pandas.core.frame.DataFrame'>\n",
      "RangeIndex: 10527 entries, 0 to 10526\n",
      "Data columns (total 16 columns):\n",
      " #   Column          Non-Null Count  Dtype  \n",
      "---  ------          --------------  -----  \n",
      " 0   Living_space    10527 non-null  float64\n",
      " 1   Lot             10527 non-null  float64\n",
      " 2   Rooms           10527 non-null  float64\n",
      " 3   Bedrooms        6854 non-null   float64\n",
      " 4   Bathrooms       8726 non-null   float64\n",
      " 5   Floors          7865 non-null   float64\n",
      " 6   Year_built      9834 non-null   float64\n",
      " 7   Year_renovated  5326 non-null   float64\n",
      " 8   Garages         8573 non-null   float64\n",
      " 9   Condition       10206 non-null  object \n",
      " 10  Heating         9946 non-null   object \n",
      " 11  Energy_source   9301 non-null   object \n",
      " 12  State           10526 non-null  object \n",
      " 13  Garagetype      8573 non-null   object \n",
      " 14  Type            10126 non-null  object \n",
      " 15  Price           10527 non-null  float64\n",
      "dtypes: float64(10), object(6)\n",
      "memory usage: 1.3+ MB\n"
     ]
    }
   ],
   "source": [
    "dataset.info()"
   ]
  },
  {
   "cell_type": "markdown",
   "metadata": {
    "id": "YjYGMCxUp17G"
   },
   "source": [
    "### The onehot encoding of the columns"
   ]
  },
  {
   "cell_type": "code",
   "execution_count": 4,
   "metadata": {
    "colab": {
     "base_uri": "https://localhost:8080/",
     "height": 459
    },
    "id": "0Y0-fCjZiTTS",
    "outputId": "cb3bdbb5-5710-490c-9f52-7e670381432d"
   },
   "outputs": [
    {
     "data": {
      "text/html": [
       "<div>\n",
       "<style scoped>\n",
       "    .dataframe tbody tr th:only-of-type {\n",
       "        vertical-align: middle;\n",
       "    }\n",
       "\n",
       "    .dataframe tbody tr th {\n",
       "        vertical-align: top;\n",
       "    }\n",
       "\n",
       "    .dataframe thead th {\n",
       "        text-align: right;\n",
       "    }\n",
       "</style>\n",
       "<table border=\"1\" class=\"dataframe\">\n",
       "  <thead>\n",
       "    <tr style=\"text-align: right;\">\n",
       "      <th></th>\n",
       "      <th>Living_space</th>\n",
       "      <th>Lot</th>\n",
       "      <th>Rooms</th>\n",
       "      <th>Bedrooms</th>\n",
       "      <th>Bathrooms</th>\n",
       "      <th>Floors</th>\n",
       "      <th>Year_built</th>\n",
       "      <th>Year_renovated</th>\n",
       "      <th>Garages</th>\n",
       "      <th>Condition_as new</th>\n",
       "      <th>...</th>\n",
       "      <th>Type_Castle</th>\n",
       "      <th>Type_Corner house</th>\n",
       "      <th>Type_Duplex</th>\n",
       "      <th>Type_Farmhouse</th>\n",
       "      <th>Type_Mid-terrace house</th>\n",
       "      <th>Type_Multiple dwelling</th>\n",
       "      <th>Type_Residential property</th>\n",
       "      <th>Type_Single dwelling</th>\n",
       "      <th>Type_Special property</th>\n",
       "      <th>Type_Villa</th>\n",
       "    </tr>\n",
       "  </thead>\n",
       "  <tbody>\n",
       "    <tr>\n",
       "      <th>0</th>\n",
       "      <td>106.00</td>\n",
       "      <td>229.0</td>\n",
       "      <td>5.5</td>\n",
       "      <td>3.0</td>\n",
       "      <td>1.0</td>\n",
       "      <td>2.0</td>\n",
       "      <td>2005.0</td>\n",
       "      <td>NaN</td>\n",
       "      <td>2.0</td>\n",
       "      <td>0</td>\n",
       "      <td>...</td>\n",
       "      <td>0</td>\n",
       "      <td>0</td>\n",
       "      <td>0</td>\n",
       "      <td>0</td>\n",
       "      <td>0</td>\n",
       "      <td>1</td>\n",
       "      <td>0</td>\n",
       "      <td>0</td>\n",
       "      <td>0</td>\n",
       "      <td>0</td>\n",
       "    </tr>\n",
       "    <tr>\n",
       "      <th>1</th>\n",
       "      <td>140.93</td>\n",
       "      <td>517.0</td>\n",
       "      <td>6.0</td>\n",
       "      <td>3.0</td>\n",
       "      <td>2.0</td>\n",
       "      <td>NaN</td>\n",
       "      <td>1994.0</td>\n",
       "      <td>NaN</td>\n",
       "      <td>7.0</td>\n",
       "      <td>0</td>\n",
       "      <td>...</td>\n",
       "      <td>0</td>\n",
       "      <td>0</td>\n",
       "      <td>0</td>\n",
       "      <td>0</td>\n",
       "      <td>1</td>\n",
       "      <td>0</td>\n",
       "      <td>0</td>\n",
       "      <td>0</td>\n",
       "      <td>0</td>\n",
       "      <td>0</td>\n",
       "    </tr>\n",
       "    <tr>\n",
       "      <th>2</th>\n",
       "      <td>162.89</td>\n",
       "      <td>82.0</td>\n",
       "      <td>5.0</td>\n",
       "      <td>3.0</td>\n",
       "      <td>2.0</td>\n",
       "      <td>4.0</td>\n",
       "      <td>2013.0</td>\n",
       "      <td>NaN</td>\n",
       "      <td>1.0</td>\n",
       "      <td>0</td>\n",
       "      <td>...</td>\n",
       "      <td>0</td>\n",
       "      <td>0</td>\n",
       "      <td>0</td>\n",
       "      <td>1</td>\n",
       "      <td>0</td>\n",
       "      <td>0</td>\n",
       "      <td>0</td>\n",
       "      <td>0</td>\n",
       "      <td>0</td>\n",
       "      <td>0</td>\n",
       "    </tr>\n",
       "    <tr>\n",
       "      <th>3</th>\n",
       "      <td>140.00</td>\n",
       "      <td>814.0</td>\n",
       "      <td>4.0</td>\n",
       "      <td>NaN</td>\n",
       "      <td>2.0</td>\n",
       "      <td>2.0</td>\n",
       "      <td>1900.0</td>\n",
       "      <td>2000.0</td>\n",
       "      <td>1.0</td>\n",
       "      <td>0</td>\n",
       "      <td>...</td>\n",
       "      <td>0</td>\n",
       "      <td>0</td>\n",
       "      <td>0</td>\n",
       "      <td>1</td>\n",
       "      <td>0</td>\n",
       "      <td>0</td>\n",
       "      <td>0</td>\n",
       "      <td>0</td>\n",
       "      <td>0</td>\n",
       "      <td>0</td>\n",
       "    </tr>\n",
       "    <tr>\n",
       "      <th>4</th>\n",
       "      <td>115.00</td>\n",
       "      <td>244.0</td>\n",
       "      <td>4.5</td>\n",
       "      <td>2.0</td>\n",
       "      <td>1.0</td>\n",
       "      <td>NaN</td>\n",
       "      <td>1968.0</td>\n",
       "      <td>2019.0</td>\n",
       "      <td>1.0</td>\n",
       "      <td>0</td>\n",
       "      <td>...</td>\n",
       "      <td>0</td>\n",
       "      <td>0</td>\n",
       "      <td>0</td>\n",
       "      <td>0</td>\n",
       "      <td>0</td>\n",
       "      <td>1</td>\n",
       "      <td>0</td>\n",
       "      <td>0</td>\n",
       "      <td>0</td>\n",
       "      <td>0</td>\n",
       "    </tr>\n",
       "    <tr>\n",
       "      <th>5</th>\n",
       "      <td>310.00</td>\n",
       "      <td>860.0</td>\n",
       "      <td>8.0</td>\n",
       "      <td>NaN</td>\n",
       "      <td>NaN</td>\n",
       "      <td>3.0</td>\n",
       "      <td>1969.0</td>\n",
       "      <td>NaN</td>\n",
       "      <td>2.0</td>\n",
       "      <td>0</td>\n",
       "      <td>...</td>\n",
       "      <td>0</td>\n",
       "      <td>0</td>\n",
       "      <td>0</td>\n",
       "      <td>0</td>\n",
       "      <td>1</td>\n",
       "      <td>0</td>\n",
       "      <td>0</td>\n",
       "      <td>0</td>\n",
       "      <td>0</td>\n",
       "      <td>0</td>\n",
       "    </tr>\n",
       "    <tr>\n",
       "      <th>6</th>\n",
       "      <td>502.00</td>\n",
       "      <td>5300.0</td>\n",
       "      <td>13.0</td>\n",
       "      <td>NaN</td>\n",
       "      <td>4.0</td>\n",
       "      <td>NaN</td>\n",
       "      <td>2004.0</td>\n",
       "      <td>NaN</td>\n",
       "      <td>7.0</td>\n",
       "      <td>0</td>\n",
       "      <td>...</td>\n",
       "      <td>0</td>\n",
       "      <td>0</td>\n",
       "      <td>1</td>\n",
       "      <td>0</td>\n",
       "      <td>0</td>\n",
       "      <td>0</td>\n",
       "      <td>0</td>\n",
       "      <td>0</td>\n",
       "      <td>0</td>\n",
       "      <td>0</td>\n",
       "    </tr>\n",
       "    <tr>\n",
       "      <th>7</th>\n",
       "      <td>263.00</td>\n",
       "      <td>406.0</td>\n",
       "      <td>10.0</td>\n",
       "      <td>NaN</td>\n",
       "      <td>NaN</td>\n",
       "      <td>3.0</td>\n",
       "      <td>1989.0</td>\n",
       "      <td>NaN</td>\n",
       "      <td>2.0</td>\n",
       "      <td>0</td>\n",
       "      <td>...</td>\n",
       "      <td>0</td>\n",
       "      <td>0</td>\n",
       "      <td>1</td>\n",
       "      <td>0</td>\n",
       "      <td>0</td>\n",
       "      <td>0</td>\n",
       "      <td>0</td>\n",
       "      <td>0</td>\n",
       "      <td>0</td>\n",
       "      <td>0</td>\n",
       "    </tr>\n",
       "    <tr>\n",
       "      <th>8</th>\n",
       "      <td>227.00</td>\n",
       "      <td>973.0</td>\n",
       "      <td>10.0</td>\n",
       "      <td>4.0</td>\n",
       "      <td>4.0</td>\n",
       "      <td>2.0</td>\n",
       "      <td>1809.0</td>\n",
       "      <td>2015.0</td>\n",
       "      <td>8.0</td>\n",
       "      <td>0</td>\n",
       "      <td>...</td>\n",
       "      <td>0</td>\n",
       "      <td>0</td>\n",
       "      <td>1</td>\n",
       "      <td>0</td>\n",
       "      <td>0</td>\n",
       "      <td>0</td>\n",
       "      <td>0</td>\n",
       "      <td>0</td>\n",
       "      <td>0</td>\n",
       "      <td>0</td>\n",
       "    </tr>\n",
       "    <tr>\n",
       "      <th>9</th>\n",
       "      <td>787.00</td>\n",
       "      <td>933.0</td>\n",
       "      <td>30.0</td>\n",
       "      <td>NaN</td>\n",
       "      <td>NaN</td>\n",
       "      <td>3.0</td>\n",
       "      <td>1920.0</td>\n",
       "      <td>NaN</td>\n",
       "      <td>12.0</td>\n",
       "      <td>0</td>\n",
       "      <td>...</td>\n",
       "      <td>0</td>\n",
       "      <td>0</td>\n",
       "      <td>1</td>\n",
       "      <td>0</td>\n",
       "      <td>0</td>\n",
       "      <td>0</td>\n",
       "      <td>0</td>\n",
       "      <td>0</td>\n",
       "      <td>0</td>\n",
       "      <td>0</td>\n",
       "    </tr>\n",
       "  </tbody>\n",
       "</table>\n",
       "<p>10 rows × 88 columns</p>\n",
       "</div>"
      ],
      "text/plain": [
       "   Living_space     Lot  Rooms  Bedrooms  Bathrooms  Floors  Year_built  \\\n",
       "0        106.00   229.0    5.5       3.0        1.0     2.0      2005.0   \n",
       "1        140.93   517.0    6.0       3.0        2.0     NaN      1994.0   \n",
       "2        162.89    82.0    5.0       3.0        2.0     4.0      2013.0   \n",
       "3        140.00   814.0    4.0       NaN        2.0     2.0      1900.0   \n",
       "4        115.00   244.0    4.5       2.0        1.0     NaN      1968.0   \n",
       "5        310.00   860.0    8.0       NaN        NaN     3.0      1969.0   \n",
       "6        502.00  5300.0   13.0       NaN        4.0     NaN      2004.0   \n",
       "7        263.00   406.0   10.0       NaN        NaN     3.0      1989.0   \n",
       "8        227.00   973.0   10.0       4.0        4.0     2.0      1809.0   \n",
       "9        787.00   933.0   30.0       NaN        NaN     3.0      1920.0   \n",
       "\n",
       "   Year_renovated  Garages  Condition_as new  ...  Type_Castle  \\\n",
       "0             NaN      2.0                 0  ...            0   \n",
       "1             NaN      7.0                 0  ...            0   \n",
       "2             NaN      1.0                 0  ...            0   \n",
       "3          2000.0      1.0                 0  ...            0   \n",
       "4          2019.0      1.0                 0  ...            0   \n",
       "5             NaN      2.0                 0  ...            0   \n",
       "6             NaN      7.0                 0  ...            0   \n",
       "7             NaN      2.0                 0  ...            0   \n",
       "8          2015.0      8.0                 0  ...            0   \n",
       "9             NaN     12.0                 0  ...            0   \n",
       "\n",
       "   Type_Corner house  Type_Duplex  Type_Farmhouse  Type_Mid-terrace house  \\\n",
       "0                  0            0               0                       0   \n",
       "1                  0            0               0                       1   \n",
       "2                  0            0               1                       0   \n",
       "3                  0            0               1                       0   \n",
       "4                  0            0               0                       0   \n",
       "5                  0            0               0                       1   \n",
       "6                  0            1               0                       0   \n",
       "7                  0            1               0                       0   \n",
       "8                  0            1               0                       0   \n",
       "9                  0            1               0                       0   \n",
       "\n",
       "   Type_Multiple dwelling  Type_Residential property  Type_Single dwelling  \\\n",
       "0                       1                          0                     0   \n",
       "1                       0                          0                     0   \n",
       "2                       0                          0                     0   \n",
       "3                       0                          0                     0   \n",
       "4                       1                          0                     0   \n",
       "5                       0                          0                     0   \n",
       "6                       0                          0                     0   \n",
       "7                       0                          0                     0   \n",
       "8                       0                          0                     0   \n",
       "9                       0                          0                     0   \n",
       "\n",
       "   Type_Special property  Type_Villa  \n",
       "0                      0           0  \n",
       "1                      0           0  \n",
       "2                      0           0  \n",
       "3                      0           0  \n",
       "4                      0           0  \n",
       "5                      0           0  \n",
       "6                      0           0  \n",
       "7                      0           0  \n",
       "8                      0           0  \n",
       "9                      0           0  \n",
       "\n",
       "[10 rows x 88 columns]"
      ]
     },
     "execution_count": 4,
     "metadata": {},
     "output_type": "execute_result"
    }
   ],
   "source": [
    "X = pd.get_dummies(X)\n",
    "X.head(10)"
   ]
  },
  {
   "cell_type": "code",
   "execution_count": 5,
   "metadata": {
    "id": "-b3yRb5giTTS"
   },
   "outputs": [],
   "source": [
    "X = X.values\n",
    "y = y.values"
   ]
  },
  {
   "cell_type": "code",
   "execution_count": null,
   "metadata": {
    "id": "4bYB32J5iTTS"
   },
   "outputs": [],
   "source": []
  },
  {
   "cell_type": "code",
   "execution_count": null,
   "metadata": {
    "id": "Wu2EOg0hiTTT"
   },
   "outputs": [],
   "source": []
  },
  {
   "cell_type": "code",
   "execution_count": null,
   "metadata": {
    "id": "6VjcJfApiTTT"
   },
   "outputs": [],
   "source": []
  },
  {
   "cell_type": "markdown",
   "metadata": {
    "id": "w0xPZ8rPoGXH"
   },
   "source": [
    "### The result of each model will be added to this list"
   ]
  },
  {
   "cell_type": "code",
   "execution_count": 6,
   "metadata": {
    "id": "fP7wHrm4iTTT"
   },
   "outputs": [],
   "source": [
    "results_r2 = []"
   ]
  },
  {
   "cell_type": "markdown",
   "metadata": {
    "id": "vn1zGLmfiTTU"
   },
   "source": [
    "# Model: XGBoost regression"
   ]
  },
  {
   "cell_type": "markdown",
   "metadata": {
    "id": "aeQ7nGxkiTTU"
   },
   "source": [
    "## Splitting the dataset into the Training set and Test set"
   ]
  },
  {
   "cell_type": "code",
   "execution_count": 7,
   "metadata": {
    "id": "Xcr7Z3V_iTTU"
   },
   "outputs": [],
   "source": [
    "from sklearn.model_selection import train_test_split\n",
    "X_train, X_test, y_train, y_test = train_test_split(X, y, test_size= 0.2, random_state= 0)"
   ]
  },
  {
   "cell_type": "markdown",
   "metadata": {
    "id": "RzcKvOPPiTTU"
   },
   "source": [
    "## Training the XGBoost regression model "
   ]
  },
  {
   "cell_type": "code",
   "execution_count": 8,
   "metadata": {
    "colab": {
     "base_uri": "https://localhost:8080/"
    },
    "id": "4UTxqp8hiTTV",
    "outputId": "3c572f78-1857-46bf-af83-f887966bf681"
   },
   "outputs": [
    {
     "name": "stdout",
     "output_type": "stream",
     "text": [
      "[11:08:47] WARNING: C:/Jenkins/workspace/xgboost-win64_release_0.90/src/objective/regression_obj.cu:152: reg:linear is now deprecated in favor of reg:squarederror.\n"
     ]
    },
    {
     "data": {
      "text/plain": [
       "XGBRegressor(seed=0)"
      ]
     },
     "execution_count": 8,
     "metadata": {},
     "output_type": "execute_result"
    }
   ],
   "source": [
    "from xgboost import XGBRegressor\n",
    "#seed = 0 is default\n",
    "regressor = XGBRegressor(seed = 0)\n",
    "regressor.fit(X_train, y_train)"
   ]
  },
  {
   "cell_type": "markdown",
   "metadata": {
    "id": "47UZUJdxiTTV"
   },
   "source": [
    "## Predicting the Test set results"
   ]
  },
  {
   "cell_type": "code",
   "execution_count": 9,
   "metadata": {
    "colab": {
     "base_uri": "https://localhost:8080/"
    },
    "id": "OcWYcRWQiTTV",
    "outputId": "aee904c2-731f-40e8-cda4-29a7b9bae995"
   },
   "outputs": [
    {
     "name": "stdout",
     "output_type": "stream",
     "text": [
      "[[629572.12 450000.  ]\n",
      " [585312.56 750000.  ]\n",
      " [849552.44 149000.  ]\n",
      " ...\n",
      " [485948.75 529000.  ]\n",
      " [ 81355.52  89000.  ]\n",
      " [292091.53 195000.  ]]\n"
     ]
    }
   ],
   "source": [
    "y_pred = regressor.predict(X_test)\n",
    "np.set_printoptions(precision=2)\n",
    "print(np.concatenate((y_pred.reshape(len(y_pred),1), y_test.reshape(len(y_test),1)),1))"
   ]
  },
  {
   "cell_type": "markdown",
   "metadata": {
    "id": "UivwlbQ8iTTV"
   },
   "source": [
    "## Evaluating the Model Performance"
   ]
  },
  {
   "cell_type": "code",
   "execution_count": 10,
   "metadata": {
    "colab": {
     "base_uri": "https://localhost:8080/"
    },
    "id": "aCf2_ezsiTTV",
    "outputId": "22f7c428-2a97-4bf4-a65d-73362bb937dd"
   },
   "outputs": [
    {
     "name": "stdout",
     "output_type": "stream",
     "text": [
      "0.5347087960798123\n"
     ]
    }
   ],
   "source": [
    "from sklearn.metrics import r2_score\n",
    "results_r2.append(r2_score(y_test,y_pred))\n",
    "print(r2_score(y_test,y_pred))\n"
   ]
  },
  {
   "cell_type": "code",
   "execution_count": null,
   "metadata": {
    "id": "cKMRYA4PiTTW"
   },
   "outputs": [],
   "source": []
  },
  {
   "cell_type": "code",
   "execution_count": null,
   "metadata": {
    "id": "c_4euxJliTTW"
   },
   "outputs": [],
   "source": []
  },
  {
   "cell_type": "code",
   "execution_count": null,
   "metadata": {
    "id": "jQRqlGdjiTTW"
   },
   "outputs": [],
   "source": []
  },
  {
   "cell_type": "markdown",
   "metadata": {
    "id": "VOvvAlfniTTY"
   },
   "source": [
    "## Evaluating the Model Performance"
   ]
  },
  {
   "cell_type": "code",
   "execution_count": 11,
   "metadata": {
    "colab": {
     "base_uri": "https://localhost:8080/"
    },
    "id": "ae4yntjhiTTY",
    "outputId": "dc3e9b78-e342-43e3-d29a-fdbbdc8e74f7"
   },
   "outputs": [
    {
     "name": "stdout",
     "output_type": "stream",
     "text": [
      "0.5347087960798123\n"
     ]
    }
   ],
   "source": [
    "from sklearn.metrics import r2_score\n",
    "results_r2.append(r2_score(y_test,y_pred))\n",
    "print(r2_score(y_test,y_pred))"
   ]
  },
  {
   "cell_type": "code",
   "execution_count": null,
   "metadata": {
    "id": "Otb0tjrviTTo"
   },
   "outputs": [],
   "source": []
  },
  {
   "cell_type": "code",
   "execution_count": null,
   "metadata": {
    "id": "t-C-uoTUlx5y"
   },
   "outputs": [],
   "source": []
  },
  {
   "cell_type": "code",
   "execution_count": 12,
   "metadata": {
    "colab": {
     "base_uri": "https://localhost:8080/",
     "height": 441
    },
    "id": "5MwNUZ5kiTTo",
    "outputId": "88dad35d-d7ab-4dda-8179-655eaea995a0"
   },
   "outputs": [
    {
     "data": {
      "image/png": "[encoded data removed]",
      "text/plain": [
       "<Figure size 864x432 with 1 Axes>"
      ]
     },
     "metadata": {},
     "output_type": "display_data"
    }
   ],
   "source": [
    "import matplotlib.cm as cm\n",
    "from numpy.random import rand\n",
    "\n",
    "# get a color map\n",
    "cmap = cm.get_cmap('jet')\n",
    "# 5 nbrs 0 - 1 in array\n",
    "my_colors = rand(5)\n",
    "\n",
    "plt.style.use('fivethirtyeight')\n",
    "plt.figure(figsize =(12,6))\n",
    "\n",
    "models = np.array([\"XGB\"])\n",
    "\n",
    "plt.bar(models, results_r2, color = cmap(my_colors))\n",
    "plt.xlabel(\"Models\")\n",
    "plt.ylabel(\"R2\")\n",
    "plt.title(\"Model performance on test data set 2\")\n",
    "plt.ylim(0.0, 1)\n",
    "plt.show()"
   ]
  }
 ],
 "metadata": {
  "colab": {
   "collapsed_sections": [],
   "name": "Model_selection_dataset_2_XGBoost.ipynb",
   "provenance": [],
   "toc_visible": true
  },
  "kernelspec": {
   "display_name": "Python 3",
   "language": "python",
   "name": "python3"
  },
  "language_info": {
   "codemirror_mode": {
    "name": "ipython",
    "version": 3
   },
   "file_extension": ".py",
   "mimetype": "text/x-python",
   "name": "python",
   "nbconvert_exporter": "python",
   "pygments_lexer": "ipython3",
   "version": "3.9.2"
  }
 },
 "nbformat": 4,
 "nbformat_minor": 1
}
