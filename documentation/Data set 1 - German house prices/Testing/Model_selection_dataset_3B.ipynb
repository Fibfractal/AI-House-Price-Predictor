{
 "cells": [
  {
   "cell_type": "markdown",
   "metadata": {
    "id": "r3cas2_1T98w"
   },
   "source": [
    "# Model selection, data set 3B"
   ]
  },
  {
   "cell_type": "markdown",
   "metadata": {
    "id": "IODliia6U1xO"
   },
   "source": [
    "## Importing the libraries"
   ]
  },
  {
   "cell_type": "code",
   "execution_count": 1,
   "metadata": {
    "id": "y98nA5UdU6Hf"
   },
   "outputs": [],
   "source": [
    "import numpy as np\n",
    "import matplotlib.pyplot as plt\n",
    "import pandas as pd\n",
    "import warnings\n",
    "warnings.filterwarnings(\"ignore\")"
   ]
  },
  {
   "cell_type": "markdown",
   "metadata": {
    "id": "jpjZ43YlU8eI"
   },
   "source": [
    "## Importing the dataset"
   ]
  },
  {
   "cell_type": "code",
   "execution_count": 2,
   "metadata": {
    "colab": {
     "base_uri": "https://localhost:8080/",
     "height": 289
    },
    "id": "pLVaXoYVU_Uy",
    "outputId": "9ef9b093-11d4-4c6d-b647-338d76b3b593"
   },
   "outputs": [
    {
     "data": {
      "text/html": [
       "<div>\n",
       "<style scoped>\n",
       "    .dataframe tbody tr th:only-of-type {\n",
       "        vertical-align: middle;\n",
       "    }\n",
       "\n",
       "    .dataframe tbody tr th {\n",
       "        vertical-align: top;\n",
       "    }\n",
       "\n",
       "    .dataframe thead th {\n",
       "        text-align: right;\n",
       "    }\n",
       "</style>\n",
       "<table border=\"1\" class=\"dataframe\">\n",
       "  <thead>\n",
       "    <tr style=\"text-align: right;\">\n",
       "      <th></th>\n",
       "      <th>Living_space</th>\n",
       "      <th>Lot</th>\n",
       "      <th>Rooms</th>\n",
       "      <th>Bedrooms</th>\n",
       "      <th>Bathrooms</th>\n",
       "      <th>Floors</th>\n",
       "      <th>Year_built</th>\n",
       "      <th>Year_renovated</th>\n",
       "      <th>Garages</th>\n",
       "      <th>Condition</th>\n",
       "      <th>Heating</th>\n",
       "      <th>Energy_source</th>\n",
       "      <th>State</th>\n",
       "      <th>Garagetype</th>\n",
       "      <th>Type</th>\n",
       "      <th>Price</th>\n",
       "    </tr>\n",
       "  </thead>\n",
       "  <tbody>\n",
       "    <tr>\n",
       "      <th>0</th>\n",
       "      <td>106.00</td>\n",
       "      <td>229.0</td>\n",
       "      <td>5.5</td>\n",
       "      <td>3.0</td>\n",
       "      <td>1.0</td>\n",
       "      <td>2.0</td>\n",
       "      <td>2005.0</td>\n",
       "      <td>2005.0</td>\n",
       "      <td>2.0</td>\n",
       "      <td>modernized</td>\n",
       "      <td>central heating</td>\n",
       "      <td>gas</td>\n",
       "      <td>Baden-Württemberg</td>\n",
       "      <td>Parking lot</td>\n",
       "      <td>Multiple dwelling</td>\n",
       "      <td>498000.0</td>\n",
       "    </tr>\n",
       "    <tr>\n",
       "      <th>1</th>\n",
       "      <td>162.89</td>\n",
       "      <td>82.0</td>\n",
       "      <td>5.0</td>\n",
       "      <td>3.0</td>\n",
       "      <td>2.0</td>\n",
       "      <td>4.0</td>\n",
       "      <td>2013.0</td>\n",
       "      <td>2013.0</td>\n",
       "      <td>1.0</td>\n",
       "      <td>dilapidated</td>\n",
       "      <td>stove heating</td>\n",
       "      <td>other combinations of energy sources</td>\n",
       "      <td>Baden-Württemberg</td>\n",
       "      <td>Garage</td>\n",
       "      <td>Farmhouse</td>\n",
       "      <td>749000.0</td>\n",
       "    </tr>\n",
       "    <tr>\n",
       "      <th>2</th>\n",
       "      <td>227.00</td>\n",
       "      <td>973.0</td>\n",
       "      <td>10.0</td>\n",
       "      <td>4.0</td>\n",
       "      <td>4.0</td>\n",
       "      <td>2.0</td>\n",
       "      <td>1809.0</td>\n",
       "      <td>2015.0</td>\n",
       "      <td>8.0</td>\n",
       "      <td>modernized</td>\n",
       "      <td>central heating</td>\n",
       "      <td>electricity</td>\n",
       "      <td>Baden-Württemberg</td>\n",
       "      <td>Parking lot</td>\n",
       "      <td>Duplex</td>\n",
       "      <td>364000.0</td>\n",
       "    </tr>\n",
       "    <tr>\n",
       "      <th>3</th>\n",
       "      <td>210.00</td>\n",
       "      <td>1460.0</td>\n",
       "      <td>6.0</td>\n",
       "      <td>4.0</td>\n",
       "      <td>2.0</td>\n",
       "      <td>3.0</td>\n",
       "      <td>1939.0</td>\n",
       "      <td>2014.0</td>\n",
       "      <td>2.0</td>\n",
       "      <td>modernized</td>\n",
       "      <td>stove heating</td>\n",
       "      <td>oil</td>\n",
       "      <td>Baden-Württemberg</td>\n",
       "      <td>Garage</td>\n",
       "      <td>Mid-terrace house</td>\n",
       "      <td>1750000.0</td>\n",
       "    </tr>\n",
       "    <tr>\n",
       "      <th>4</th>\n",
       "      <td>268.00</td>\n",
       "      <td>1511.0</td>\n",
       "      <td>12.0</td>\n",
       "      <td>9.0</td>\n",
       "      <td>3.0</td>\n",
       "      <td>3.0</td>\n",
       "      <td>1976.0</td>\n",
       "      <td>1976.0</td>\n",
       "      <td>4.0</td>\n",
       "      <td>modernized</td>\n",
       "      <td>stove heating</td>\n",
       "      <td>oil</td>\n",
       "      <td>Baden-Württemberg</td>\n",
       "      <td>Parking lot</td>\n",
       "      <td>Duplex</td>\n",
       "      <td>470000.0</td>\n",
       "    </tr>\n",
       "  </tbody>\n",
       "</table>\n",
       "</div>"
      ],
      "text/plain": [
       "   Living_space     Lot  Rooms  Bedrooms  Bathrooms  Floors  Year_built  \\\n",
       "0        106.00   229.0    5.5       3.0        1.0     2.0      2005.0   \n",
       "1        162.89    82.0    5.0       3.0        2.0     4.0      2013.0   \n",
       "2        227.00   973.0   10.0       4.0        4.0     2.0      1809.0   \n",
       "3        210.00  1460.0    6.0       4.0        2.0     3.0      1939.0   \n",
       "4        268.00  1511.0   12.0       9.0        3.0     3.0      1976.0   \n",
       "\n",
       "   Year_renovated  Garages    Condition          Heating  \\\n",
       "0          2005.0      2.0   modernized  central heating   \n",
       "1          2013.0      1.0  dilapidated    stove heating   \n",
       "2          2015.0      8.0   modernized  central heating   \n",
       "3          2014.0      2.0   modernized    stove heating   \n",
       "4          1976.0      4.0   modernized    stove heating   \n",
       "\n",
       "                          Energy_source              State   Garagetype  \\\n",
       "0                                   gas  Baden-Württemberg  Parking lot   \n",
       "1  other combinations of energy sources  Baden-Württemberg       Garage   \n",
       "2                           electricity  Baden-Württemberg  Parking lot   \n",
       "3                                   oil  Baden-Württemberg       Garage   \n",
       "4                                   oil  Baden-Württemberg  Parking lot   \n",
       "\n",
       "                Type      Price  \n",
       "0  Multiple dwelling   498000.0  \n",
       "1          Farmhouse   749000.0  \n",
       "2             Duplex   364000.0  \n",
       "3  Mid-terrace house  1750000.0  \n",
       "4             Duplex   470000.0  "
      ]
     },
     "execution_count": 2,
     "metadata": {},
     "output_type": "execute_result"
    }
   ],
   "source": [
    "dataset = pd.read_csv('germany_housing_data_part3B_removed_missing_values.csv')\n",
    "X = dataset.iloc[:, :-1]\n",
    "y = dataset.iloc[:, -1]\n",
    "dataset.head()"
   ]
  },
  {
   "cell_type": "markdown",
   "metadata": {
    "id": "BSG-NjWNiTTP"
   },
   "source": [
    "## Encoding categorical data"
   ]
  },
  {
   "cell_type": "markdown",
   "metadata": {
    "id": "3KEVnY2MiTTQ"
   },
   "source": [
    "We can see below, that the column numbers 9 - 14 have categorical data and must be one hot encoded"
   ]
  },
  {
   "cell_type": "code",
   "execution_count": 3,
   "metadata": {
    "colab": {
     "base_uri": "https://localhost:8080/"
    },
    "id": "SLF0lyCRiTTQ",
    "outputId": "b91142a7-d4c5-4d43-b879-78349953fb95"
   },
   "outputs": [
    {
     "name": "stdout",
     "output_type": "stream",
     "text": [
      "<class 'pandas.core.frame.DataFrame'>\n",
      "RangeIndex: 4142 entries, 0 to 4141\n",
      "Data columns (total 16 columns):\n",
      " #   Column          Non-Null Count  Dtype  \n",
      "---  ------          --------------  -----  \n",
      " 0   Living_space    4142 non-null   float64\n",
      " 1   Lot             4142 non-null   float64\n",
      " 2   Rooms           4142 non-null   float64\n",
      " 3   Bedrooms        4142 non-null   float64\n",
      " 4   Bathrooms       4142 non-null   float64\n",
      " 5   Floors          4142 non-null   float64\n",
      " 6   Year_built      4142 non-null   float64\n",
      " 7   Year_renovated  4142 non-null   float64\n",
      " 8   Garages         4142 non-null   float64\n",
      " 9   Condition       4142 non-null   object \n",
      " 10  Heating         4142 non-null   object \n",
      " 11  Energy_source   4142 non-null   object \n",
      " 12  State           4142 non-null   object \n",
      " 13  Garagetype      4142 non-null   object \n",
      " 14  Type            4142 non-null   object \n",
      " 15  Price           4142 non-null   float64\n",
      "dtypes: float64(10), object(6)\n",
      "memory usage: 517.9+ KB\n"
     ]
    }
   ],
   "source": [
    "dataset.info()"
   ]
  },
  {
   "cell_type": "markdown",
   "metadata": {
    "id": "YjYGMCxUp17G"
   },
   "source": [
    "### The onehot encoding of the columns"
   ]
  },
  {
   "cell_type": "code",
   "execution_count": 4,
   "metadata": {
    "colab": {
     "base_uri": "https://localhost:8080/",
     "height": 459
    },
    "id": "0Y0-fCjZiTTS",
    "outputId": "3e77a44b-0857-4f98-fa8f-e415c71bb893"
   },
   "outputs": [
    {
     "data": {
      "text/html": [
       "<div>\n",
       "<style scoped>\n",
       "    .dataframe tbody tr th:only-of-type {\n",
       "        vertical-align: middle;\n",
       "    }\n",
       "\n",
       "    .dataframe tbody tr th {\n",
       "        vertical-align: top;\n",
       "    }\n",
       "\n",
       "    .dataframe thead th {\n",
       "        text-align: right;\n",
       "    }\n",
       "</style>\n",
       "<table border=\"1\" class=\"dataframe\">\n",
       "  <thead>\n",
       "    <tr style=\"text-align: right;\">\n",
       "      <th></th>\n",
       "      <th>Living_space</th>\n",
       "      <th>Lot</th>\n",
       "      <th>Rooms</th>\n",
       "      <th>Bedrooms</th>\n",
       "      <th>Bathrooms</th>\n",
       "      <th>Floors</th>\n",
       "      <th>Year_built</th>\n",
       "      <th>Year_renovated</th>\n",
       "      <th>Garages</th>\n",
       "      <th>Condition_as new</th>\n",
       "      <th>...</th>\n",
       "      <th>Type_Castle</th>\n",
       "      <th>Type_Corner house</th>\n",
       "      <th>Type_Duplex</th>\n",
       "      <th>Type_Farmhouse</th>\n",
       "      <th>Type_Mid-terrace house</th>\n",
       "      <th>Type_Multiple dwelling</th>\n",
       "      <th>Type_Residential property</th>\n",
       "      <th>Type_Single dwelling</th>\n",
       "      <th>Type_Special property</th>\n",
       "      <th>Type_Villa</th>\n",
       "    </tr>\n",
       "  </thead>\n",
       "  <tbody>\n",
       "    <tr>\n",
       "      <th>0</th>\n",
       "      <td>106.00</td>\n",
       "      <td>229.0</td>\n",
       "      <td>5.5</td>\n",
       "      <td>3.0</td>\n",
       "      <td>1.0</td>\n",
       "      <td>2.0</td>\n",
       "      <td>2005.0</td>\n",
       "      <td>2005.0</td>\n",
       "      <td>2.0</td>\n",
       "      <td>0</td>\n",
       "      <td>...</td>\n",
       "      <td>0</td>\n",
       "      <td>0</td>\n",
       "      <td>0</td>\n",
       "      <td>0</td>\n",
       "      <td>0</td>\n",
       "      <td>1</td>\n",
       "      <td>0</td>\n",
       "      <td>0</td>\n",
       "      <td>0</td>\n",
       "      <td>0</td>\n",
       "    </tr>\n",
       "    <tr>\n",
       "      <th>1</th>\n",
       "      <td>162.89</td>\n",
       "      <td>82.0</td>\n",
       "      <td>5.0</td>\n",
       "      <td>3.0</td>\n",
       "      <td>2.0</td>\n",
       "      <td>4.0</td>\n",
       "      <td>2013.0</td>\n",
       "      <td>2013.0</td>\n",
       "      <td>1.0</td>\n",
       "      <td>0</td>\n",
       "      <td>...</td>\n",
       "      <td>0</td>\n",
       "      <td>0</td>\n",
       "      <td>0</td>\n",
       "      <td>1</td>\n",
       "      <td>0</td>\n",
       "      <td>0</td>\n",
       "      <td>0</td>\n",
       "      <td>0</td>\n",
       "      <td>0</td>\n",
       "      <td>0</td>\n",
       "    </tr>\n",
       "    <tr>\n",
       "      <th>2</th>\n",
       "      <td>227.00</td>\n",
       "      <td>973.0</td>\n",
       "      <td>10.0</td>\n",
       "      <td>4.0</td>\n",
       "      <td>4.0</td>\n",
       "      <td>2.0</td>\n",
       "      <td>1809.0</td>\n",
       "      <td>2015.0</td>\n",
       "      <td>8.0</td>\n",
       "      <td>0</td>\n",
       "      <td>...</td>\n",
       "      <td>0</td>\n",
       "      <td>0</td>\n",
       "      <td>1</td>\n",
       "      <td>0</td>\n",
       "      <td>0</td>\n",
       "      <td>0</td>\n",
       "      <td>0</td>\n",
       "      <td>0</td>\n",
       "      <td>0</td>\n",
       "      <td>0</td>\n",
       "    </tr>\n",
       "    <tr>\n",
       "      <th>3</th>\n",
       "      <td>210.00</td>\n",
       "      <td>1460.0</td>\n",
       "      <td>6.0</td>\n",
       "      <td>4.0</td>\n",
       "      <td>2.0</td>\n",
       "      <td>3.0</td>\n",
       "      <td>1939.0</td>\n",
       "      <td>2014.0</td>\n",
       "      <td>2.0</td>\n",
       "      <td>0</td>\n",
       "      <td>...</td>\n",
       "      <td>0</td>\n",
       "      <td>0</td>\n",
       "      <td>0</td>\n",
       "      <td>0</td>\n",
       "      <td>1</td>\n",
       "      <td>0</td>\n",
       "      <td>0</td>\n",
       "      <td>0</td>\n",
       "      <td>0</td>\n",
       "      <td>0</td>\n",
       "    </tr>\n",
       "    <tr>\n",
       "      <th>4</th>\n",
       "      <td>268.00</td>\n",
       "      <td>1511.0</td>\n",
       "      <td>12.0</td>\n",
       "      <td>9.0</td>\n",
       "      <td>3.0</td>\n",
       "      <td>3.0</td>\n",
       "      <td>1976.0</td>\n",
       "      <td>1976.0</td>\n",
       "      <td>4.0</td>\n",
       "      <td>0</td>\n",
       "      <td>...</td>\n",
       "      <td>0</td>\n",
       "      <td>0</td>\n",
       "      <td>1</td>\n",
       "      <td>0</td>\n",
       "      <td>0</td>\n",
       "      <td>0</td>\n",
       "      <td>0</td>\n",
       "      <td>0</td>\n",
       "      <td>0</td>\n",
       "      <td>0</td>\n",
       "    </tr>\n",
       "    <tr>\n",
       "      <th>5</th>\n",
       "      <td>217.00</td>\n",
       "      <td>265.0</td>\n",
       "      <td>6.5</td>\n",
       "      <td>4.0</td>\n",
       "      <td>2.0</td>\n",
       "      <td>3.0</td>\n",
       "      <td>2017.0</td>\n",
       "      <td>2017.0</td>\n",
       "      <td>1.0</td>\n",
       "      <td>0</td>\n",
       "      <td>...</td>\n",
       "      <td>0</td>\n",
       "      <td>0</td>\n",
       "      <td>0</td>\n",
       "      <td>0</td>\n",
       "      <td>1</td>\n",
       "      <td>0</td>\n",
       "      <td>0</td>\n",
       "      <td>0</td>\n",
       "      <td>0</td>\n",
       "      <td>0</td>\n",
       "    </tr>\n",
       "    <tr>\n",
       "      <th>6</th>\n",
       "      <td>132.00</td>\n",
       "      <td>314.0</td>\n",
       "      <td>4.5</td>\n",
       "      <td>3.0</td>\n",
       "      <td>1.0</td>\n",
       "      <td>3.0</td>\n",
       "      <td>1987.0</td>\n",
       "      <td>2018.0</td>\n",
       "      <td>2.0</td>\n",
       "      <td>0</td>\n",
       "      <td>...</td>\n",
       "      <td>0</td>\n",
       "      <td>0</td>\n",
       "      <td>0</td>\n",
       "      <td>0</td>\n",
       "      <td>0</td>\n",
       "      <td>0</td>\n",
       "      <td>0</td>\n",
       "      <td>1</td>\n",
       "      <td>0</td>\n",
       "      <td>0</td>\n",
       "    </tr>\n",
       "    <tr>\n",
       "      <th>7</th>\n",
       "      <td>152.11</td>\n",
       "      <td>2461.0</td>\n",
       "      <td>4.0</td>\n",
       "      <td>3.0</td>\n",
       "      <td>1.0</td>\n",
       "      <td>2.0</td>\n",
       "      <td>2016.0</td>\n",
       "      <td>2016.0</td>\n",
       "      <td>1.0</td>\n",
       "      <td>0</td>\n",
       "      <td>...</td>\n",
       "      <td>0</td>\n",
       "      <td>0</td>\n",
       "      <td>0</td>\n",
       "      <td>0</td>\n",
       "      <td>1</td>\n",
       "      <td>0</td>\n",
       "      <td>0</td>\n",
       "      <td>0</td>\n",
       "      <td>0</td>\n",
       "      <td>0</td>\n",
       "    </tr>\n",
       "    <tr>\n",
       "      <th>8</th>\n",
       "      <td>265.00</td>\n",
       "      <td>776.0</td>\n",
       "      <td>9.0</td>\n",
       "      <td>4.0</td>\n",
       "      <td>2.0</td>\n",
       "      <td>3.0</td>\n",
       "      <td>1994.0</td>\n",
       "      <td>1994.0</td>\n",
       "      <td>1.0</td>\n",
       "      <td>0</td>\n",
       "      <td>...</td>\n",
       "      <td>0</td>\n",
       "      <td>0</td>\n",
       "      <td>0</td>\n",
       "      <td>0</td>\n",
       "      <td>1</td>\n",
       "      <td>0</td>\n",
       "      <td>0</td>\n",
       "      <td>0</td>\n",
       "      <td>0</td>\n",
       "      <td>0</td>\n",
       "    </tr>\n",
       "    <tr>\n",
       "      <th>9</th>\n",
       "      <td>250.00</td>\n",
       "      <td>790.0</td>\n",
       "      <td>7.5</td>\n",
       "      <td>4.0</td>\n",
       "      <td>2.0</td>\n",
       "      <td>3.0</td>\n",
       "      <td>1981.0</td>\n",
       "      <td>2018.0</td>\n",
       "      <td>4.0</td>\n",
       "      <td>0</td>\n",
       "      <td>...</td>\n",
       "      <td>0</td>\n",
       "      <td>0</td>\n",
       "      <td>0</td>\n",
       "      <td>0</td>\n",
       "      <td>1</td>\n",
       "      <td>0</td>\n",
       "      <td>0</td>\n",
       "      <td>0</td>\n",
       "      <td>0</td>\n",
       "      <td>0</td>\n",
       "    </tr>\n",
       "  </tbody>\n",
       "</table>\n",
       "<p>10 rows × 88 columns</p>\n",
       "</div>"
      ],
      "text/plain": [
       "   Living_space     Lot  Rooms  Bedrooms  Bathrooms  Floors  Year_built  \\\n",
       "0        106.00   229.0    5.5       3.0        1.0     2.0      2005.0   \n",
       "1        162.89    82.0    5.0       3.0        2.0     4.0      2013.0   \n",
       "2        227.00   973.0   10.0       4.0        4.0     2.0      1809.0   \n",
       "3        210.00  1460.0    6.0       4.0        2.0     3.0      1939.0   \n",
       "4        268.00  1511.0   12.0       9.0        3.0     3.0      1976.0   \n",
       "5        217.00   265.0    6.5       4.0        2.0     3.0      2017.0   \n",
       "6        132.00   314.0    4.5       3.0        1.0     3.0      1987.0   \n",
       "7        152.11  2461.0    4.0       3.0        1.0     2.0      2016.0   \n",
       "8        265.00   776.0    9.0       4.0        2.0     3.0      1994.0   \n",
       "9        250.00   790.0    7.5       4.0        2.0     3.0      1981.0   \n",
       "\n",
       "   Year_renovated  Garages  Condition_as new  ...  Type_Castle  \\\n",
       "0          2005.0      2.0                 0  ...            0   \n",
       "1          2013.0      1.0                 0  ...            0   \n",
       "2          2015.0      8.0                 0  ...            0   \n",
       "3          2014.0      2.0                 0  ...            0   \n",
       "4          1976.0      4.0                 0  ...            0   \n",
       "5          2017.0      1.0                 0  ...            0   \n",
       "6          2018.0      2.0                 0  ...            0   \n",
       "7          2016.0      1.0                 0  ...            0   \n",
       "8          1994.0      1.0                 0  ...            0   \n",
       "9          2018.0      4.0                 0  ...            0   \n",
       "\n",
       "   Type_Corner house  Type_Duplex  Type_Farmhouse  Type_Mid-terrace house  \\\n",
       "0                  0            0               0                       0   \n",
       "1                  0            0               1                       0   \n",
       "2                  0            1               0                       0   \n",
       "3                  0            0               0                       1   \n",
       "4                  0            1               0                       0   \n",
       "5                  0            0               0                       1   \n",
       "6                  0            0               0                       0   \n",
       "7                  0            0               0                       1   \n",
       "8                  0            0               0                       1   \n",
       "9                  0            0               0                       1   \n",
       "\n",
       "   Type_Multiple dwelling  Type_Residential property  Type_Single dwelling  \\\n",
       "0                       1                          0                     0   \n",
       "1                       0                          0                     0   \n",
       "2                       0                          0                     0   \n",
       "3                       0                          0                     0   \n",
       "4                       0                          0                     0   \n",
       "5                       0                          0                     0   \n",
       "6                       0                          0                     1   \n",
       "7                       0                          0                     0   \n",
       "8                       0                          0                     0   \n",
       "9                       0                          0                     0   \n",
       "\n",
       "   Type_Special property  Type_Villa  \n",
       "0                      0           0  \n",
       "1                      0           0  \n",
       "2                      0           0  \n",
       "3                      0           0  \n",
       "4                      0           0  \n",
       "5                      0           0  \n",
       "6                      0           0  \n",
       "7                      0           0  \n",
       "8                      0           0  \n",
       "9                      0           0  \n",
       "\n",
       "[10 rows x 88 columns]"
      ]
     },
     "execution_count": 4,
     "metadata": {},
     "output_type": "execute_result"
    }
   ],
   "source": [
    "X = pd.get_dummies(X)\n",
    "X.head(10)"
   ]
  },
  {
   "cell_type": "code",
   "execution_count": 5,
   "metadata": {
    "id": "-b3yRb5giTTS"
   },
   "outputs": [],
   "source": [
    "X = X.values\n",
    "y = y.values"
   ]
  },
  {
   "cell_type": "code",
   "execution_count": null,
   "metadata": {
    "id": "4bYB32J5iTTS"
   },
   "outputs": [],
   "source": []
  },
  {
   "cell_type": "code",
   "execution_count": null,
   "metadata": {
    "id": "Wu2EOg0hiTTT"
   },
   "outputs": [],
   "source": []
  },
  {
   "cell_type": "code",
   "execution_count": null,
   "metadata": {
    "id": "6VjcJfApiTTT"
   },
   "outputs": [],
   "source": []
  },
  {
   "cell_type": "markdown",
   "metadata": {
    "id": "w0xPZ8rPoGXH"
   },
   "source": [
    "### The result of each model will be added to this list"
   ]
  },
  {
   "cell_type": "code",
   "execution_count": 6,
   "metadata": {
    "id": "fP7wHrm4iTTT"
   },
   "outputs": [],
   "source": [
    "results_r2 = []"
   ]
  },
  {
   "cell_type": "markdown",
   "metadata": {
    "id": "vn1zGLmfiTTU"
   },
   "source": [
    "# Model: XGBoost regression"
   ]
  },
  {
   "cell_type": "markdown",
   "metadata": {
    "id": "aeQ7nGxkiTTU"
   },
   "source": [
    "## Splitting the dataset into the Training set and Test set"
   ]
  },
  {
   "cell_type": "code",
   "execution_count": 7,
   "metadata": {
    "id": "Xcr7Z3V_iTTU"
   },
   "outputs": [],
   "source": [
    "from sklearn.model_selection import train_test_split\n",
    "X_train, X_test, y_train, y_test = train_test_split(X, y, test_size= 0.2, random_state= 0)"
   ]
  },
  {
   "cell_type": "markdown",
   "metadata": {
    "id": "RzcKvOPPiTTU"
   },
   "source": [
    "## Training the XGBoost regression model "
   ]
  },
  {
   "cell_type": "code",
   "execution_count": 8,
   "metadata": {
    "colab": {
     "base_uri": "https://localhost:8080/"
    },
    "id": "4UTxqp8hiTTV",
    "outputId": "9f9a43b5-a695-4ccb-c812-d96274e8e4af"
   },
   "outputs": [
    {
     "name": "stdout",
     "output_type": "stream",
     "text": [
      "[10:48:26] WARNING: C:/Jenkins/workspace/xgboost-win64_release_0.90/src/objective/regression_obj.cu:152: reg:linear is now deprecated in favor of reg:squarederror.\n"
     ]
    },
    {
     "data": {
      "text/plain": [
       "XGBRegressor(seed=0)"
      ]
     },
     "execution_count": 8,
     "metadata": {},
     "output_type": "execute_result"
    }
   ],
   "source": [
    "from xgboost import XGBRegressor\n",
    "#seed = 0 is default\n",
    "regressor = XGBRegressor(seed = 0)\n",
    "regressor.fit(X_train, y_train)"
   ]
  },
  {
   "cell_type": "markdown",
   "metadata": {
    "id": "47UZUJdxiTTV"
   },
   "source": [
    "## Predicting the Test set results"
   ]
  },
  {
   "cell_type": "code",
   "execution_count": 9,
   "metadata": {
    "colab": {
     "base_uri": "https://localhost:8080/"
    },
    "id": "OcWYcRWQiTTV",
    "outputId": "3241b801-2258-49e1-e489-e4e9911bdd96"
   },
   "outputs": [
    {
     "name": "stdout",
     "output_type": "stream",
     "text": [
      "[[ 447377.06  264000.  ]\n",
      " [ 808549.69  699000.  ]\n",
      " [ 499807.66  455000.  ]\n",
      " ...\n",
      " [ 653375.94  525000.  ]\n",
      " [ 662868.81  930000.  ]\n",
      " [2101494.   2100000.  ]]\n"
     ]
    }
   ],
   "source": [
    "y_pred = regressor.predict(X_test)\n",
    "np.set_printoptions(precision=2)\n",
    "print(np.concatenate((y_pred.reshape(len(y_pred),1), y_test.reshape(len(y_test),1)),1))"
   ]
  },
  {
   "cell_type": "markdown",
   "metadata": {
    "id": "UivwlbQ8iTTV"
   },
   "source": [
    "## Evaluating the Model Performance"
   ]
  },
  {
   "cell_type": "code",
   "execution_count": 10,
   "metadata": {
    "colab": {
     "base_uri": "https://localhost:8080/"
    },
    "id": "aCf2_ezsiTTV",
    "outputId": "5c8bd5d5-c537-4b00-efc0-82397402f9c9"
   },
   "outputs": [
    {
     "name": "stdout",
     "output_type": "stream",
     "text": [
      "0.4400309883194724\n"
     ]
    }
   ],
   "source": [
    "from sklearn.metrics import r2_score\n",
    "results_r2.append(r2_score(y_test,y_pred))\n",
    "print(r2_score(y_test,y_pred))\n"
   ]
  },
  {
   "cell_type": "code",
   "execution_count": null,
   "metadata": {
    "id": "cKMRYA4PiTTW"
   },
   "outputs": [],
   "source": []
  },
  {
   "cell_type": "code",
   "execution_count": null,
   "metadata": {
    "id": "c_4euxJliTTW"
   },
   "outputs": [],
   "source": []
  },
  {
   "cell_type": "code",
   "execution_count": null,
   "metadata": {
    "id": "jQRqlGdjiTTW"
   },
   "outputs": [],
   "source": []
  },
  {
   "cell_type": "markdown",
   "metadata": {
    "id": "lUkATSnQiTTW"
   },
   "source": [
    "# Model: Random forest regression"
   ]
  },
  {
   "cell_type": "markdown",
   "metadata": {
    "id": "i_Kk6qzViTTW"
   },
   "source": [
    "## Splitting the dataset into the Training set and Test set"
   ]
  },
  {
   "cell_type": "code",
   "execution_count": 11,
   "metadata": {
    "id": "L7IOD8g3iTTX"
   },
   "outputs": [],
   "source": [
    "from sklearn.model_selection import train_test_split\n",
    "X_train, X_test, y_train, y_test = train_test_split(X, y, test_size= 0.2, random_state= 0)"
   ]
  },
  {
   "cell_type": "markdown",
   "metadata": {
    "id": "APhJb0WmiTTX"
   },
   "source": [
    "## Training the random forest regression model "
   ]
  },
  {
   "cell_type": "code",
   "execution_count": 12,
   "metadata": {
    "colab": {
     "base_uri": "https://localhost:8080/"
    },
    "id": "w3zaMmZriTTX",
    "outputId": "3c5ae8a1-44d7-480d-c86c-7c54d816f070"
   },
   "outputs": [
    {
     "data": {
      "text/plain": [
       "RandomForestRegressor(random_state=0)"
      ]
     },
     "execution_count": 12,
     "metadata": {},
     "output_type": "execute_result"
    }
   ],
   "source": [
    "from sklearn.ensemble import RandomForestRegressor\n",
    "regressor = RandomForestRegressor(n_estimators = 100, random_state = 0)\n",
    "regressor.fit(X_train, y_train)"
   ]
  },
  {
   "cell_type": "markdown",
   "metadata": {
    "id": "XDm2tsPpiTTX"
   },
   "source": [
    "## Predicting the Test set results"
   ]
  },
  {
   "cell_type": "code",
   "execution_count": 13,
   "metadata": {
    "colab": {
     "base_uri": "https://localhost:8080/"
    },
    "id": "41jBQiKMiTTX",
    "outputId": "fb410ed2-0494-43fa-dbcc-b6b8962b1521"
   },
   "outputs": [
    {
     "name": "stdout",
     "output_type": "stream",
     "text": [
      "[[ 527944.8   264000.  ]\n",
      " [ 685530.    699000.  ]\n",
      " [ 406189.4   455000.  ]\n",
      " ...\n",
      " [ 895230.1   525000.  ]\n",
      " [ 657391.    930000.  ]\n",
      " [2816335.16 2100000.  ]]\n"
     ]
    }
   ],
   "source": [
    "y_pred = regressor.predict(X_test)\n",
    "np.set_printoptions(precision=2)\n",
    "print(np.concatenate((y_pred.reshape(len(y_pred),1), y_test.reshape(len(y_test),1)),1))"
   ]
  },
  {
   "cell_type": "markdown",
   "metadata": {
    "id": "VOvvAlfniTTY"
   },
   "source": [
    "## Evaluating the Model Performance"
   ]
  },
  {
   "cell_type": "code",
   "execution_count": 14,
   "metadata": {
    "colab": {
     "base_uri": "https://localhost:8080/"
    },
    "id": "ae4yntjhiTTY",
    "outputId": "51db6941-99c6-4159-caf2-fce696fa0edf"
   },
   "outputs": [
    {
     "name": "stdout",
     "output_type": "stream",
     "text": [
      "0.447047302059822\n"
     ]
    }
   ],
   "source": [
    "from sklearn.metrics import r2_score\n",
    "results_r2.append(r2_score(y_test,y_pred))\n",
    "print(r2_score(y_test,y_pred))"
   ]
  },
  {
   "cell_type": "code",
   "execution_count": null,
   "metadata": {
    "id": "rkl5fXZGiTTY"
   },
   "outputs": [],
   "source": []
  },
  {
   "cell_type": "code",
   "execution_count": null,
   "metadata": {
    "id": "BwqcJNteiTTY"
   },
   "outputs": [],
   "source": []
  },
  {
   "cell_type": "code",
   "execution_count": null,
   "metadata": {
    "id": "-Z3oDHiJiTTY"
   },
   "outputs": [],
   "source": []
  },
  {
   "cell_type": "markdown",
   "metadata": {
    "id": "n_-HfhFFiTTZ"
   },
   "source": [
    "# Model: Decision tree regression"
   ]
  },
  {
   "cell_type": "markdown",
   "metadata": {
    "id": "tPJXMyyUJbWn"
   },
   "source": [
    "## Splitting the dataset into the Training set and Test set"
   ]
  },
  {
   "cell_type": "code",
   "execution_count": 15,
   "metadata": {
    "id": "rFOzpjaiJd5B"
   },
   "outputs": [],
   "source": [
    "from sklearn.model_selection import train_test_split\n",
    "X_train, X_test, y_train, y_test = train_test_split(X, y, test_size= 0.2, random_state= 0)"
   ]
  },
  {
   "cell_type": "markdown",
   "metadata": {
    "id": "g16qFkFQVC35"
   },
   "source": [
    "## Training the Decision Tree Regression model "
   ]
  },
  {
   "cell_type": "code",
   "execution_count": 16,
   "metadata": {
    "colab": {
     "base_uri": "https://localhost:8080/"
    },
    "id": "SLDKyv1SVUqS",
    "outputId": "ad0e5f3b-b270-4cb9-8276-75f8efa03158"
   },
   "outputs": [
    {
     "data": {
      "text/plain": [
       "DecisionTreeRegressor(random_state=0)"
      ]
     },
     "execution_count": 16,
     "metadata": {},
     "output_type": "execute_result"
    }
   ],
   "source": [
    "from sklearn.tree import DecisionTreeRegressor\n",
    "tree = DecisionTreeRegressor(random_state= 0)\n",
    "tree.fit(X_train, y_train)"
   ]
  },
  {
   "cell_type": "markdown",
   "metadata": {
    "id": "Nao9cdO6IgNb"
   },
   "source": [
    "## Predicting the Test set results"
   ]
  },
  {
   "cell_type": "code",
   "execution_count": 17,
   "metadata": {
    "colab": {
     "base_uri": "https://localhost:8080/"
    },
    "id": "EebHA3EOIkQK",
    "outputId": "a40f2663-6861-46a2-ca0b-dd9e6f10a4f7"
   },
   "outputs": [
    {
     "name": "stdout",
     "output_type": "stream",
     "text": [
      "[[ 499900.  264000.]\n",
      " [ 699000.  699000.]\n",
      " [ 115000.  455000.]\n",
      " ...\n",
      " [ 469000.  525000.]\n",
      " [ 695000.  930000.]\n",
      " [4300000. 2100000.]]\n"
     ]
    }
   ],
   "source": [
    "y_pred = tree.predict(X_test)\n",
    "np.set_printoptions(precision=2)\n",
    "print(np.concatenate((y_pred.reshape(len(y_pred),1), y_test.reshape(len(y_test),1)),1))"
   ]
  },
  {
   "cell_type": "markdown",
   "metadata": {
    "id": "V4nELFnnIod1"
   },
   "source": [
    "## Evaluating the Model Performance"
   ]
  },
  {
   "cell_type": "code",
   "execution_count": 18,
   "metadata": {
    "colab": {
     "base_uri": "https://localhost:8080/"
    },
    "id": "_G2QS1UoIsTZ",
    "outputId": "a185e03b-2a8e-4d18-a333-58f41d1073f5"
   },
   "outputs": [
    {
     "name": "stdout",
     "output_type": "stream",
     "text": [
      "0.0061743420702505825\n"
     ]
    }
   ],
   "source": [
    "from sklearn.metrics import r2_score\n",
    "results_r2.append(r2_score(y_test,y_pred))\n",
    "print(r2_score(y_test,y_pred))"
   ]
  },
  {
   "cell_type": "code",
   "execution_count": null,
   "metadata": {
    "id": "jz3g5_T1iTTa"
   },
   "outputs": [],
   "source": []
  },
  {
   "cell_type": "code",
   "execution_count": null,
   "metadata": {
    "id": "-ugSdD6FiTTb"
   },
   "outputs": [],
   "source": []
  },
  {
   "cell_type": "code",
   "execution_count": null,
   "metadata": {
    "id": "yngjY3WliTTb"
   },
   "outputs": [],
   "source": []
  },
  {
   "cell_type": "markdown",
   "metadata": {
    "id": "Pp_yt96iiTTb"
   },
   "source": [
    "# Model: Multiple linear regression"
   ]
  },
  {
   "cell_type": "markdown",
   "metadata": {
    "id": "J1uGlK0iiTTb"
   },
   "source": [
    "## Splitting the dataset into the Training set and Test set"
   ]
  },
  {
   "cell_type": "code",
   "execution_count": 19,
   "metadata": {
    "id": "3g6QdfTniTTc"
   },
   "outputs": [],
   "source": [
    "from sklearn.model_selection import train_test_split\n",
    "X_train, X_test, y_train, y_test = train_test_split(X, y, test_size= 0.2, random_state= 0)"
   ]
  },
  {
   "cell_type": "markdown",
   "metadata": {
    "id": "3scC1j_HiTTc"
   },
   "source": [
    "## Training the Multiple linear regression "
   ]
  },
  {
   "cell_type": "code",
   "execution_count": 20,
   "metadata": {
    "colab": {
     "base_uri": "https://localhost:8080/"
    },
    "id": "Ujvn48vFiTTc",
    "outputId": "19409eda-1ad9-45de-ff2f-03375b0066e6"
   },
   "outputs": [
    {
     "data": {
      "text/plain": [
       "LinearRegression()"
      ]
     },
     "execution_count": 20,
     "metadata": {},
     "output_type": "execute_result"
    }
   ],
   "source": [
    "from sklearn.linear_model import LinearRegression\n",
    "regressor = LinearRegression()\n",
    "regressor.fit(X_train, y_train)"
   ]
  },
  {
   "cell_type": "markdown",
   "metadata": {
    "id": "m8A7XujviTTd"
   },
   "source": [
    "## Predicting the Test set results"
   ]
  },
  {
   "cell_type": "code",
   "execution_count": 21,
   "metadata": {
    "colab": {
     "base_uri": "https://localhost:8080/"
    },
    "id": "T3KJFdQNiTTd",
    "outputId": "0e0713ef-4f05-494f-eb00-0b641632d0ac"
   },
   "outputs": [
    {
     "name": "stdout",
     "output_type": "stream",
     "text": [
      "[[  79721.37  264000.  ]\n",
      " [ 937297.68  699000.  ]\n",
      " [ 366688.3   455000.  ]\n",
      " ...\n",
      " [ 684456.23  525000.  ]\n",
      " [ 827043.46  930000.  ]\n",
      " [1665691.09 2100000.  ]]\n"
     ]
    }
   ],
   "source": [
    "y_pred = regressor.predict(X_test)\n",
    "np.set_printoptions(precision=2)\n",
    "print(np.concatenate((y_pred.reshape(len(y_pred),1), y_test.reshape(len(y_test),1)),1))"
   ]
  },
  {
   "cell_type": "markdown",
   "metadata": {
    "id": "rz08IizPiTTe"
   },
   "source": [
    "## Evaluating the Model Performance"
   ]
  },
  {
   "cell_type": "code",
   "execution_count": 22,
   "metadata": {
    "colab": {
     "base_uri": "https://localhost:8080/"
    },
    "id": "V0OAY0KNiTTe",
    "outputId": "dc3688f4-1803-4eb5-bdd6-55ecce03cf21"
   },
   "outputs": [
    {
     "name": "stdout",
     "output_type": "stream",
     "text": [
      "0.43852622503128513\n"
     ]
    }
   ],
   "source": [
    "from sklearn.metrics import r2_score\n",
    "results_r2.append(r2_score(y_test,y_pred))\n",
    "print(r2_score(y_test,y_pred))"
   ]
  },
  {
   "cell_type": "code",
   "execution_count": null,
   "metadata": {
    "id": "N0lnwhZwiTTe"
   },
   "outputs": [],
   "source": []
  },
  {
   "cell_type": "code",
   "execution_count": null,
   "metadata": {
    "id": "bZcswhMTiTTf"
   },
   "outputs": [],
   "source": []
  },
  {
   "cell_type": "code",
   "execution_count": null,
   "metadata": {
    "id": "exuL8OxbiTTf"
   },
   "outputs": [],
   "source": []
  },
  {
   "cell_type": "markdown",
   "metadata": {
    "id": "HdyJRg3piTTf"
   },
   "source": [
    "# Model: Polynomial regression"
   ]
  },
  {
   "cell_type": "markdown",
   "metadata": {
    "id": "Ud_1XTb28iXH"
   },
   "source": [
    "## Splitting the dataset into the Training set and Test set"
   ]
  },
  {
   "cell_type": "code",
   "execution_count": 23,
   "metadata": {
    "id": "bUib_pbl8ipB"
   },
   "outputs": [],
   "source": [
    "from sklearn.model_selection import train_test_split\n",
    "X_train, X_test, y_train, y_test = train_test_split(X, y, test_size= 0.2, random_state = 0)"
   ]
  },
  {
   "cell_type": "markdown",
   "metadata": {
    "id": "Rb5nWuSHEfBV"
   },
   "source": [
    "## Training the Polynomial Regression model"
   ]
  },
  {
   "cell_type": "code",
   "execution_count": 24,
   "metadata": {
    "colab": {
     "base_uri": "https://localhost:8080/"
    },
    "id": "HYplp4pTEm0O",
    "outputId": "f825adb4-a39c-4c1d-b97f-97ea4648a2fa"
   },
   "outputs": [
    {
     "data": {
      "text/plain": [
       "LinearRegression()"
      ]
     },
     "execution_count": 24,
     "metadata": {},
     "output_type": "execute_result"
    }
   ],
   "source": [
    "from sklearn.preprocessing import PolynomialFeatures\n",
    "from sklearn.linear_model import LinearRegression\n",
    "\n",
    "poly_reg = PolynomialFeatures(degree= 2)\n",
    "X_poly_train = poly_reg.fit_transform(X_train)\n",
    "\n",
    "linear_poly = LinearRegression()\n",
    "linear_poly.fit(X_poly_train,y_train)"
   ]
  },
  {
   "cell_type": "markdown",
   "metadata": {
    "id": "pzF3BRps9nlk"
   },
   "source": [
    "## Predicting the Test set results"
   ]
  },
  {
   "cell_type": "code",
   "execution_count": 25,
   "metadata": {
    "colab": {
     "base_uri": "https://localhost:8080/"
    },
    "id": "36aFLFBK9pMk",
    "outputId": "11d1cb59-8f14-4d05-a30c-c1d2733ee221"
   },
   "outputs": [
    {
     "name": "stdout",
     "output_type": "stream",
     "text": [
      "[[-3830798.63   264000.  ]\n",
      " [  696890.16   699000.  ]\n",
      " [  690047.34   455000.  ]\n",
      " ...\n",
      " [  883102.77   525000.  ]\n",
      " [  642849.55   930000.  ]\n",
      " [ 3825794.96  2100000.  ]]\n"
     ]
    }
   ],
   "source": [
    "#X_poly_test = poly_reg.fit_transform(X_test)\n",
    "X_poly_test = poly_reg.transform(X_test)\n",
    "y_pred = linear_poly.predict(X_poly_test)\n",
    "\n",
    "np.set_printoptions(precision=2)\n",
    "print(np.concatenate((y_pred.reshape(len(y_pred),1), y_test.reshape(len(y_test),1)),1))"
   ]
  },
  {
   "cell_type": "markdown",
   "metadata": {
    "id": "Fz1uTlWV919-"
   },
   "source": [
    "## Evaluating the Model Performance"
   ]
  },
  {
   "cell_type": "code",
   "execution_count": 26,
   "metadata": {
    "colab": {
     "base_uri": "https://localhost:8080/"
    },
    "id": "xvZQ_4W893-e",
    "outputId": "f4e254a9-ebd5-4800-d79b-1078cb2c9444"
   },
   "outputs": [
    {
     "name": "stdout",
     "output_type": "stream",
     "text": [
      "-5544.0522023000585\n"
     ]
    }
   ],
   "source": [
    "from sklearn.metrics import r2_score\n",
    "results_r2.append(r2_score(y_test,y_pred))\n",
    "print(r2_score(y_test,y_pred))\n"
   ]
  },
  {
   "cell_type": "code",
   "execution_count": null,
   "metadata": {
    "id": "1FXt8XTTiTTi"
   },
   "outputs": [],
   "source": []
  },
  {
   "cell_type": "code",
   "execution_count": null,
   "metadata": {
    "id": "9_6CTQ7TiTTj"
   },
   "outputs": [],
   "source": []
  },
  {
   "cell_type": "code",
   "execution_count": null,
   "metadata": {
    "id": "pD_Qc8yFiTTj"
   },
   "outputs": [],
   "source": []
  },
  {
   "cell_type": "markdown",
   "metadata": {
    "id": "FVu_BmeCiTTj"
   },
   "source": [
    "# Model: Support vector regression"
   ]
  },
  {
   "cell_type": "code",
   "execution_count": 27,
   "metadata": {
    "id": "h3rDQUEDiTTk"
   },
   "outputs": [],
   "source": [
    "y = y.reshape(-1,1)"
   ]
  },
  {
   "cell_type": "markdown",
   "metadata": {
    "id": "Cuc1mGA3iTTk"
   },
   "source": [
    "## Splitting the dataset into the Training set and Test set"
   ]
  },
  {
   "cell_type": "code",
   "execution_count": 28,
   "metadata": {
    "id": "YuWEbE4ZiTTk"
   },
   "outputs": [],
   "source": [
    "from sklearn.model_selection import train_test_split\n",
    "X_train, X_test, y_train, y_test = train_test_split(X, y, test_size= 0.2, random_state= 0)"
   ]
  },
  {
   "cell_type": "markdown",
   "metadata": {
    "id": "u2oIWeZWiTTl"
   },
   "source": [
    "## Feature scaling"
   ]
  },
  {
   "cell_type": "code",
   "execution_count": 29,
   "metadata": {
    "id": "EZ5v7qOUiTTl"
   },
   "outputs": [],
   "source": [
    "from sklearn.preprocessing import StandardScaler\n",
    "sc_X = StandardScaler()\n",
    "sc_y = StandardScaler()\n",
    "\n",
    "X_train = sc_X.fit_transform(X_train)\n",
    "y_train = sc_y.fit_transform(y_train)"
   ]
  },
  {
   "cell_type": "markdown",
   "metadata": {
    "id": "jgvciRkGiTTl"
   },
   "source": [
    "## Training the SVR regression model "
   ]
  },
  {
   "cell_type": "code",
   "execution_count": 30,
   "metadata": {
    "colab": {
     "base_uri": "https://localhost:8080/"
    },
    "id": "QVabbRzPiTTl",
    "outputId": "eddba69c-c4fc-4fbc-a0ef-91702d692cf3"
   },
   "outputs": [
    {
     "data": {
      "text/plain": [
       "SVR()"
      ]
     },
     "execution_count": 30,
     "metadata": {},
     "output_type": "execute_result"
    }
   ],
   "source": [
    "from sklearn.svm import SVR\n",
    "regressor = SVR(kernel = \"rbf\")\n",
    "regressor.fit(X_train, y_train)"
   ]
  },
  {
   "cell_type": "markdown",
   "metadata": {
    "id": "BT9gHJLuiTTl"
   },
   "source": [
    "## Predicting the Test set results"
   ]
  },
  {
   "cell_type": "code",
   "execution_count": 31,
   "metadata": {
    "colab": {
     "base_uri": "https://localhost:8080/"
    },
    "id": "UGeAk0JFiTTm",
    "outputId": "48f366f6-abb6-4259-c6c3-0ef39140efbd"
   },
   "outputs": [
    {
     "name": "stdout",
     "output_type": "stream",
     "text": [
      "[[ 324211.77  264000.  ]\n",
      " [ 694352.07  699000.  ]\n",
      " [ 308370.02  455000.  ]\n",
      " ...\n",
      " [ 615190.18  525000.  ]\n",
      " [ 655506.17  930000.  ]\n",
      " [1298693.2  2100000.  ]]\n"
     ]
    }
   ],
   "source": [
    "y_pred = sc_y.inverse_transform(regressor.predict(sc_X.transform(X_test)))\n",
    "np.set_printoptions(precision=2)\n",
    "print(np.concatenate((y_pred.reshape(len(y_pred),1), y_test.reshape(len(y_test),1)),1))"
   ]
  },
  {
   "cell_type": "markdown",
   "metadata": {
    "id": "xATR5DR7iTTm"
   },
   "source": [
    "## Evaluating the Model Performance"
   ]
  },
  {
   "cell_type": "code",
   "execution_count": 32,
   "metadata": {
    "colab": {
     "base_uri": "https://localhost:8080/"
    },
    "id": "5lJfxTGWiTTn",
    "outputId": "88b9ec76-5760-4fc2-e0f6-41fbeface20f"
   },
   "outputs": [
    {
     "name": "stdout",
     "output_type": "stream",
     "text": [
      "0.3762504750121084\n"
     ]
    }
   ],
   "source": [
    "from sklearn.metrics import r2_score\n",
    "results_r2.append(r2_score(y_test,y_pred))\n",
    "print(r2_score(y_test,y_pred))"
   ]
  },
  {
   "cell_type": "code",
   "execution_count": null,
   "metadata": {
    "id": "xrodFkuYiTTo"
   },
   "outputs": [],
   "source": []
  },
  {
   "cell_type": "code",
   "execution_count": null,
   "metadata": {
    "id": "Otb0tjrviTTo"
   },
   "outputs": [],
   "source": []
  },
  {
   "cell_type": "code",
   "execution_count": null,
   "metadata": {
    "id": "t-C-uoTUlx5y"
   },
   "outputs": [],
   "source": []
  },
  {
   "cell_type": "code",
   "execution_count": 33,
   "metadata": {
    "colab": {
     "base_uri": "https://localhost:8080/",
     "height": 441
    },
    "id": "5MwNUZ5kiTTo",
    "outputId": "f41e2b9d-4e75-4e0a-91bd-455bb68174c9"
   },
   "outputs": [
    {
     "data": {
      "image/png": "[encoded data removed]",
      "text/plain": [
       "<Figure size 864x432 with 1 Axes>"
      ]
     },
     "metadata": {},
     "output_type": "display_data"
    }
   ],
   "source": [
    "import matplotlib.cm as cm\n",
    "from numpy.random import rand\n",
    "\n",
    "# get a color map\n",
    "cmap = cm.get_cmap('jet')\n",
    "# 5 nbrs 0 - 1 in array\n",
    "my_colors = rand(5)\n",
    "\n",
    "plt.style.use('fivethirtyeight')\n",
    "plt.figure(figsize =(12,6))\n",
    "\n",
    "models = np.array([\"XGB\", \"RF\", \"DT\", \"MLREG\", \"PREG\",\"SVR\"])\n",
    "\n",
    "plt.bar(models, results_r2, color = cmap(my_colors))\n",
    "plt.xlabel(\"Models\")\n",
    "plt.ylabel(\"R2\")\n",
    "plt.title(\"Model performance on test data set 3B\")\n",
    "plt.ylim(0.0, 1)\n",
    "plt.show()"
   ]
  }
 ],
 "metadata": {
  "colab": {
   "collapsed_sections": [],
   "name": "Model_selection_dataset_3B.ipynb",
   "provenance": [],
   "toc_visible": true
  },
  "kernelspec": {
   "display_name": "Python 3",
   "language": "python",
   "name": "python3"
  },
  "language_info": {
   "codemirror_mode": {
    "name": "ipython",
    "version": 3
   },
   "file_extension": ".py",
   "mimetype": "text/x-python",
   "name": "python",
   "nbconvert_exporter": "python",
   "pygments_lexer": "ipython3",
   "version": "3.9.2"
  }
 },
 "nbformat": 4,
 "nbformat_minor": 1
}
