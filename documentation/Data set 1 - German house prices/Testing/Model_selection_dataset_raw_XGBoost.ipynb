{
 "cells": [
  {
   "cell_type": "markdown",
   "metadata": {
    "id": "r3cas2_1T98w"
   },
   "source": [
    "# Model selection, XGBoost original data set"
   ]
  },
  {
   "cell_type": "markdown",
   "metadata": {
    "id": "IODliia6U1xO"
   },
   "source": [
    "## Importing the libraries"
   ]
  },
  {
   "cell_type": "code",
   "execution_count": 1,
   "metadata": {
    "id": "y98nA5UdU6Hf"
   },
   "outputs": [],
   "source": [
    "import numpy as np\n",
    "import matplotlib.pyplot as plt\n",
    "import pandas as pd\n",
    "import warnings\n",
    "warnings.filterwarnings(\"ignore\")"
   ]
  },
  {
   "cell_type": "markdown",
   "metadata": {
    "id": "jpjZ43YlU8eI"
   },
   "source": [
    "## Importing the dataset"
   ]
  },
  {
   "cell_type": "code",
   "execution_count": 2,
   "metadata": {
    "colab": {
     "base_uri": "https://localhost:8080/",
     "height": 326
    },
    "id": "pLVaXoYVU_Uy",
    "outputId": "8fa24332-a6e7-4318-85aa-75d5cfe61878"
   },
   "outputs": [
    {
     "data": {
      "text/html": [
       "<div>\n",
       "<style scoped>\n",
       "    .dataframe tbody tr th:only-of-type {\n",
       "        vertical-align: middle;\n",
       "    }\n",
       "\n",
       "    .dataframe tbody tr th {\n",
       "        vertical-align: top;\n",
       "    }\n",
       "\n",
       "    .dataframe thead th {\n",
       "        text-align: right;\n",
       "    }\n",
       "</style>\n",
       "<table border=\"1\" class=\"dataframe\">\n",
       "  <thead>\n",
       "    <tr style=\"text-align: right;\">\n",
       "      <th></th>\n",
       "      <th>Unnamed: 0</th>\n",
       "      <th>Price</th>\n",
       "      <th>Type</th>\n",
       "      <th>Living_space</th>\n",
       "      <th>Lot</th>\n",
       "      <th>Usable_area</th>\n",
       "      <th>Free_of_Relation</th>\n",
       "      <th>Rooms</th>\n",
       "      <th>Bedrooms</th>\n",
       "      <th>Bathrooms</th>\n",
       "      <th>...</th>\n",
       "      <th>Energy_source</th>\n",
       "      <th>Energy_certificate</th>\n",
       "      <th>Energy_certificate_type</th>\n",
       "      <th>Energy_consumption</th>\n",
       "      <th>Energy_efficiency_class</th>\n",
       "      <th>State</th>\n",
       "      <th>City</th>\n",
       "      <th>Place</th>\n",
       "      <th>Garages</th>\n",
       "      <th>Garagetype</th>\n",
       "    </tr>\n",
       "  </thead>\n",
       "  <tbody>\n",
       "    <tr>\n",
       "      <th>0</th>\n",
       "      <td>0</td>\n",
       "      <td>498000.0</td>\n",
       "      <td>Multiple dwelling</td>\n",
       "      <td>106.00</td>\n",
       "      <td>229.0</td>\n",
       "      <td>NaN</td>\n",
       "      <td>01.10.2020</td>\n",
       "      <td>5.5</td>\n",
       "      <td>3.0</td>\n",
       "      <td>1.0</td>\n",
       "      <td>...</td>\n",
       "      <td>Gas</td>\n",
       "      <td>available</td>\n",
       "      <td>demand certificate</td>\n",
       "      <td>NaN</td>\n",
       "      <td>D</td>\n",
       "      <td>Baden-Württemberg</td>\n",
       "      <td>Bodenseekreis</td>\n",
       "      <td>Bermatingen</td>\n",
       "      <td>2.0</td>\n",
       "      <td>Parking lot</td>\n",
       "    </tr>\n",
       "    <tr>\n",
       "      <th>1</th>\n",
       "      <td>1</td>\n",
       "      <td>495000.0</td>\n",
       "      <td>Mid-terrace house</td>\n",
       "      <td>140.93</td>\n",
       "      <td>517.0</td>\n",
       "      <td>20.00</td>\n",
       "      <td>01.01.2021</td>\n",
       "      <td>6.0</td>\n",
       "      <td>3.0</td>\n",
       "      <td>2.0</td>\n",
       "      <td>...</td>\n",
       "      <td>NaN</td>\n",
       "      <td>not required by law</td>\n",
       "      <td>NaN</td>\n",
       "      <td>NaN</td>\n",
       "      <td>NaN</td>\n",
       "      <td>Baden-Württemberg</td>\n",
       "      <td>Konstanz (Kreis)</td>\n",
       "      <td>Engen</td>\n",
       "      <td>7.0</td>\n",
       "      <td>Parking lot</td>\n",
       "    </tr>\n",
       "    <tr>\n",
       "      <th>2</th>\n",
       "      <td>2</td>\n",
       "      <td>749000.0</td>\n",
       "      <td>Farmhouse</td>\n",
       "      <td>162.89</td>\n",
       "      <td>82.0</td>\n",
       "      <td>37.62</td>\n",
       "      <td>01.07.2020</td>\n",
       "      <td>5.0</td>\n",
       "      <td>3.0</td>\n",
       "      <td>2.0</td>\n",
       "      <td>...</td>\n",
       "      <td>Fernwärme, Bioenergie</td>\n",
       "      <td>available</td>\n",
       "      <td>demand certificate</td>\n",
       "      <td>NaN</td>\n",
       "      <td>B</td>\n",
       "      <td>Baden-Württemberg</td>\n",
       "      <td>Esslingen (Kreis)</td>\n",
       "      <td>Ostfildern</td>\n",
       "      <td>1.0</td>\n",
       "      <td>Garage</td>\n",
       "    </tr>\n",
       "    <tr>\n",
       "      <th>3</th>\n",
       "      <td>3</td>\n",
       "      <td>259000.0</td>\n",
       "      <td>Farmhouse</td>\n",
       "      <td>140.00</td>\n",
       "      <td>814.0</td>\n",
       "      <td>NaN</td>\n",
       "      <td>nach Vereinbarung</td>\n",
       "      <td>4.0</td>\n",
       "      <td>NaN</td>\n",
       "      <td>2.0</td>\n",
       "      <td>...</td>\n",
       "      <td>Strom</td>\n",
       "      <td>available</td>\n",
       "      <td>demand certificate</td>\n",
       "      <td>NaN</td>\n",
       "      <td>G</td>\n",
       "      <td>Baden-Württemberg</td>\n",
       "      <td>Waldshut (Kreis)</td>\n",
       "      <td>Bonndorf im Schwarzwald</td>\n",
       "      <td>1.0</td>\n",
       "      <td>Garage</td>\n",
       "    </tr>\n",
       "    <tr>\n",
       "      <th>4</th>\n",
       "      <td>4</td>\n",
       "      <td>469000.0</td>\n",
       "      <td>Multiple dwelling</td>\n",
       "      <td>115.00</td>\n",
       "      <td>244.0</td>\n",
       "      <td>NaN</td>\n",
       "      <td>sofort</td>\n",
       "      <td>4.5</td>\n",
       "      <td>2.0</td>\n",
       "      <td>1.0</td>\n",
       "      <td>...</td>\n",
       "      <td>Öl</td>\n",
       "      <td>available</td>\n",
       "      <td>demand certificate</td>\n",
       "      <td>NaN</td>\n",
       "      <td>F</td>\n",
       "      <td>Baden-Württemberg</td>\n",
       "      <td>Esslingen (Kreis)</td>\n",
       "      <td>Leinfelden-Echterdingen</td>\n",
       "      <td>1.0</td>\n",
       "      <td>Garage</td>\n",
       "    </tr>\n",
       "  </tbody>\n",
       "</table>\n",
       "<p>5 rows × 26 columns</p>\n",
       "</div>"
      ],
      "text/plain": [
       "   Unnamed: 0     Price               Type  Living_space    Lot  Usable_area  \\\n",
       "0           0  498000.0  Multiple dwelling        106.00  229.0          NaN   \n",
       "1           1  495000.0  Mid-terrace house        140.93  517.0        20.00   \n",
       "2           2  749000.0          Farmhouse        162.89   82.0        37.62   \n",
       "3           3  259000.0          Farmhouse        140.00  814.0          NaN   \n",
       "4           4  469000.0  Multiple dwelling        115.00  244.0          NaN   \n",
       "\n",
       "      Free_of_Relation  Rooms  Bedrooms  Bathrooms  ...  \\\n",
       "0          01.10.2020     5.5       3.0        1.0  ...   \n",
       "1          01.01.2021     6.0       3.0        2.0  ...   \n",
       "2          01.07.2020     5.0       3.0        2.0  ...   \n",
       "3   nach Vereinbarung     4.0       NaN        2.0  ...   \n",
       "4              sofort     4.5       2.0        1.0  ...   \n",
       "\n",
       "             Energy_source   Energy_certificate Energy_certificate_type  \\\n",
       "0                     Gas             available      demand certificate   \n",
       "1                      NaN  not required by law                     NaN   \n",
       "2   Fernwärme, Bioenergie             available      demand certificate   \n",
       "3                   Strom             available      demand certificate   \n",
       "4                      Öl             available      demand certificate   \n",
       "\n",
       "   Energy_consumption Energy_efficiency_class              State  \\\n",
       "0                 NaN                      D   Baden-Württemberg   \n",
       "1                 NaN                     NaN  Baden-Württemberg   \n",
       "2                 NaN                      B   Baden-Württemberg   \n",
       "3                 NaN                      G   Baden-Württemberg   \n",
       "4                 NaN                      F   Baden-Württemberg   \n",
       "\n",
       "                City                    Place Garages   Garagetype  \n",
       "0      Bodenseekreis              Bermatingen     2.0  Parking lot  \n",
       "1   Konstanz (Kreis)                    Engen     7.0  Parking lot  \n",
       "2  Esslingen (Kreis)               Ostfildern     1.0       Garage  \n",
       "3   Waldshut (Kreis)  Bonndorf im Schwarzwald     1.0       Garage  \n",
       "4  Esslingen (Kreis)  Leinfelden-Echterdingen     1.0       Garage  \n",
       "\n",
       "[5 rows x 26 columns]"
      ]
     },
     "execution_count": 2,
     "metadata": {},
     "output_type": "execute_result"
    }
   ],
   "source": [
    "dataset = pd.read_csv('germany_housing_data_14.07.2020.csv')\n",
    "X = dataset.iloc[:, 2:]\n",
    "y = dataset.iloc[:, 1]\n",
    "dataset.head()"
   ]
  },
  {
   "cell_type": "markdown",
   "metadata": {
    "id": "BSG-NjWNiTTP"
   },
   "source": [
    "## Encoding categorical data"
   ]
  },
  {
   "cell_type": "markdown",
   "metadata": {
    "id": "3KEVnY2MiTTQ"
   },
   "source": [
    "We can see below, that the column numbers 9 - 14 have categorical data and must be one hot encoded"
   ]
  },
  {
   "cell_type": "code",
   "execution_count": 3,
   "metadata": {
    "colab": {
     "base_uri": "https://localhost:8080/"
    },
    "id": "SLF0lyCRiTTQ",
    "outputId": "fecffae4-53cb-4f09-bbc4-3dc53dd73511"
   },
   "outputs": [
    {
     "name": "stdout",
     "output_type": "stream",
     "text": [
      "<class 'pandas.core.frame.DataFrame'>\n",
      "RangeIndex: 10552 entries, 0 to 10551\n",
      "Data columns (total 26 columns):\n",
      " #   Column                   Non-Null Count  Dtype  \n",
      "---  ------                   --------------  -----  \n",
      " 0   Unnamed: 0               10552 non-null  int64  \n",
      " 1   Price                    10552 non-null  float64\n",
      " 2   Type                     10150 non-null  object \n",
      " 3   Living_space             10552 non-null  float64\n",
      " 4   Lot                      10552 non-null  float64\n",
      " 5   Usable_area              5568 non-null   float64\n",
      " 6   Free_of_Relation         6983 non-null   object \n",
      " 7   Rooms                    10552 non-null  float64\n",
      " 8   Bedrooms                 6878 non-null   float64\n",
      " 9   Bathrooms                8751 non-null   float64\n",
      " 10  Floors                   7888 non-null   float64\n",
      " 11  Year_built               9858 non-null   float64\n",
      " 12  Furnishing_quality       7826 non-null   object \n",
      " 13  Year_renovated           5349 non-null   float64\n",
      " 14  Condition                10229 non-null  object \n",
      " 15  Heating                  9968 non-null   object \n",
      " 16  Energy_source            9325 non-null   object \n",
      " 17  Energy_certificate       9797 non-null   object \n",
      " 18  Energy_certificate_type  7026 non-null   object \n",
      " 19  Energy_consumption       2433 non-null   float64\n",
      " 20  Energy_efficiency_class  5733 non-null   object \n",
      " 21  State                    10551 non-null  object \n",
      " 22  City                     10551 non-null  object \n",
      " 23  Place                    10262 non-null  object \n",
      " 24  Garages                  8592 non-null   float64\n",
      " 25  Garagetype               8592 non-null   object \n",
      "dtypes: float64(12), int64(1), object(13)\n",
      "memory usage: 2.1+ MB\n"
     ]
    }
   ],
   "source": [
    "dataset.info()"
   ]
  },
  {
   "cell_type": "markdown",
   "metadata": {
    "id": "YjYGMCxUp17G"
   },
   "source": [
    "### The onehot encoding of the columns"
   ]
  },
  {
   "cell_type": "code",
   "execution_count": 4,
   "metadata": {
    "colab": {
     "base_uri": "https://localhost:8080/",
     "height": 442
    },
    "id": "0Y0-fCjZiTTS",
    "outputId": "46cd9ec9-663f-4406-8c4d-1ad2ac264de6"
   },
   "outputs": [
    {
     "data": {
      "text/html": [
       "<div>\n",
       "<style scoped>\n",
       "    .dataframe tbody tr th:only-of-type {\n",
       "        vertical-align: middle;\n",
       "    }\n",
       "\n",
       "    .dataframe tbody tr th {\n",
       "        vertical-align: top;\n",
       "    }\n",
       "\n",
       "    .dataframe thead th {\n",
       "        text-align: right;\n",
       "    }\n",
       "</style>\n",
       "<table border=\"1\" class=\"dataframe\">\n",
       "  <thead>\n",
       "    <tr style=\"text-align: right;\">\n",
       "      <th></th>\n",
       "      <th>Living_space</th>\n",
       "      <th>Lot</th>\n",
       "      <th>Usable_area</th>\n",
       "      <th>Rooms</th>\n",
       "      <th>Bedrooms</th>\n",
       "      <th>Bathrooms</th>\n",
       "      <th>Floors</th>\n",
       "      <th>Year_built</th>\n",
       "      <th>Year_renovated</th>\n",
       "      <th>Energy_consumption</th>\n",
       "      <th>...</th>\n",
       "      <th>Place_Ückendorf</th>\n",
       "      <th>Place_Ückesdorf</th>\n",
       "      <th>Place_Ürzig</th>\n",
       "      <th>Garagetype_Car park lot</th>\n",
       "      <th>Garagetype_Carport</th>\n",
       "      <th>Garagetype_Duplex lot</th>\n",
       "      <th>Garagetype_Garage</th>\n",
       "      <th>Garagetype_Outside parking lot</th>\n",
       "      <th>Garagetype_Parking lot</th>\n",
       "      <th>Garagetype_Underground parking lot</th>\n",
       "    </tr>\n",
       "  </thead>\n",
       "  <tbody>\n",
       "    <tr>\n",
       "      <th>0</th>\n",
       "      <td>106.00</td>\n",
       "      <td>229.0</td>\n",
       "      <td>NaN</td>\n",
       "      <td>5.5</td>\n",
       "      <td>3.0</td>\n",
       "      <td>1.0</td>\n",
       "      <td>2.0</td>\n",
       "      <td>2005.0</td>\n",
       "      <td>NaN</td>\n",
       "      <td>NaN</td>\n",
       "      <td>...</td>\n",
       "      <td>0</td>\n",
       "      <td>0</td>\n",
       "      <td>0</td>\n",
       "      <td>0</td>\n",
       "      <td>0</td>\n",
       "      <td>0</td>\n",
       "      <td>0</td>\n",
       "      <td>0</td>\n",
       "      <td>1</td>\n",
       "      <td>0</td>\n",
       "    </tr>\n",
       "    <tr>\n",
       "      <th>1</th>\n",
       "      <td>140.93</td>\n",
       "      <td>517.0</td>\n",
       "      <td>20.00</td>\n",
       "      <td>6.0</td>\n",
       "      <td>3.0</td>\n",
       "      <td>2.0</td>\n",
       "      <td>NaN</td>\n",
       "      <td>1994.0</td>\n",
       "      <td>NaN</td>\n",
       "      <td>NaN</td>\n",
       "      <td>...</td>\n",
       "      <td>0</td>\n",
       "      <td>0</td>\n",
       "      <td>0</td>\n",
       "      <td>0</td>\n",
       "      <td>0</td>\n",
       "      <td>0</td>\n",
       "      <td>0</td>\n",
       "      <td>0</td>\n",
       "      <td>1</td>\n",
       "      <td>0</td>\n",
       "    </tr>\n",
       "    <tr>\n",
       "      <th>2</th>\n",
       "      <td>162.89</td>\n",
       "      <td>82.0</td>\n",
       "      <td>37.62</td>\n",
       "      <td>5.0</td>\n",
       "      <td>3.0</td>\n",
       "      <td>2.0</td>\n",
       "      <td>4.0</td>\n",
       "      <td>2013.0</td>\n",
       "      <td>NaN</td>\n",
       "      <td>NaN</td>\n",
       "      <td>...</td>\n",
       "      <td>0</td>\n",
       "      <td>0</td>\n",
       "      <td>0</td>\n",
       "      <td>0</td>\n",
       "      <td>0</td>\n",
       "      <td>0</td>\n",
       "      <td>1</td>\n",
       "      <td>0</td>\n",
       "      <td>0</td>\n",
       "      <td>0</td>\n",
       "    </tr>\n",
       "    <tr>\n",
       "      <th>3</th>\n",
       "      <td>140.00</td>\n",
       "      <td>814.0</td>\n",
       "      <td>NaN</td>\n",
       "      <td>4.0</td>\n",
       "      <td>NaN</td>\n",
       "      <td>2.0</td>\n",
       "      <td>2.0</td>\n",
       "      <td>1900.0</td>\n",
       "      <td>2000.0</td>\n",
       "      <td>NaN</td>\n",
       "      <td>...</td>\n",
       "      <td>0</td>\n",
       "      <td>0</td>\n",
       "      <td>0</td>\n",
       "      <td>0</td>\n",
       "      <td>0</td>\n",
       "      <td>0</td>\n",
       "      <td>1</td>\n",
       "      <td>0</td>\n",
       "      <td>0</td>\n",
       "      <td>0</td>\n",
       "    </tr>\n",
       "    <tr>\n",
       "      <th>4</th>\n",
       "      <td>115.00</td>\n",
       "      <td>244.0</td>\n",
       "      <td>NaN</td>\n",
       "      <td>4.5</td>\n",
       "      <td>2.0</td>\n",
       "      <td>1.0</td>\n",
       "      <td>NaN</td>\n",
       "      <td>1968.0</td>\n",
       "      <td>2019.0</td>\n",
       "      <td>NaN</td>\n",
       "      <td>...</td>\n",
       "      <td>0</td>\n",
       "      <td>0</td>\n",
       "      <td>0</td>\n",
       "      <td>0</td>\n",
       "      <td>0</td>\n",
       "      <td>0</td>\n",
       "      <td>1</td>\n",
       "      <td>0</td>\n",
       "      <td>0</td>\n",
       "      <td>0</td>\n",
       "    </tr>\n",
       "    <tr>\n",
       "      <th>5</th>\n",
       "      <td>310.00</td>\n",
       "      <td>860.0</td>\n",
       "      <td>100.00</td>\n",
       "      <td>8.0</td>\n",
       "      <td>NaN</td>\n",
       "      <td>NaN</td>\n",
       "      <td>3.0</td>\n",
       "      <td>1969.0</td>\n",
       "      <td>NaN</td>\n",
       "      <td>NaN</td>\n",
       "      <td>...</td>\n",
       "      <td>0</td>\n",
       "      <td>0</td>\n",
       "      <td>0</td>\n",
       "      <td>0</td>\n",
       "      <td>0</td>\n",
       "      <td>0</td>\n",
       "      <td>1</td>\n",
       "      <td>0</td>\n",
       "      <td>0</td>\n",
       "      <td>0</td>\n",
       "    </tr>\n",
       "    <tr>\n",
       "      <th>6</th>\n",
       "      <td>502.00</td>\n",
       "      <td>5300.0</td>\n",
       "      <td>163.16</td>\n",
       "      <td>13.0</td>\n",
       "      <td>NaN</td>\n",
       "      <td>4.0</td>\n",
       "      <td>NaN</td>\n",
       "      <td>2004.0</td>\n",
       "      <td>NaN</td>\n",
       "      <td>35.9</td>\n",
       "      <td>...</td>\n",
       "      <td>0</td>\n",
       "      <td>0</td>\n",
       "      <td>0</td>\n",
       "      <td>0</td>\n",
       "      <td>0</td>\n",
       "      <td>0</td>\n",
       "      <td>0</td>\n",
       "      <td>0</td>\n",
       "      <td>1</td>\n",
       "      <td>0</td>\n",
       "    </tr>\n",
       "    <tr>\n",
       "      <th>7</th>\n",
       "      <td>263.00</td>\n",
       "      <td>406.0</td>\n",
       "      <td>118.00</td>\n",
       "      <td>10.0</td>\n",
       "      <td>NaN</td>\n",
       "      <td>NaN</td>\n",
       "      <td>3.0</td>\n",
       "      <td>1989.0</td>\n",
       "      <td>NaN</td>\n",
       "      <td>NaN</td>\n",
       "      <td>...</td>\n",
       "      <td>0</td>\n",
       "      <td>0</td>\n",
       "      <td>0</td>\n",
       "      <td>0</td>\n",
       "      <td>0</td>\n",
       "      <td>0</td>\n",
       "      <td>1</td>\n",
       "      <td>0</td>\n",
       "      <td>0</td>\n",
       "      <td>0</td>\n",
       "    </tr>\n",
       "    <tr>\n",
       "      <th>8</th>\n",
       "      <td>227.00</td>\n",
       "      <td>973.0</td>\n",
       "      <td>83.00</td>\n",
       "      <td>10.0</td>\n",
       "      <td>4.0</td>\n",
       "      <td>4.0</td>\n",
       "      <td>2.0</td>\n",
       "      <td>1809.0</td>\n",
       "      <td>2015.0</td>\n",
       "      <td>183.1</td>\n",
       "      <td>...</td>\n",
       "      <td>0</td>\n",
       "      <td>0</td>\n",
       "      <td>0</td>\n",
       "      <td>0</td>\n",
       "      <td>0</td>\n",
       "      <td>0</td>\n",
       "      <td>0</td>\n",
       "      <td>0</td>\n",
       "      <td>1</td>\n",
       "      <td>0</td>\n",
       "    </tr>\n",
       "    <tr>\n",
       "      <th>9</th>\n",
       "      <td>787.00</td>\n",
       "      <td>933.0</td>\n",
       "      <td>NaN</td>\n",
       "      <td>30.0</td>\n",
       "      <td>NaN</td>\n",
       "      <td>NaN</td>\n",
       "      <td>3.0</td>\n",
       "      <td>1920.0</td>\n",
       "      <td>NaN</td>\n",
       "      <td>NaN</td>\n",
       "      <td>...</td>\n",
       "      <td>0</td>\n",
       "      <td>0</td>\n",
       "      <td>0</td>\n",
       "      <td>0</td>\n",
       "      <td>0</td>\n",
       "      <td>0</td>\n",
       "      <td>0</td>\n",
       "      <td>0</td>\n",
       "      <td>1</td>\n",
       "      <td>0</td>\n",
       "    </tr>\n",
       "  </tbody>\n",
       "</table>\n",
       "<p>10 rows × 6191 columns</p>\n",
       "</div>"
      ],
      "text/plain": [
       "   Living_space     Lot  Usable_area  Rooms  Bedrooms  Bathrooms  Floors  \\\n",
       "0        106.00   229.0          NaN    5.5       3.0        1.0     2.0   \n",
       "1        140.93   517.0        20.00    6.0       3.0        2.0     NaN   \n",
       "2        162.89    82.0        37.62    5.0       3.0        2.0     4.0   \n",
       "3        140.00   814.0          NaN    4.0       NaN        2.0     2.0   \n",
       "4        115.00   244.0          NaN    4.5       2.0        1.0     NaN   \n",
       "5        310.00   860.0       100.00    8.0       NaN        NaN     3.0   \n",
       "6        502.00  5300.0       163.16   13.0       NaN        4.0     NaN   \n",
       "7        263.00   406.0       118.00   10.0       NaN        NaN     3.0   \n",
       "8        227.00   973.0        83.00   10.0       4.0        4.0     2.0   \n",
       "9        787.00   933.0          NaN   30.0       NaN        NaN     3.0   \n",
       "\n",
       "   Year_built  Year_renovated  Energy_consumption  ...  Place_Ückendorf  \\\n",
       "0      2005.0             NaN                 NaN  ...                0   \n",
       "1      1994.0             NaN                 NaN  ...                0   \n",
       "2      2013.0             NaN                 NaN  ...                0   \n",
       "3      1900.0          2000.0                 NaN  ...                0   \n",
       "4      1968.0          2019.0                 NaN  ...                0   \n",
       "5      1969.0             NaN                 NaN  ...                0   \n",
       "6      2004.0             NaN                35.9  ...                0   \n",
       "7      1989.0             NaN                 NaN  ...                0   \n",
       "8      1809.0          2015.0               183.1  ...                0   \n",
       "9      1920.0             NaN                 NaN  ...                0   \n",
       "\n",
       "   Place_Ückesdorf  Place_Ürzig  Garagetype_Car park lot  Garagetype_Carport  \\\n",
       "0                0            0                        0                   0   \n",
       "1                0            0                        0                   0   \n",
       "2                0            0                        0                   0   \n",
       "3                0            0                        0                   0   \n",
       "4                0            0                        0                   0   \n",
       "5                0            0                        0                   0   \n",
       "6                0            0                        0                   0   \n",
       "7                0            0                        0                   0   \n",
       "8                0            0                        0                   0   \n",
       "9                0            0                        0                   0   \n",
       "\n",
       "   Garagetype_Duplex lot  Garagetype_Garage  Garagetype_Outside parking lot  \\\n",
       "0                      0                  0                               0   \n",
       "1                      0                  0                               0   \n",
       "2                      0                  1                               0   \n",
       "3                      0                  1                               0   \n",
       "4                      0                  1                               0   \n",
       "5                      0                  1                               0   \n",
       "6                      0                  0                               0   \n",
       "7                      0                  1                               0   \n",
       "8                      0                  0                               0   \n",
       "9                      0                  0                               0   \n",
       "\n",
       "   Garagetype_Parking lot  Garagetype_Underground parking lot  \n",
       "0                       1                                   0  \n",
       "1                       1                                   0  \n",
       "2                       0                                   0  \n",
       "3                       0                                   0  \n",
       "4                       0                                   0  \n",
       "5                       0                                   0  \n",
       "6                       1                                   0  \n",
       "7                       0                                   0  \n",
       "8                       1                                   0  \n",
       "9                       1                                   0  \n",
       "\n",
       "[10 rows x 6191 columns]"
      ]
     },
     "execution_count": 4,
     "metadata": {},
     "output_type": "execute_result"
    }
   ],
   "source": [
    "X = pd.get_dummies(X)\n",
    "X.head(10)"
   ]
  },
  {
   "cell_type": "code",
   "execution_count": 5,
   "metadata": {
    "id": "-b3yRb5giTTS"
   },
   "outputs": [],
   "source": [
    "X = X.values\n",
    "y = y.values"
   ]
  },
  {
   "cell_type": "code",
   "execution_count": null,
   "metadata": {
    "id": "4bYB32J5iTTS"
   },
   "outputs": [],
   "source": []
  },
  {
   "cell_type": "code",
   "execution_count": null,
   "metadata": {
    "id": "Wu2EOg0hiTTT"
   },
   "outputs": [],
   "source": []
  },
  {
   "cell_type": "code",
   "execution_count": null,
   "metadata": {
    "id": "6VjcJfApiTTT"
   },
   "outputs": [],
   "source": []
  },
  {
   "cell_type": "markdown",
   "metadata": {
    "id": "w0xPZ8rPoGXH"
   },
   "source": [
    "### The result of each model will be added to this list"
   ]
  },
  {
   "cell_type": "code",
   "execution_count": 6,
   "metadata": {
    "id": "fP7wHrm4iTTT"
   },
   "outputs": [],
   "source": [
    "results_r2 = []"
   ]
  },
  {
   "cell_type": "markdown",
   "metadata": {
    "id": "vn1zGLmfiTTU"
   },
   "source": [
    "# Model: XGBoost regression"
   ]
  },
  {
   "cell_type": "markdown",
   "metadata": {
    "id": "aeQ7nGxkiTTU"
   },
   "source": [
    "## Splitting the dataset into the Training set and Test set"
   ]
  },
  {
   "cell_type": "code",
   "execution_count": 7,
   "metadata": {
    "id": "Xcr7Z3V_iTTU"
   },
   "outputs": [],
   "source": [
    "from sklearn.model_selection import train_test_split\n",
    "X_train, X_test, y_train, y_test = train_test_split(X, y, test_size= 0.2, random_state= 0)"
   ]
  },
  {
   "cell_type": "markdown",
   "metadata": {
    "id": "RzcKvOPPiTTU"
   },
   "source": [
    "## Training the XGBoost regression model "
   ]
  },
  {
   "cell_type": "code",
   "execution_count": 8,
   "metadata": {
    "colab": {
     "base_uri": "https://localhost:8080/"
    },
    "id": "4UTxqp8hiTTV",
    "outputId": "f8f215d6-9cb6-4d0f-f0f0-a65d264e1c71"
   },
   "outputs": [
    {
     "name": "stdout",
     "output_type": "stream",
     "text": [
      "[13:36:33] WARNING: C:/Jenkins/workspace/xgboost-win64_release_0.90/src/objective/regression_obj.cu:152: reg:linear is now deprecated in favor of reg:squarederror.\n"
     ]
    },
    {
     "data": {
      "text/plain": [
       "XGBRegressor(seed=0)"
      ]
     },
     "execution_count": 8,
     "metadata": {},
     "output_type": "execute_result"
    }
   ],
   "source": [
    "from xgboost import XGBRegressor\n",
    "#seed = 0 is default\n",
    "regressor = XGBRegressor(seed = 0)\n",
    "regressor.fit(X_train, y_train)"
   ]
  },
  {
   "cell_type": "markdown",
   "metadata": {
    "id": "47UZUJdxiTTV"
   },
   "source": [
    "## Predicting the Test set results"
   ]
  },
  {
   "cell_type": "code",
   "execution_count": 9,
   "metadata": {
    "colab": {
     "base_uri": "https://localhost:8080/"
    },
    "id": "OcWYcRWQiTTV",
    "outputId": "d2a09be3-fb43-4d8a-f748-a91324fbdef3"
   },
   "outputs": [
    {
     "name": "stdout",
     "output_type": "stream",
     "text": [
      "[[677187.19 630000.  ]\n",
      " [418933.78 360000.  ]\n",
      " [385846.41 209000.  ]\n",
      " ...\n",
      " [545446.75 479000.  ]\n",
      " [308815.09 315000.  ]\n",
      " [701730.5  285000.  ]]\n"
     ]
    }
   ],
   "source": [
    "y_pred = regressor.predict(X_test)\n",
    "np.set_printoptions(precision=2)\n",
    "print(np.concatenate((y_pred.reshape(len(y_pred),1), y_test.reshape(len(y_test),1)),1))"
   ]
  },
  {
   "cell_type": "markdown",
   "metadata": {
    "id": "UivwlbQ8iTTV"
   },
   "source": [
    "## Evaluating the Model Performance"
   ]
  },
  {
   "cell_type": "code",
   "execution_count": 10,
   "metadata": {
    "colab": {
     "base_uri": "https://localhost:8080/"
    },
    "id": "aCf2_ezsiTTV",
    "outputId": "d0055e61-770c-4148-d75c-59032aea4cd9"
   },
   "outputs": [
    {
     "name": "stdout",
     "output_type": "stream",
     "text": [
      "0.5652025890094451\n"
     ]
    }
   ],
   "source": [
    "from sklearn.metrics import r2_score\n",
    "results_r2.append(r2_score(y_test,y_pred))\n",
    "print(r2_score(y_test,y_pred))\n"
   ]
  },
  {
   "cell_type": "code",
   "execution_count": null,
   "metadata": {
    "id": "cKMRYA4PiTTW"
   },
   "outputs": [],
   "source": []
  },
  {
   "cell_type": "code",
   "execution_count": null,
   "metadata": {
    "id": "c_4euxJliTTW"
   },
   "outputs": [],
   "source": []
  },
  {
   "cell_type": "code",
   "execution_count": null,
   "metadata": {
    "id": "jQRqlGdjiTTW"
   },
   "outputs": [],
   "source": []
  },
  {
   "cell_type": "markdown",
   "metadata": {
    "id": "VOvvAlfniTTY"
   },
   "source": [
    "## Evaluating the Model Performance"
   ]
  },
  {
   "cell_type": "code",
   "execution_count": 11,
   "metadata": {
    "colab": {
     "base_uri": "https://localhost:8080/"
    },
    "id": "ae4yntjhiTTY",
    "outputId": "b5ff0285-71b0-4bc5-b502-6636fdf51673"
   },
   "outputs": [
    {
     "name": "stdout",
     "output_type": "stream",
     "text": [
      "0.5652025890094451\n"
     ]
    }
   ],
   "source": [
    "from sklearn.metrics import r2_score\n",
    "results_r2.append(r2_score(y_test,y_pred))\n",
    "print(r2_score(y_test,y_pred))"
   ]
  },
  {
   "cell_type": "code",
   "execution_count": null,
   "metadata": {
    "id": "Otb0tjrviTTo"
   },
   "outputs": [],
   "source": []
  },
  {
   "cell_type": "code",
   "execution_count": null,
   "metadata": {
    "id": "t-C-uoTUlx5y"
   },
   "outputs": [],
   "source": []
  },
  {
   "cell_type": "code",
   "execution_count": 12,
   "metadata": {
    "colab": {
     "base_uri": "https://localhost:8080/",
     "height": 441
    },
    "id": "5MwNUZ5kiTTo",
    "outputId": "01c3fc68-0296-42fc-83de-70df1aa96a06"
   },
   "outputs": [
    {
     "data": {
      "image/png": "[encoded data removed]",
      "text/plain": [
       "<Figure size 864x432 with 1 Axes>"
      ]
     },
     "metadata": {},
     "output_type": "display_data"
    }
   ],
   "source": [
    "import matplotlib.cm as cm\n",
    "from numpy.random import rand\n",
    "\n",
    "# get a color map\n",
    "cmap = cm.get_cmap('jet')\n",
    "# 5 nbrs 0 - 1 in array\n",
    "my_colors = rand(5)\n",
    "\n",
    "plt.style.use('fivethirtyeight')\n",
    "plt.figure(figsize =(12,6))\n",
    "\n",
    "models = np.array([\"XGB\"])\n",
    "\n",
    "plt.bar(models, results_r2, color = cmap(my_colors))\n",
    "plt.xlabel(\"Models\")\n",
    "plt.ylabel(\"R2\")\n",
    "plt.title(\"Model performance on test data set raw\")\n",
    "plt.ylim(0.0, 1)\n",
    "plt.show()"
   ]
  }
 ],
 "metadata": {
  "colab": {
   "collapsed_sections": [],
   "name": "Model_selection_dataset_2_XGBoost.ipynb",
   "provenance": [],
   "toc_visible": true
  },
  "kernelspec": {
   "display_name": "Python 3",
   "language": "python",
   "name": "python3"
  },
  "language_info": {
   "codemirror_mode": {
    "name": "ipython",
    "version": 3
   },
   "file_extension": ".py",
   "mimetype": "text/x-python",
   "name": "python",
   "nbconvert_exporter": "python",
   "pygments_lexer": "ipython3",
   "version": "3.9.2"
  }
 },
 "nbformat": 4,
 "nbformat_minor": 1
}
