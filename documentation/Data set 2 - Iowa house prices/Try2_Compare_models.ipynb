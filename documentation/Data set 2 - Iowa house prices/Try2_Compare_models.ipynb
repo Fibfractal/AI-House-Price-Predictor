{
 "cells": [
  {
   "cell_type": "markdown",
   "metadata": {
    "id": "r3cas2_1T98w"
   },
   "source": [
    "# Testing Model selection, for data in the Top 10-set"
   ]
  },
  {
   "cell_type": "markdown",
   "metadata": {},
   "source": [
    "Previously we hade checked diffrent models on another dataset and concluded that XGBoost gave the best result.\n",
    "Before completting the project, we wanted to check the data produced in the Top10-set against those same models to make sure that XGBoost was in fact the best model in this case also."
   ]
  },
  {
   "cell_type": "markdown",
   "metadata": {
    "id": "IODliia6U1xO"
   },
   "source": [
    "## Importing the libraries"
   ]
  },
  {
   "cell_type": "code",
   "execution_count": 1,
   "metadata": {
    "id": "y98nA5UdU6Hf"
   },
   "outputs": [],
   "source": [
    "import numpy as np\n",
    "import matplotlib.pyplot as plt\n",
    "import pandas as pd\n",
    "import warnings\n",
    "warnings.filterwarnings(\"ignore\")"
   ]
  },
  {
   "cell_type": "markdown",
   "metadata": {
    "id": "jpjZ43YlU8eI"
   },
   "source": [
    "## Importing the dataset"
   ]
  },
  {
   "cell_type": "code",
   "execution_count": 2,
   "metadata": {
    "colab": {
     "base_uri": "https://localhost:8080/",
     "height": 289
    },
    "id": "pLVaXoYVU_Uy",
    "outputId": "a1b63fbf-e812-46ef-bd2d-d943aacb50d5"
   },
   "outputs": [
    {
     "data": {
      "text/html": [
       "<div>\n",
       "<style scoped>\n",
       "    .dataframe tbody tr th:only-of-type {\n",
       "        vertical-align: middle;\n",
       "    }\n",
       "\n",
       "    .dataframe tbody tr th {\n",
       "        vertical-align: top;\n",
       "    }\n",
       "\n",
       "    .dataframe thead th {\n",
       "        text-align: right;\n",
       "    }\n",
       "</style>\n",
       "<table border=\"1\" class=\"dataframe\">\n",
       "  <thead>\n",
       "    <tr style=\"text-align: right;\">\n",
       "      <th></th>\n",
       "      <th>TotRmsAbvGrd</th>\n",
       "      <th>YearBuilt</th>\n",
       "      <th>LandContour</th>\n",
       "      <th>BsmtFinSF1</th>\n",
       "      <th>GarageCars</th>\n",
       "      <th>1stFlrSF</th>\n",
       "      <th>TotalBsmtSF</th>\n",
       "      <th>2ndFlrSF</th>\n",
       "      <th>GrLivArea</th>\n",
       "      <th>OverallQual</th>\n",
       "      <th>Saleprice</th>\n",
       "    </tr>\n",
       "  </thead>\n",
       "  <tbody>\n",
       "    <tr>\n",
       "      <th>0</th>\n",
       "      <td>8</td>\n",
       "      <td>2003</td>\n",
       "      <td>Lvl</td>\n",
       "      <td>706</td>\n",
       "      <td>2</td>\n",
       "      <td>856</td>\n",
       "      <td>856</td>\n",
       "      <td>854</td>\n",
       "      <td>1710</td>\n",
       "      <td>7</td>\n",
       "      <td>208500</td>\n",
       "    </tr>\n",
       "    <tr>\n",
       "      <th>1</th>\n",
       "      <td>6</td>\n",
       "      <td>1976</td>\n",
       "      <td>Lvl</td>\n",
       "      <td>978</td>\n",
       "      <td>2</td>\n",
       "      <td>1262</td>\n",
       "      <td>1262</td>\n",
       "      <td>0</td>\n",
       "      <td>1262</td>\n",
       "      <td>6</td>\n",
       "      <td>181500</td>\n",
       "    </tr>\n",
       "    <tr>\n",
       "      <th>2</th>\n",
       "      <td>6</td>\n",
       "      <td>2001</td>\n",
       "      <td>Lvl</td>\n",
       "      <td>486</td>\n",
       "      <td>2</td>\n",
       "      <td>920</td>\n",
       "      <td>920</td>\n",
       "      <td>866</td>\n",
       "      <td>1786</td>\n",
       "      <td>7</td>\n",
       "      <td>223500</td>\n",
       "    </tr>\n",
       "    <tr>\n",
       "      <th>3</th>\n",
       "      <td>7</td>\n",
       "      <td>1915</td>\n",
       "      <td>Lvl</td>\n",
       "      <td>216</td>\n",
       "      <td>3</td>\n",
       "      <td>961</td>\n",
       "      <td>756</td>\n",
       "      <td>756</td>\n",
       "      <td>1717</td>\n",
       "      <td>7</td>\n",
       "      <td>140000</td>\n",
       "    </tr>\n",
       "    <tr>\n",
       "      <th>4</th>\n",
       "      <td>9</td>\n",
       "      <td>2000</td>\n",
       "      <td>Lvl</td>\n",
       "      <td>655</td>\n",
       "      <td>3</td>\n",
       "      <td>1145</td>\n",
       "      <td>1145</td>\n",
       "      <td>1053</td>\n",
       "      <td>2198</td>\n",
       "      <td>8</td>\n",
       "      <td>250000</td>\n",
       "    </tr>\n",
       "  </tbody>\n",
       "</table>\n",
       "</div>"
      ],
      "text/plain": [
       "   TotRmsAbvGrd  YearBuilt LandContour  BsmtFinSF1  GarageCars  1stFlrSF  \\\n",
       "0             8       2003         Lvl         706           2       856   \n",
       "1             6       1976         Lvl         978           2      1262   \n",
       "2             6       2001         Lvl         486           2       920   \n",
       "3             7       1915         Lvl         216           3       961   \n",
       "4             9       2000         Lvl         655           3      1145   \n",
       "\n",
       "   TotalBsmtSF  2ndFlrSF  GrLivArea  OverallQual  Saleprice  \n",
       "0          856       854       1710            7     208500  \n",
       "1         1262         0       1262            6     181500  \n",
       "2          920       866       1786            7     223500  \n",
       "3          756       756       1717            7     140000  \n",
       "4         1145      1053       2198            8     250000  "
      ]
     },
     "execution_count": 2,
     "metadata": {},
     "output_type": "execute_result"
    }
   ],
   "source": [
    "dataset = pd.read_csv('top10andprice.csv')\n",
    "X = dataset.iloc[:, :-1]\n",
    "y = dataset.iloc[:, -1]\n",
    "dataset.head()"
   ]
  },
  {
   "cell_type": "markdown",
   "metadata": {
    "id": "BSG-NjWNiTTP"
   },
   "source": [
    "## Encoding categorical data"
   ]
  },
  {
   "cell_type": "markdown",
   "metadata": {
    "id": "3KEVnY2MiTTQ"
   },
   "source": [
    "We can see below, that the column number 2 have categorical data and must be one hot encoded."
   ]
  },
  {
   "cell_type": "code",
   "execution_count": 3,
   "metadata": {
    "colab": {
     "base_uri": "https://localhost:8080/"
    },
    "id": "SLF0lyCRiTTQ",
    "outputId": "8e1723c8-1ae1-424c-c322-c5905b6f4a11"
   },
   "outputs": [
    {
     "name": "stdout",
     "output_type": "stream",
     "text": [
      "<class 'pandas.core.frame.DataFrame'>\n",
      "RangeIndex: 1460 entries, 0 to 1459\n",
      "Data columns (total 11 columns):\n",
      " #   Column        Non-Null Count  Dtype \n",
      "---  ------        --------------  ----- \n",
      " 0   TotRmsAbvGrd  1460 non-null   int64 \n",
      " 1   YearBuilt     1460 non-null   int64 \n",
      " 2   LandContour   1460 non-null   object\n",
      " 3   BsmtFinSF1    1460 non-null   int64 \n",
      " 4   GarageCars    1460 non-null   int64 \n",
      " 5   1stFlrSF      1460 non-null   int64 \n",
      " 6   TotalBsmtSF   1460 non-null   int64 \n",
      " 7   2ndFlrSF      1460 non-null   int64 \n",
      " 8   GrLivArea     1460 non-null   int64 \n",
      " 9   OverallQual   1460 non-null   int64 \n",
      " 10  Saleprice     1460 non-null   int64 \n",
      "dtypes: int64(10), object(1)\n",
      "memory usage: 125.6+ KB\n"
     ]
    }
   ],
   "source": [
    "dataset.info()"
   ]
  },
  {
   "cell_type": "markdown",
   "metadata": {
    "id": "YjYGMCxUp17G"
   },
   "source": [
    "### The onehot encoding of the columns"
   ]
  },
  {
   "cell_type": "code",
   "execution_count": 4,
   "metadata": {
    "colab": {
     "base_uri": "https://localhost:8080/",
     "height": 459
    },
    "id": "0Y0-fCjZiTTS",
    "outputId": "b1e5073a-fe2a-4852-9c34-a3b963411101"
   },
   "outputs": [
    {
     "data": {
      "text/html": [
       "<div>\n",
       "<style scoped>\n",
       "    .dataframe tbody tr th:only-of-type {\n",
       "        vertical-align: middle;\n",
       "    }\n",
       "\n",
       "    .dataframe tbody tr th {\n",
       "        vertical-align: top;\n",
       "    }\n",
       "\n",
       "    .dataframe thead th {\n",
       "        text-align: right;\n",
       "    }\n",
       "</style>\n",
       "<table border=\"1\" class=\"dataframe\">\n",
       "  <thead>\n",
       "    <tr style=\"text-align: right;\">\n",
       "      <th></th>\n",
       "      <th>TotRmsAbvGrd</th>\n",
       "      <th>YearBuilt</th>\n",
       "      <th>BsmtFinSF1</th>\n",
       "      <th>GarageCars</th>\n",
       "      <th>1stFlrSF</th>\n",
       "      <th>TotalBsmtSF</th>\n",
       "      <th>2ndFlrSF</th>\n",
       "      <th>GrLivArea</th>\n",
       "      <th>OverallQual</th>\n",
       "      <th>LandContour_Bnk</th>\n",
       "      <th>LandContour_HLS</th>\n",
       "      <th>LandContour_Low</th>\n",
       "      <th>LandContour_Lvl</th>\n",
       "    </tr>\n",
       "  </thead>\n",
       "  <tbody>\n",
       "    <tr>\n",
       "      <th>0</th>\n",
       "      <td>8</td>\n",
       "      <td>2003</td>\n",
       "      <td>706</td>\n",
       "      <td>2</td>\n",
       "      <td>856</td>\n",
       "      <td>856</td>\n",
       "      <td>854</td>\n",
       "      <td>1710</td>\n",
       "      <td>7</td>\n",
       "      <td>0</td>\n",
       "      <td>0</td>\n",
       "      <td>0</td>\n",
       "      <td>1</td>\n",
       "    </tr>\n",
       "    <tr>\n",
       "      <th>1</th>\n",
       "      <td>6</td>\n",
       "      <td>1976</td>\n",
       "      <td>978</td>\n",
       "      <td>2</td>\n",
       "      <td>1262</td>\n",
       "      <td>1262</td>\n",
       "      <td>0</td>\n",
       "      <td>1262</td>\n",
       "      <td>6</td>\n",
       "      <td>0</td>\n",
       "      <td>0</td>\n",
       "      <td>0</td>\n",
       "      <td>1</td>\n",
       "    </tr>\n",
       "    <tr>\n",
       "      <th>2</th>\n",
       "      <td>6</td>\n",
       "      <td>2001</td>\n",
       "      <td>486</td>\n",
       "      <td>2</td>\n",
       "      <td>920</td>\n",
       "      <td>920</td>\n",
       "      <td>866</td>\n",
       "      <td>1786</td>\n",
       "      <td>7</td>\n",
       "      <td>0</td>\n",
       "      <td>0</td>\n",
       "      <td>0</td>\n",
       "      <td>1</td>\n",
       "    </tr>\n",
       "    <tr>\n",
       "      <th>3</th>\n",
       "      <td>7</td>\n",
       "      <td>1915</td>\n",
       "      <td>216</td>\n",
       "      <td>3</td>\n",
       "      <td>961</td>\n",
       "      <td>756</td>\n",
       "      <td>756</td>\n",
       "      <td>1717</td>\n",
       "      <td>7</td>\n",
       "      <td>0</td>\n",
       "      <td>0</td>\n",
       "      <td>0</td>\n",
       "      <td>1</td>\n",
       "    </tr>\n",
       "    <tr>\n",
       "      <th>4</th>\n",
       "      <td>9</td>\n",
       "      <td>2000</td>\n",
       "      <td>655</td>\n",
       "      <td>3</td>\n",
       "      <td>1145</td>\n",
       "      <td>1145</td>\n",
       "      <td>1053</td>\n",
       "      <td>2198</td>\n",
       "      <td>8</td>\n",
       "      <td>0</td>\n",
       "      <td>0</td>\n",
       "      <td>0</td>\n",
       "      <td>1</td>\n",
       "    </tr>\n",
       "    <tr>\n",
       "      <th>5</th>\n",
       "      <td>5</td>\n",
       "      <td>1993</td>\n",
       "      <td>732</td>\n",
       "      <td>2</td>\n",
       "      <td>796</td>\n",
       "      <td>796</td>\n",
       "      <td>566</td>\n",
       "      <td>1362</td>\n",
       "      <td>5</td>\n",
       "      <td>0</td>\n",
       "      <td>0</td>\n",
       "      <td>0</td>\n",
       "      <td>1</td>\n",
       "    </tr>\n",
       "    <tr>\n",
       "      <th>6</th>\n",
       "      <td>7</td>\n",
       "      <td>2004</td>\n",
       "      <td>1369</td>\n",
       "      <td>2</td>\n",
       "      <td>1694</td>\n",
       "      <td>1686</td>\n",
       "      <td>0</td>\n",
       "      <td>1694</td>\n",
       "      <td>8</td>\n",
       "      <td>0</td>\n",
       "      <td>0</td>\n",
       "      <td>0</td>\n",
       "      <td>1</td>\n",
       "    </tr>\n",
       "    <tr>\n",
       "      <th>7</th>\n",
       "      <td>7</td>\n",
       "      <td>1973</td>\n",
       "      <td>859</td>\n",
       "      <td>2</td>\n",
       "      <td>1107</td>\n",
       "      <td>1107</td>\n",
       "      <td>983</td>\n",
       "      <td>2090</td>\n",
       "      <td>7</td>\n",
       "      <td>0</td>\n",
       "      <td>0</td>\n",
       "      <td>0</td>\n",
       "      <td>1</td>\n",
       "    </tr>\n",
       "    <tr>\n",
       "      <th>8</th>\n",
       "      <td>8</td>\n",
       "      <td>1931</td>\n",
       "      <td>0</td>\n",
       "      <td>2</td>\n",
       "      <td>1022</td>\n",
       "      <td>952</td>\n",
       "      <td>752</td>\n",
       "      <td>1774</td>\n",
       "      <td>7</td>\n",
       "      <td>0</td>\n",
       "      <td>0</td>\n",
       "      <td>0</td>\n",
       "      <td>1</td>\n",
       "    </tr>\n",
       "    <tr>\n",
       "      <th>9</th>\n",
       "      <td>5</td>\n",
       "      <td>1939</td>\n",
       "      <td>851</td>\n",
       "      <td>1</td>\n",
       "      <td>1077</td>\n",
       "      <td>991</td>\n",
       "      <td>0</td>\n",
       "      <td>1077</td>\n",
       "      <td>5</td>\n",
       "      <td>0</td>\n",
       "      <td>0</td>\n",
       "      <td>0</td>\n",
       "      <td>1</td>\n",
       "    </tr>\n",
       "  </tbody>\n",
       "</table>\n",
       "</div>"
      ],
      "text/plain": [
       "   TotRmsAbvGrd  YearBuilt  BsmtFinSF1  GarageCars  1stFlrSF  TotalBsmtSF  \\\n",
       "0             8       2003         706           2       856          856   \n",
       "1             6       1976         978           2      1262         1262   \n",
       "2             6       2001         486           2       920          920   \n",
       "3             7       1915         216           3       961          756   \n",
       "4             9       2000         655           3      1145         1145   \n",
       "5             5       1993         732           2       796          796   \n",
       "6             7       2004        1369           2      1694         1686   \n",
       "7             7       1973         859           2      1107         1107   \n",
       "8             8       1931           0           2      1022          952   \n",
       "9             5       1939         851           1      1077          991   \n",
       "\n",
       "   2ndFlrSF  GrLivArea  OverallQual  LandContour_Bnk  LandContour_HLS  \\\n",
       "0       854       1710            7                0                0   \n",
       "1         0       1262            6                0                0   \n",
       "2       866       1786            7                0                0   \n",
       "3       756       1717            7                0                0   \n",
       "4      1053       2198            8                0                0   \n",
       "5       566       1362            5                0                0   \n",
       "6         0       1694            8                0                0   \n",
       "7       983       2090            7                0                0   \n",
       "8       752       1774            7                0                0   \n",
       "9         0       1077            5                0                0   \n",
       "\n",
       "   LandContour_Low  LandContour_Lvl  \n",
       "0                0                1  \n",
       "1                0                1  \n",
       "2                0                1  \n",
       "3                0                1  \n",
       "4                0                1  \n",
       "5                0                1  \n",
       "6                0                1  \n",
       "7                0                1  \n",
       "8                0                1  \n",
       "9                0                1  "
      ]
     },
     "execution_count": 4,
     "metadata": {},
     "output_type": "execute_result"
    }
   ],
   "source": [
    "X = pd.get_dummies(X)\n",
    "X.head(10)"
   ]
  },
  {
   "cell_type": "code",
   "execution_count": 5,
   "metadata": {
    "id": "-b3yRb5giTTS"
   },
   "outputs": [],
   "source": [
    "X = X.values\n",
    "y = y.values"
   ]
  },
  {
   "cell_type": "markdown",
   "metadata": {
    "id": "w0xPZ8rPoGXH"
   },
   "source": [
    "### The result of each model will be added to this list"
   ]
  },
  {
   "cell_type": "code",
   "execution_count": 6,
   "metadata": {
    "id": "fP7wHrm4iTTT"
   },
   "outputs": [],
   "source": [
    "results_r2 = []"
   ]
  },
  {
   "cell_type": "markdown",
   "metadata": {},
   "source": [
    "Once we have our array, we can start using the various methods/models."
   ]
  },
  {
   "cell_type": "markdown",
   "metadata": {
    "id": "vn1zGLmfiTTU"
   },
   "source": [
    "# Model: XGBoost regression"
   ]
  },
  {
   "cell_type": "markdown",
   "metadata": {
    "id": "aeQ7nGxkiTTU"
   },
   "source": [
    "## Splitting the dataset into the Training set and Test set"
   ]
  },
  {
   "cell_type": "code",
   "execution_count": 7,
   "metadata": {
    "id": "Xcr7Z3V_iTTU"
   },
   "outputs": [],
   "source": [
    "from sklearn.model_selection import train_test_split\n",
    "X_train, X_test, y_train, y_test = train_test_split(X, y, test_size= 0.2, random_state= 0)"
   ]
  },
  {
   "cell_type": "markdown",
   "metadata": {
    "id": "RzcKvOPPiTTU"
   },
   "source": [
    "## Training the XGBoost regression model "
   ]
  },
  {
   "cell_type": "code",
   "execution_count": 8,
   "metadata": {
    "colab": {
     "base_uri": "https://localhost:8080/"
    },
    "id": "4UTxqp8hiTTV",
    "outputId": "d38a2aca-8679-4d54-fdb8-20cc4a13e9cd"
   },
   "outputs": [
    {
     "data": {
      "text/plain": [
       "XGBRegressor(base_score=0.5, booster='gbtree', colsample_bylevel=1,\n",
       "             colsample_bynode=1, colsample_bytree=1, gamma=0, gpu_id=-1,\n",
       "             importance_type='gain', interaction_constraints='',\n",
       "             learning_rate=0.300000012, max_delta_step=0, max_depth=6,\n",
       "             min_child_weight=1, missing=nan, monotone_constraints='()',\n",
       "             n_estimators=100, n_jobs=8, num_parallel_tree=1, random_state=0,\n",
       "             reg_alpha=0, reg_lambda=1, scale_pos_weight=1, seed=0, subsample=1,\n",
       "             tree_method='exact', validate_parameters=1, verbosity=None)"
      ]
     },
     "execution_count": 8,
     "metadata": {},
     "output_type": "execute_result"
    }
   ],
   "source": [
    "from xgboost import XGBRegressor\n",
    "#seed = 0 is default\n",
    "regressor = XGBRegressor(seed = 0)\n",
    "regressor.fit(X_train, y_train)"
   ]
  },
  {
   "cell_type": "markdown",
   "metadata": {
    "id": "47UZUJdxiTTV"
   },
   "source": [
    "## Predicting the Test set results"
   ]
  },
  {
   "cell_type": "code",
   "execution_count": 9,
   "metadata": {
    "colab": {
     "base_uri": "https://localhost:8080/"
    },
    "id": "OcWYcRWQiTTV",
    "outputId": "31f22bca-8b3b-4461-e144-a0ba912aea18"
   },
   "outputs": [
    {
     "name": "stdout",
     "output_type": "stream",
     "text": [
      "[[268616.91 200624.  ]\n",
      " [134145.41 133000.  ]\n",
      " [115241.47 110000.  ]\n",
      " [224192.3  192000.  ]\n",
      " [ 84624.42  88000.  ]\n",
      " [114255.57  85000.  ]\n",
      " [273759.91 282922.  ]\n",
      " [120748.48 141000.  ]\n",
      " [647299.62 745000.  ]\n",
      " [151545.2  148800.  ]\n",
      " [207496.84 208900.  ]\n",
      " [149168.36 136905.  ]\n",
      " [225470.17 225000.  ]\n",
      " [129125.52 123000.  ]\n",
      " [143378.91 119200.  ]\n",
      " [150941.78 145000.  ]\n",
      " [207925.55 190000.  ]\n",
      " [116103.92 123600.  ]\n",
      " [129082.12 149350.  ]\n",
      " [188426.08 155000.  ]\n",
      " [136327.08 166000.  ]\n",
      " [145646.66 144500.  ]\n",
      " [104045.16 110000.  ]\n",
      " [170363.91 174000.  ]\n",
      " [171670.39 185000.  ]\n",
      " [146942.5  168000.  ]\n",
      " [180437.31 177500.  ]\n",
      " [ 74575.54  84500.  ]\n",
      " [361920.38 320000.  ]\n",
      " [121242.62 118500.  ]\n",
      " [124880.2  110000.  ]\n",
      " [187729.48 213000.  ]\n",
      " [141876.33 156000.  ]\n",
      " [290945.88 250000.  ]\n",
      " [256832.98 372500.  ]\n",
      " [171180.47 175000.  ]\n",
      " [285192.47 277500.  ]\n",
      " [138615.77 112500.  ]\n",
      " [216736.06 263000.  ]\n",
      " [281292.03 325000.  ]\n",
      " [257299.08 243000.  ]\n",
      " [136754.2  130000.  ]\n",
      " [180403.56 164990.  ]\n",
      " [263293.62 280000.  ]\n",
      " [348064.53 403000.  ]\n",
      " [128555.13 119000.  ]\n",
      " [117434.08 125000.  ]\n",
      " [122638.83 128200.  ]\n",
      " [169837.97 172500.  ]\n",
      " [ 77454.32  84900.  ]\n",
      " [364807.28 412500.  ]\n",
      " [143305.34 156000.  ]\n",
      " [172632.62 167900.  ]\n",
      " [ 78841.91 100000.  ]\n",
      " [254331.02 275000.  ]\n",
      " [118034.56 123000.  ]\n",
      " [159996.94 132000.  ]\n",
      " [245463.33 239900.  ]\n",
      " [167471.89 139000.  ]\n",
      " [106602.02 115000.  ]\n",
      " [141482.47 137500.  ]\n",
      " [133967.34 135000.  ]\n",
      " [138647.3  134450.  ]\n",
      " [138589.55 180500.  ]\n",
      " [209264.47 193500.  ]\n",
      " [172594.92 156500.  ]\n",
      " [130354.52 132000.  ]\n",
      " [209392.09 224500.  ]\n",
      " [103348.69 139000.  ]\n",
      " [198810.45 225000.  ]\n",
      " [174842.69 188500.  ]\n",
      " [119733.09 118000.  ]\n",
      " [101514.46  82000.  ]\n",
      " [257171.12 392000.  ]\n",
      " [111458.05 112000.  ]\n",
      " [267893.06 248900.  ]\n",
      " [135100.27 134500.  ]\n",
      " [ 92652.52  79500.  ]\n",
      " [281216.31 320000.  ]\n",
      " [138952.89 158000.  ]\n",
      " [132644.03 140000.  ]\n",
      " [129389.63 136500.  ]\n",
      " [122716.73 107500.  ]\n",
      " [149022.17 145000.  ]\n",
      " [187845.77 200500.  ]\n",
      " [183744.03 185000.  ]\n",
      " [ 83561.36 105000.  ]\n",
      " [204974.06 202665.  ]\n",
      " [199998.78 186000.  ]\n",
      " [147790.27 136000.  ]\n",
      " [199085.8  200500.  ]\n",
      " [179077.55 190000.  ]\n",
      " [172069.28 187500.  ]\n",
      " [224657.77 200000.  ]\n",
      " [182473.83 172500.  ]\n",
      " [140347.91 157000.  ]\n",
      " [214480.84 213000.  ]\n",
      " [157652.92 185000.  ]\n",
      " [118043.02 124500.  ]\n",
      " [141280.16 162900.  ]\n",
      " [279438.25 260000.  ]\n",
      " [203800.17 198500.  ]\n",
      " [103358.74 120000.  ]\n",
      " [149485.67 159500.  ]\n",
      " [ 89019.36 105900.  ]\n",
      " [279157.06 260000.  ]\n",
      " [149594.41 143000.  ]\n",
      " [116146.68 106500.  ]\n",
      " [171761.23 178900.  ]\n",
      " [118651.43 127000.  ]\n",
      " [100994.78  90350.  ]\n",
      " [129791.64 118500.  ]\n",
      " [191221.27 190000.  ]\n",
      " [125445.7  119900.  ]\n",
      " [175524.67 183900.  ]\n",
      " [166253.8  155000.  ]\n",
      " [425578.19 386250.  ]\n",
      " [130452.17 133000.  ]\n",
      " [206532.48 193500.  ]\n",
      " [262044.45 270000.  ]\n",
      " [159952.38 141000.  ]\n",
      " [184229.17 146000.  ]\n",
      " [144940.09 128500.  ]\n",
      " [215985.8  176000.  ]\n",
      " [231337.33 214000.  ]\n",
      " [231832.47 222000.  ]\n",
      " [368142.19 415298.  ]\n",
      " [169628.84 187750.  ]\n",
      " [192182.8  199900.  ]\n",
      " [182734.12 180000.  ]\n",
      " [187970.16 206300.  ]\n",
      " [182463.02 194000.  ]\n",
      " [137937.28 142953.  ]\n",
      " [180804.83 182900.  ]\n",
      " [104986.2  116050.  ]\n",
      " [230525.95 213250.  ]\n",
      " [140392.86 139500.  ]\n",
      " [198633.48 179000.  ]\n",
      " [112921.23 107900.  ]\n",
      " [182952.59 175900.  ]\n",
      " [130314.06 158500.  ]\n",
      " [139328.09 145000.  ]\n",
      " [262253.53 217000.  ]\n",
      " [145035.14 150500.  ]\n",
      " [167319.09 108959.  ]\n",
      " [169730.   165600.  ]\n",
      " [247792.45 201000.  ]\n",
      " [132778.98 145500.  ]\n",
      " [284659.72 319900.  ]\n",
      " [238718.75 215000.  ]\n",
      " [163219.33 180500.  ]\n",
      " [400592.09 367294.  ]\n",
      " [265265.16 239000.  ]\n",
      " [110480.   145900.  ]\n",
      " [207079.28 161000.  ]\n",
      " [265465.16 250000.  ]\n",
      " [ 99937.66  89471.  ]\n",
      " [165963.98 230000.  ]\n",
      " [118413.89 147000.  ]\n",
      " [161268.22 163900.  ]\n",
      " [120323.71  97000.  ]\n",
      " [147647.11 142000.  ]\n",
      " [181478.89 197000.  ]\n",
      " [109567.72 129000.  ]\n",
      " [234874.42 232000.  ]\n",
      " [127078.77 115000.  ]\n",
      " [144580.03 175000.  ]\n",
      " [257796.89 265000.  ]\n",
      " [195119.66 207000.  ]\n",
      " [156169.92 181000.  ]\n",
      " [170325.83 176000.  ]\n",
      " [170443.53 171000.  ]\n",
      " [184941.66 196000.  ]\n",
      " [163364.56 176000.  ]\n",
      " [129840.59 113000.  ]\n",
      " [ 98515.43 139000.  ]\n",
      " [142453.06 135000.  ]\n",
      " [264748.06 240000.  ]\n",
      " [124705.76 112000.  ]\n",
      " [152917.   134000.  ]\n",
      " [291499.75 316600.  ]\n",
      " [194610.22 170000.  ]\n",
      " [ 91470.72 116000.  ]\n",
      " [325006.59 306000.  ]\n",
      " [110691.95  82500.  ]\n",
      " [186739.95 175000.  ]\n",
      " [ 90079.91 106000.  ]\n",
      " [199123.88 194000.  ]\n",
      " [192915.16 194201.  ]\n",
      " [144571.47 155900.  ]\n",
      " [145781.22 138000.  ]\n",
      " [161769.75 177000.  ]\n",
      " [210907.03 214000.  ]\n",
      " [138159.05 148000.  ]\n",
      " [109023.81 127000.  ]\n",
      " [142506.44 142500.  ]\n",
      " [ 86682.03  80000.  ]\n",
      " [139213.61 145000.  ]\n",
      " [165544.22 171000.  ]\n",
      " [129325.2  122500.  ]\n",
      " [143785.95 139000.  ]\n",
      " [183560.42 189000.  ]\n",
      " [112481.37 120500.  ]\n",
      " [ 86275.68 124000.  ]\n",
      " [114282.41 160000.  ]\n",
      " [181910.02 200000.  ]\n",
      " [151109.59 160000.  ]\n",
      " [334727.25 313000.  ]\n",
      " [255499.2  275000.  ]\n",
      " [ 54251.27  67000.  ]\n",
      " [161313.44 159000.  ]\n",
      " [288835.06 251000.  ]\n",
      " [ 93148.62  92900.  ]\n",
      " [100220.62 109500.  ]\n",
      " [315042.94 385000.  ]\n",
      " [245368.56 129000.  ]\n",
      " [187765.58  82500.  ]\n",
      " [287542.03 301000.  ]\n",
      " [266468.97 249700.  ]\n",
      " [ 79104.1   81000.  ]\n",
      " [202445.38 187500.  ]\n",
      " [161558.39 110000.  ]\n",
      " [121953.53 117000.  ]\n",
      " [123971.09 128500.  ]\n",
      " [191940.98 213490.  ]\n",
      " [228025.2  284000.  ]\n",
      " [250896.39 230500.  ]\n",
      " [209532.31 190000.  ]\n",
      " [134336.05 135000.  ]\n",
      " [169405.05 152000.  ]\n",
      " [ 92204.43  87500.  ]\n",
      " [139521.5  155000.  ]\n",
      " [ 88659.57 115000.  ]\n",
      " [140868.61 144000.  ]\n",
      " [216937.17 248000.  ]\n",
      " [129232.85 132500.  ]\n",
      " [139366.06 136000.  ]\n",
      " [118799.97 117000.  ]\n",
      " [ 90399.11  82000.  ]\n",
      " [196630.03 157500.  ]\n",
      " [138449.14 110000.  ]\n",
      " [178408.08 181000.  ]\n",
      " [197356.41 192500.  ]\n",
      " [211428.7  223500.  ]\n",
      " [169813.45 181500.  ]\n",
      " [190613.45 170000.  ]\n",
      " [216553.92 187500.  ]\n",
      " [181170.08 185900.  ]\n",
      " [117741.01 160000.  ]\n",
      " [197569.77 192000.  ]\n",
      " [174764.16 181900.  ]\n",
      " [264302.59 266000.  ]\n",
      " [ 84385.08  99900.  ]\n",
      " [464784.12 438780.  ]\n",
      " [248493.33 229456.  ]\n",
      " [235272.45 216837.  ]\n",
      " [ 96368.34 110500.  ]\n",
      " [244068.56 175900.  ]\n",
      " [427683.09 538000.  ]\n",
      " [203099.06 160000.  ]\n",
      " [210835.58 172500.  ]\n",
      " [126891.45 108000.  ]\n",
      " [116559.8  131500.  ]\n",
      " [ 89302.5  106250.  ]\n",
      " [447620.19 385000.  ]\n",
      " [341965.88 370878.  ]\n",
      " [292702.88 345000.  ]\n",
      " [ 65836.02  68500.  ]\n",
      " [216764.83 250000.  ]\n",
      " [334053.91 245350.  ]\n",
      " [131408.95 125000.  ]\n",
      " [186321.77 234000.  ]\n",
      " [151962.62 145000.  ]\n",
      " [179312.   181000.  ]\n",
      " [159110.77 104000.  ]\n",
      " [223802.48 233000.  ]\n",
      " [243486.16 164000.  ]\n",
      " [191567.94 219500.  ]\n",
      " [219769.28 195000.  ]\n",
      " [119324.29 108000.  ]\n",
      " [132980.06 149900.  ]\n",
      " [355981.06 315000.  ]\n",
      " [149343.25 177500.  ]\n",
      " [150844.44 140000.  ]\n",
      " [170694.61 193879.  ]\n",
      " [210820.7  137900.  ]\n",
      " [117710.02 118000.  ]\n",
      " [319515.44 324000.  ]\n",
      " [568030.44 555000.  ]\n",
      " [171269.91 136000.  ]\n",
      " [ 71704.95  82500.  ]\n",
      " [ 68940.1  101000.  ]]\n"
     ]
    }
   ],
   "source": [
    "y_pred = regressor.predict(X_test)\n",
    "np.set_printoptions(precision=2)\n",
    "print(np.concatenate((y_pred.reshape(len(y_pred),1), y_test.reshape(len(y_test),1)),1))"
   ]
  },
  {
   "cell_type": "markdown",
   "metadata": {
    "id": "UivwlbQ8iTTV"
   },
   "source": [
    "## Evaluating the Model Performance"
   ]
  },
  {
   "cell_type": "code",
   "execution_count": 10,
   "metadata": {
    "colab": {
     "base_uri": "https://localhost:8080/"
    },
    "id": "aCf2_ezsiTTV",
    "outputId": "b52bfd23-63c5-465a-d7e1-6aa380353827"
   },
   "outputs": [
    {
     "name": "stdout",
     "output_type": "stream",
     "text": [
      "0.8797663434499159\n"
     ]
    }
   ],
   "source": [
    "from sklearn.metrics import r2_score\n",
    "results_r2.append(r2_score(y_test,y_pred))\n",
    "print(r2_score(y_test,y_pred))\n"
   ]
  },
  {
   "cell_type": "markdown",
   "metadata": {
    "id": "lUkATSnQiTTW"
   },
   "source": [
    "# Model: Random forest regression"
   ]
  },
  {
   "cell_type": "markdown",
   "metadata": {
    "id": "i_Kk6qzViTTW"
   },
   "source": [
    "## Splitting the dataset into the Training set and Test set"
   ]
  },
  {
   "cell_type": "code",
   "execution_count": 11,
   "metadata": {
    "id": "L7IOD8g3iTTX"
   },
   "outputs": [],
   "source": [
    "from sklearn.model_selection import train_test_split\n",
    "X_train, X_test, y_train, y_test = train_test_split(X, y, test_size= 0.2, random_state= 0)"
   ]
  },
  {
   "cell_type": "markdown",
   "metadata": {
    "id": "APhJb0WmiTTX"
   },
   "source": [
    "## Training the random forest regression model "
   ]
  },
  {
   "cell_type": "code",
   "execution_count": 12,
   "metadata": {
    "colab": {
     "base_uri": "https://localhost:8080/"
    },
    "id": "w3zaMmZriTTX",
    "outputId": "8e033f47-76fc-4e24-af78-545e1fff8ee5"
   },
   "outputs": [
    {
     "data": {
      "text/plain": [
       "RandomForestRegressor(random_state=0)"
      ]
     },
     "execution_count": 12,
     "metadata": {},
     "output_type": "execute_result"
    }
   ],
   "source": [
    "from sklearn.ensemble import RandomForestRegressor\n",
    "regressor = RandomForestRegressor(n_estimators = 100, random_state = 0)\n",
    "regressor.fit(X_train, y_train)"
   ]
  },
  {
   "cell_type": "markdown",
   "metadata": {
    "id": "XDm2tsPpiTTX"
   },
   "source": [
    "## Predicting the Test set results"
   ]
  },
  {
   "cell_type": "code",
   "execution_count": 13,
   "metadata": {
    "colab": {
     "base_uri": "https://localhost:8080/"
    },
    "id": "41jBQiKMiTTX",
    "outputId": "3f833f42-fe27-4c91-8865-522d4cf6ece8"
   },
   "outputs": [
    {
     "name": "stdout",
     "output_type": "stream",
     "text": [
      "[[250330.4  200624.  ]\n",
      " [144424.   133000.  ]\n",
      " [123221.78 110000.  ]\n",
      " [223568.3  192000.  ]\n",
      " [ 92134.    88000.  ]\n",
      " [113482.95  85000.  ]\n",
      " [262553.27 282922.  ]\n",
      " [118667.87 141000.  ]\n",
      " [637061.5  745000.  ]\n",
      " [147315.38 148800.  ]\n",
      " [202600.73 208900.  ]\n",
      " [140656.9  136905.  ]\n",
      " [228506.1  225000.  ]\n",
      " [126063.83 123000.  ]\n",
      " [133816.6  119200.  ]\n",
      " [156420.5  145000.  ]\n",
      " [211609.5  190000.  ]\n",
      " [117468.58 123600.  ]\n",
      " [124235.   149350.  ]\n",
      " [186212.   155000.  ]\n",
      " [138551.5  166000.  ]\n",
      " [145525.57 144500.  ]\n",
      " [118810.36 110000.  ]\n",
      " [174003.24 174000.  ]\n",
      " [173624.9  185000.  ]\n",
      " [210908.5  168000.  ]\n",
      " [175911.96 177500.  ]\n",
      " [ 81825.    84500.  ]\n",
      " [317774.19 320000.  ]\n",
      " [122785.   118500.  ]\n",
      " [139419.   110000.  ]\n",
      " [196980.65 213000.  ]\n",
      " [142571.92 156000.  ]\n",
      " [281350.98 250000.  ]\n",
      " [287392.21 372500.  ]\n",
      " [170889.1  175000.  ]\n",
      " [287732.84 277500.  ]\n",
      " [124552.5  112500.  ]\n",
      " [224139.88 263000.  ]\n",
      " [294042.34 325000.  ]\n",
      " [229734.7  243000.  ]\n",
      " [124604.57 130000.  ]\n",
      " [183211.98 164990.  ]\n",
      " [280046.45 280000.  ]\n",
      " [326508.82 403000.  ]\n",
      " [141641.   119000.  ]\n",
      " [122581.5  125000.  ]\n",
      " [119923.51 128200.  ]\n",
      " [162649.5  172500.  ]\n",
      " [ 86852.98  84900.  ]\n",
      " [358534.77 412500.  ]\n",
      " [141473.   156000.  ]\n",
      " [168440.74 167900.  ]\n",
      " [ 78614.   100000.  ]\n",
      " [259623.12 275000.  ]\n",
      " [109702.   123000.  ]\n",
      " [138179.08 132000.  ]\n",
      " [235113.08 239900.  ]\n",
      " [150628.   139000.  ]\n",
      " [105822.83 115000.  ]\n",
      " [147653.5  137500.  ]\n",
      " [132960.   135000.  ]\n",
      " [132172.25 134450.  ]\n",
      " [146032.5  180500.  ]\n",
      " [207554.72 193500.  ]\n",
      " [166880.5  156500.  ]\n",
      " [120099.66 132000.  ]\n",
      " [199571.94 224500.  ]\n",
      " [107458.2  139000.  ]\n",
      " [190726.25 225000.  ]\n",
      " [174715.95 188500.  ]\n",
      " [122889.55 118000.  ]\n",
      " [ 94165.12  82000.  ]\n",
      " [234236.4  392000.  ]\n",
      " [ 99695.66 112000.  ]\n",
      " [254275.25 248900.  ]\n",
      " [131245.   134500.  ]\n",
      " [106263.3   79500.  ]\n",
      " [288958.53 320000.  ]\n",
      " [149661.5  158000.  ]\n",
      " [138038.9  140000.  ]\n",
      " [128614.32 136500.  ]\n",
      " [123872.8  107500.  ]\n",
      " [150320.   145000.  ]\n",
      " [160492.34 200500.  ]\n",
      " [198120.67 185000.  ]\n",
      " [ 98840.   105000.  ]\n",
      " [200588.32 202665.  ]\n",
      " [179437.88 186000.  ]\n",
      " [143661.5  136000.  ]\n",
      " [195595.32 200500.  ]\n",
      " [171941.   190000.  ]\n",
      " [177284.96 187500.  ]\n",
      " [222488.35 200000.  ]\n",
      " [180139.96 172500.  ]\n",
      " [149660.5  157000.  ]\n",
      " [210855.28 213000.  ]\n",
      " [161625.   185000.  ]\n",
      " [118319.34 124500.  ]\n",
      " [136019.64 162900.  ]\n",
      " [277448.58 260000.  ]\n",
      " [223074.88 198500.  ]\n",
      " [105921.61 120000.  ]\n",
      " [158181.34 159500.  ]\n",
      " [ 87987.   105900.  ]\n",
      " [291132.83 260000.  ]\n",
      " [145106.33 143000.  ]\n",
      " [108888.16 106500.  ]\n",
      " [172771.71 178900.  ]\n",
      " [109057.11 127000.  ]\n",
      " [ 89851.11  90350.  ]\n",
      " [123993.75 118500.  ]\n",
      " [185754.   190000.  ]\n",
      " [123283.25 119900.  ]\n",
      " [172226.75 183900.  ]\n",
      " [158633.   155000.  ]\n",
      " [424390.08 386250.  ]\n",
      " [129453.   133000.  ]\n",
      " [177716.57 193500.  ]\n",
      " [261596.54 270000.  ]\n",
      " [171900.   141000.  ]\n",
      " [170914.94 146000.  ]\n",
      " [143855.1  128500.  ]\n",
      " [217070.   176000.  ]\n",
      " [241910.38 214000.  ]\n",
      " [220663.92 222000.  ]\n",
      " [393098.92 415298.  ]\n",
      " [180941.71 187750.  ]\n",
      " [201287.49 199900.  ]\n",
      " [172612.5  180000.  ]\n",
      " [211573.31 206300.  ]\n",
      " [182091.15 194000.  ]\n",
      " [160782.1  142953.  ]\n",
      " [183068.   182900.  ]\n",
      " [103720.6  116050.  ]\n",
      " [227886.74 213250.  ]\n",
      " [133073.34 139500.  ]\n",
      " [190608.61 179000.  ]\n",
      " [108331.86 107900.  ]\n",
      " [178792.64 175900.  ]\n",
      " [130788.85 158500.  ]\n",
      " [140196.43 145000.  ]\n",
      " [220260.8  217000.  ]\n",
      " [143690.5  150500.  ]\n",
      " [152601.35 108959.  ]\n",
      " [179356.96 165600.  ]\n",
      " [232974.99 201000.  ]\n",
      " [134104.25 145500.  ]\n",
      " [306027.67 319900.  ]\n",
      " [240617.92 215000.  ]\n",
      " [170363.   180500.  ]\n",
      " [362064.78 367294.  ]\n",
      " [301746.35 239000.  ]\n",
      " [167797.5  145900.  ]\n",
      " [184380.53 161000.  ]\n",
      " [289488.55 250000.  ]\n",
      " [115586.36  89471.  ]\n",
      " [200589.93 230000.  ]\n",
      " [125622.95 147000.  ]\n",
      " [167449.5  163900.  ]\n",
      " [121404.33  97000.  ]\n",
      " [142633.87 142000.  ]\n",
      " [186858.74 197000.  ]\n",
      " [120479.68 129000.  ]\n",
      " [237544.35 232000.  ]\n",
      " [124122.84 115000.  ]\n",
      " [148837.36 175000.  ]\n",
      " [265461.81 265000.  ]\n",
      " [203039.62 207000.  ]\n",
      " [171983.25 181000.  ]\n",
      " [163745.   176000.  ]\n",
      " [162876.83 171000.  ]\n",
      " [180564.58 196000.  ]\n",
      " [158666.87 176000.  ]\n",
      " [117526.66 113000.  ]\n",
      " [ 93953.   139000.  ]\n",
      " [135895.5  135000.  ]\n",
      " [246559.7  240000.  ]\n",
      " [119634.   112000.  ]\n",
      " [145946.74 134000.  ]\n",
      " [308404.43 316600.  ]\n",
      " [193961.5  170000.  ]\n",
      " [102361.25 116000.  ]\n",
      " [304225.55 306000.  ]\n",
      " [115625.02  82500.  ]\n",
      " [164314.5  175000.  ]\n",
      " [ 95341.   106000.  ]\n",
      " [198037.35 194000.  ]\n",
      " [193791.6  194201.  ]\n",
      " [145608.9  155900.  ]\n",
      " [150823.6  138000.  ]\n",
      " [153871.5  177000.  ]\n",
      " [215278.3  214000.  ]\n",
      " [134446.39 148000.  ]\n",
      " [108472.69 127000.  ]\n",
      " [148495.37 142500.  ]\n",
      " [ 93229.    80000.  ]\n",
      " [130046.   145000.  ]\n",
      " [165153.5  171000.  ]\n",
      " [133937.   122500.  ]\n",
      " [145419.   139000.  ]\n",
      " [204395.   189000.  ]\n",
      " [102476.   120500.  ]\n",
      " [119980.5  124000.  ]\n",
      " [134984.53 160000.  ]\n",
      " [187804.49 200000.  ]\n",
      " [150554.5  160000.  ]\n",
      " [330539.8  313000.  ]\n",
      " [238433.93 275000.  ]\n",
      " [ 71388.    67000.  ]\n",
      " [156556.37 159000.  ]\n",
      " [274925.54 251000.  ]\n",
      " [ 92597.    92900.  ]\n",
      " [101392.83 109500.  ]\n",
      " [373761.39 385000.  ]\n",
      " [219590.4  129000.  ]\n",
      " [189518.58  82500.  ]\n",
      " [267299.   301000.  ]\n",
      " [254201.91 249700.  ]\n",
      " [ 84274.    81000.  ]\n",
      " [204360.04 187500.  ]\n",
      " [163074.5  110000.  ]\n",
      " [143684.75 117000.  ]\n",
      " [120620.16 128500.  ]\n",
      " [190259.15 213490.  ]\n",
      " [243427.23 284000.  ]\n",
      " [242381.93 230500.  ]\n",
      " [196726.7  190000.  ]\n",
      " [130942.75 135000.  ]\n",
      " [171784.37 152000.  ]\n",
      " [ 90924.    87500.  ]\n",
      " [133848.02 155000.  ]\n",
      " [103923.57 115000.  ]\n",
      " [133752.   144000.  ]\n",
      " [223878.96 248000.  ]\n",
      " [128399.88 132500.  ]\n",
      " [146491.08 136000.  ]\n",
      " [117304.83 117000.  ]\n",
      " [ 98911.5   82000.  ]\n",
      " [176568.5  157500.  ]\n",
      " [126192.   110000.  ]\n",
      " [177457.32 181000.  ]\n",
      " [203140.75 192500.  ]\n",
      " [218319.75 223500.  ]\n",
      " [169067.59 181500.  ]\n",
      " [185145.4  170000.  ]\n",
      " [216351.   187500.  ]\n",
      " [179847.25 185900.  ]\n",
      " [123587.76 160000.  ]\n",
      " [194123.78 192000.  ]\n",
      " [162177.   181900.  ]\n",
      " [262429.37 266000.  ]\n",
      " [ 99572.52  99900.  ]\n",
      " [415626.76 438780.  ]\n",
      " [241449.97 229456.  ]\n",
      " [232284.08 216837.  ]\n",
      " [104945.83 110500.  ]\n",
      " [233697.76 175900.  ]\n",
      " [391317.28 538000.  ]\n",
      " [420961.72 160000.  ]\n",
      " [235237.1  172500.  ]\n",
      " [133610.77 108000.  ]\n",
      " [144406.27 131500.  ]\n",
      " [ 91546.84 106250.  ]\n",
      " [437555.05 385000.  ]\n",
      " [334095.58 370878.  ]\n",
      " [355627.34 345000.  ]\n",
      " [ 73596.99  68500.  ]\n",
      " [243234.   250000.  ]\n",
      " [299596.51 245350.  ]\n",
      " [136395.15 125000.  ]\n",
      " [230375.79 234000.  ]\n",
      " [135711.34 145000.  ]\n",
      " [176591.44 181000.  ]\n",
      " [148429.48 104000.  ]\n",
      " [235542.22 233000.  ]\n",
      " [213147.88 164000.  ]\n",
      " [176053.   219500.  ]\n",
      " [224319.95 195000.  ]\n",
      " [120793.04 108000.  ]\n",
      " [135358.7  149900.  ]\n",
      " [381655.97 315000.  ]\n",
      " [152492.19 177500.  ]\n",
      " [158181.34 140000.  ]\n",
      " [180550.3  193879.  ]\n",
      " [209954.   137900.  ]\n",
      " [116771.04 118000.  ]\n",
      " [313227.91 324000.  ]\n",
      " [480032.85 555000.  ]\n",
      " [167018.9  136000.  ]\n",
      " [ 76651.22  82500.  ]\n",
      " [ 81902.   101000.  ]]\n"
     ]
    }
   ],
   "source": [
    "y_pred = regressor.predict(X_test)\n",
    "np.set_printoptions(precision=2)\n",
    "print(np.concatenate((y_pred.reshape(len(y_pred),1), y_test.reshape(len(y_test),1)),1))"
   ]
  },
  {
   "cell_type": "markdown",
   "metadata": {
    "id": "VOvvAlfniTTY"
   },
   "source": [
    "## Evaluating the Model Performance"
   ]
  },
  {
   "cell_type": "code",
   "execution_count": 14,
   "metadata": {
    "colab": {
     "base_uri": "https://localhost:8080/"
    },
    "id": "ae4yntjhiTTY",
    "outputId": "9fb8350b-388c-445e-f2f8-7979c3f77c3c"
   },
   "outputs": [
    {
     "name": "stdout",
     "output_type": "stream",
     "text": [
      "0.8590365954128754\n"
     ]
    }
   ],
   "source": [
    "from sklearn.metrics import r2_score\n",
    "results_r2.append(r2_score(y_test,y_pred))\n",
    "print(r2_score(y_test,y_pred))"
   ]
  },
  {
   "cell_type": "markdown",
   "metadata": {
    "id": "n_-HfhFFiTTZ"
   },
   "source": [
    "# Model: Decision tree regression"
   ]
  },
  {
   "cell_type": "markdown",
   "metadata": {
    "id": "tPJXMyyUJbWn"
   },
   "source": [
    "## Splitting the dataset into the Training set and Test set"
   ]
  },
  {
   "cell_type": "code",
   "execution_count": 15,
   "metadata": {
    "id": "rFOzpjaiJd5B"
   },
   "outputs": [],
   "source": [
    "from sklearn.model_selection import train_test_split\n",
    "X_train, X_test, y_train, y_test = train_test_split(X, y, test_size= 0.2, random_state= 0)"
   ]
  },
  {
   "cell_type": "markdown",
   "metadata": {
    "id": "g16qFkFQVC35"
   },
   "source": [
    "## Training the Decision Tree Regression model "
   ]
  },
  {
   "cell_type": "code",
   "execution_count": 16,
   "metadata": {
    "colab": {
     "base_uri": "https://localhost:8080/"
    },
    "id": "SLDKyv1SVUqS",
    "outputId": "a0417328-68c2-47c8-c934-97d335e62a75"
   },
   "outputs": [
    {
     "data": {
      "text/plain": [
       "DecisionTreeRegressor(random_state=0)"
      ]
     },
     "execution_count": 16,
     "metadata": {},
     "output_type": "execute_result"
    }
   ],
   "source": [
    "from sklearn.tree import DecisionTreeRegressor\n",
    "tree = DecisionTreeRegressor(random_state= 0)\n",
    "tree.fit(X_train, y_train)"
   ]
  },
  {
   "cell_type": "markdown",
   "metadata": {
    "id": "Nao9cdO6IgNb"
   },
   "source": [
    "## Predicting the Test set results"
   ]
  },
  {
   "cell_type": "code",
   "execution_count": 17,
   "metadata": {
    "colab": {
     "base_uri": "https://localhost:8080/"
    },
    "id": "EebHA3EOIkQK",
    "outputId": "5683f132-19bf-46b3-f66e-252b6e28cc85"
   },
   "outputs": [
    {
     "name": "stdout",
     "output_type": "stream",
     "text": [
      "[[210000. 200624.]\n",
      " [128000. 133000.]\n",
      " [130500. 110000.]\n",
      " [205000. 192000.]\n",
      " [ 94500.  88000.]\n",
      " [115000.  85000.]\n",
      " [245000. 282922.]\n",
      " [127500. 141000.]\n",
      " [755000. 745000.]\n",
      " [116900. 148800.]\n",
      " [202500. 208900.]\n",
      " [135000. 136905.]\n",
      " [242000. 225000.]\n",
      " [125500. 123000.]\n",
      " [119000. 119200.]\n",
      " [153000. 145000.]\n",
      " [225000. 190000.]\n",
      " [ 94750. 123600.]\n",
      " [140000. 149350.]\n",
      " [311500. 155000.]\n",
      " [152000. 166000.]\n",
      " [146000. 144500.]\n",
      " [115000. 110000.]\n",
      " [178000. 174000.]\n",
      " [183200. 185000.]\n",
      " [215000. 168000.]\n",
      " [172500. 177500.]\n",
      " [ 75500.  84500.]\n",
      " [325000. 320000.]\n",
      " [120000. 118500.]\n",
      " [161500. 110000.]\n",
      " [197900. 213000.]\n",
      " [143750. 156000.]\n",
      " [290000. 250000.]\n",
      " [253293. 372500.]\n",
      " [179900. 175000.]\n",
      " [337500. 277500.]\n",
      " [115000. 112500.]\n",
      " [222500. 263000.]\n",
      " [302000. 325000.]\n",
      " [237500. 243000.]\n",
      " [105000. 130000.]\n",
      " [195400. 164990.]\n",
      " [318000. 280000.]\n",
      " [302000. 403000.]\n",
      " [143900. 119000.]\n",
      " [135000. 125000.]\n",
      " [125000. 128200.]\n",
      " [165150. 172500.]\n",
      " [ 84000.  84900.]\n",
      " [426000. 412500.]\n",
      " [149900. 156000.]\n",
      " [180000. 167900.]\n",
      " [ 34900. 100000.]\n",
      " [280000. 275000.]\n",
      " [103200. 123000.]\n",
      " [140000. 132000.]\n",
      " [212000. 239900.]\n",
      " [155000. 139000.]\n",
      " [ 87000. 115000.]\n",
      " [147000. 137500.]\n",
      " [128900. 135000.]\n",
      " [132500. 134450.]\n",
      " [132500. 180500.]\n",
      " [222000. 193500.]\n",
      " [167000. 156500.]\n",
      " [112500. 132000.]\n",
      " [205950. 224500.]\n",
      " [116000. 139000.]\n",
      " [180000. 225000.]\n",
      " [180000. 188500.]\n",
      " [118000. 118000.]\n",
      " [ 81000.  82000.]\n",
      " [197000. 392000.]\n",
      " [ 64500. 112000.]\n",
      " [255500. 248900.]\n",
      " [127000. 134500.]\n",
      " [109500.  79500.]\n",
      " [315750. 320000.]\n",
      " [164500. 158000.]\n",
      " [135960. 140000.]\n",
      " [130500. 136500.]\n",
      " [120000. 107500.]\n",
      " [156000. 145000.]\n",
      " [124500. 200500.]\n",
      " [246578. 185000.]\n",
      " [120000. 105000.]\n",
      " [202500. 202665.]\n",
      " [143500. 186000.]\n",
      " [154500. 136000.]\n",
      " [201000. 200500.]\n",
      " [148500. 190000.]\n",
      " [193000. 187500.]\n",
      " [214900. 200000.]\n",
      " [176000. 172500.]\n",
      " [150000. 157000.]\n",
      " [210000. 213000.]\n",
      " [174000. 185000.]\n",
      " [120500. 124500.]\n",
      " [149000. 162900.]\n",
      " [289000. 260000.]\n",
      " [230000. 198500.]\n",
      " [137500. 120000.]\n",
      " [193000. 159500.]\n",
      " [ 79000. 105900.]\n",
      " [285000. 260000.]\n",
      " [125000. 143000.]\n",
      " [111000. 106500.]\n",
      " [173500. 178900.]\n",
      " [114504. 127000.]\n",
      " [ 83000.  90350.]\n",
      " [132250. 118500.]\n",
      " [187000. 190000.]\n",
      " [125000. 119900.]\n",
      " [155000. 183900.]\n",
      " [148500. 155000.]\n",
      " [380000. 386250.]\n",
      " [127000. 133000.]\n",
      " [140000. 193500.]\n",
      " [281000. 270000.]\n",
      " [187500. 141000.]\n",
      " [165000. 146000.]\n",
      " [180000. 128500.]\n",
      " [242000. 176000.]\n",
      " [235000. 214000.]\n",
      " [210000. 222000.]\n",
      " [380000. 415298.]\n",
      " [167240. 187750.]\n",
      " [206000. 199900.]\n",
      " [167000. 180000.]\n",
      " [246578. 206300.]\n",
      " [167240. 194000.]\n",
      " [154300. 142953.]\n",
      " [175500. 182900.]\n",
      " [102776. 116050.]\n",
      " [240000. 213250.]\n",
      " [128000. 139500.]\n",
      " [202500. 179000.]\n",
      " [103200. 107900.]\n",
      " [187000. 175900.]\n",
      " [119000. 158500.]\n",
      " [144000. 145000.]\n",
      " [274970. 217000.]\n",
      " [144000. 150500.]\n",
      " [157000. 108959.]\n",
      " [193000. 165600.]\n",
      " [256300. 201000.]\n",
      " [142000. 145500.]\n",
      " [266000. 319900.]\n",
      " [204000. 215000.]\n",
      " [175000. 180500.]\n",
      " [325000. 367294.]\n",
      " [314813. 239000.]\n",
      " [160000. 145900.]\n",
      " [215000. 161000.]\n",
      " [295000. 250000.]\n",
      " [108500.  89471.]\n",
      " [215000. 230000.]\n",
      " [ 84500. 147000.]\n",
      " [168500. 163900.]\n",
      " [145000.  97000.]\n",
      " [132500. 142000.]\n",
      " [186500. 197000.]\n",
      " [ 94750. 129000.]\n",
      " [239000. 232000.]\n",
      " [137500. 115000.]\n",
      " [153500. 175000.]\n",
      " [290000. 265000.]\n",
      " [246578. 207000.]\n",
      " [172400. 181000.]\n",
      " [167900. 176000.]\n",
      " [149500. 171000.]\n",
      " [169990. 196000.]\n",
      " [176000. 176000.]\n",
      " [108000. 113000.]\n",
      " [ 89500. 139000.]\n",
      " [129000. 135000.]\n",
      " [250000. 240000.]\n",
      " [110000. 112000.]\n",
      " [152000. 134000.]\n",
      " [287000. 316600.]\n",
      " [190000. 170000.]\n",
      " [ 78000. 116000.]\n",
      " [271000. 306000.]\n",
      " [110000.  82500.]\n",
      " [187000. 175000.]\n",
      " [ 89500. 106000.]\n",
      " [206000. 194000.]\n",
      " [176000. 194201.]\n",
      " [146000. 155900.]\n",
      " [156000. 138000.]\n",
      " [170000. 177000.]\n",
      " [214000. 214000.]\n",
      " [134800. 148000.]\n",
      " [115000. 127000.]\n",
      " [148500. 142500.]\n",
      " [ 86000.  80000.]\n",
      " [131400. 145000.]\n",
      " [140000. 171000.]\n",
      " [158000. 122500.]\n",
      " [144000. 139000.]\n",
      " [245500. 189000.]\n",
      " [ 85400. 120500.]\n",
      " [ 84500. 124000.]\n",
      " [130000. 160000.]\n",
      " [190000. 200000.]\n",
      " [150000. 160000.]\n",
      " [426000. 313000.]\n",
      " [283463. 275000.]\n",
      " [ 81000.  67000.]\n",
      " [155000. 159000.]\n",
      " [271000. 251000.]\n",
      " [ 93500.  92900.]\n",
      " [118500. 109500.]\n",
      " [374000. 385000.]\n",
      " [200000. 129000.]\n",
      " [260000.  82500.]\n",
      " [315750. 301000.]\n",
      " [255500. 249700.]\n",
      " [ 86000.  81000.]\n",
      " [260000. 187500.]\n",
      " [185000. 110000.]\n",
      " [188700. 117000.]\n",
      " [110000. 128500.]\n",
      " [186000. 213490.]\n",
      " [214000. 284000.]\n",
      " [395000. 230500.]\n",
      " [230000. 190000.]\n",
      " [ 87000. 135000.]\n",
      " [157000. 152000.]\n",
      " [ 93500.  87500.]\n",
      " [116900. 155000.]\n",
      " [120500. 115000.]\n",
      " [145000. 144000.]\n",
      " [239000. 248000.]\n",
      " [ 97500. 132500.]\n",
      " [192140. 136000.]\n",
      " [120000. 117000.]\n",
      " [ 90000.  82000.]\n",
      " [167000. 157500.]\n",
      " [130000. 110000.]\n",
      " [175000. 181000.]\n",
      " [231500. 192500.]\n",
      " [231500. 223500.]\n",
      " [179900. 181500.]\n",
      " [179900. 170000.]\n",
      " [220000. 187500.]\n",
      " [215200. 185900.]\n",
      " [130000. 160000.]\n",
      " [185850. 192000.]\n",
      " [158000. 181900.]\n",
      " [281000. 266000.]\n",
      " [ 98000.  99900.]\n",
      " [325000. 438780.]\n",
      " [197000. 229456.]\n",
      " [221000. 216837.]\n",
      " [ 85400. 110500.]\n",
      " [210000. 175900.]\n",
      " [424870. 538000.]\n",
      " [184750. 160000.]\n",
      " [230000. 172500.]\n",
      " [ 91500. 108000.]\n",
      " [161500. 131500.]\n",
      " [112000. 106250.]\n",
      " [465000. 385000.]\n",
      " [337500. 370878.]\n",
      " [287000. 345000.]\n",
      " [ 35311.  68500.]\n",
      " [311500. 250000.]\n",
      " [295493. 245350.]\n",
      " [ 91500. 125000.]\n",
      " [167500. 234000.]\n",
      " [117000. 145000.]\n",
      " [189000. 181000.]\n",
      " [128000. 104000.]\n",
      " [214000. 233000.]\n",
      " [215000. 164000.]\n",
      " [140000. 219500.]\n",
      " [215000. 195000.]\n",
      " [103000. 108000.]\n",
      " [142500. 149900.]\n",
      " [395192. 315000.]\n",
      " [160000. 177500.]\n",
      " [139000. 140000.]\n",
      " [176000. 193879.]\n",
      " [228950. 137900.]\n",
      " [113000. 118000.]\n",
      " [372402. 324000.]\n",
      " [184750. 555000.]\n",
      " [169000. 136000.]\n",
      " [ 34900.  82500.]\n",
      " [ 78000. 101000.]]\n"
     ]
    }
   ],
   "source": [
    "y_pred = tree.predict(X_test)\n",
    "np.set_printoptions(precision=2)\n",
    "print(np.concatenate((y_pred.reshape(len(y_pred),1), y_test.reshape(len(y_test),1)),1))"
   ]
  },
  {
   "cell_type": "markdown",
   "metadata": {
    "id": "V4nELFnnIod1"
   },
   "source": [
    "## Evaluating the Model Performance"
   ]
  },
  {
   "cell_type": "code",
   "execution_count": 18,
   "metadata": {
    "colab": {
     "base_uri": "https://localhost:8080/"
    },
    "id": "_G2QS1UoIsTZ",
    "outputId": "7013fbed-8e20-4319-853f-667a08fbbf45"
   },
   "outputs": [
    {
     "name": "stdout",
     "output_type": "stream",
     "text": [
      "0.7177875264542323\n"
     ]
    }
   ],
   "source": [
    "from sklearn.metrics import r2_score\n",
    "results_r2.append(r2_score(y_test,y_pred))\n",
    "print(r2_score(y_test,y_pred))"
   ]
  },
  {
   "cell_type": "markdown",
   "metadata": {
    "id": "Pp_yt96iiTTb"
   },
   "source": [
    "# Model: Multiple linear regression"
   ]
  },
  {
   "cell_type": "markdown",
   "metadata": {
    "id": "J1uGlK0iiTTb"
   },
   "source": [
    "## Splitting the dataset into the Training set and Test set"
   ]
  },
  {
   "cell_type": "code",
   "execution_count": 19,
   "metadata": {
    "id": "3g6QdfTniTTc"
   },
   "outputs": [],
   "source": [
    "from sklearn.model_selection import train_test_split\n",
    "X_train, X_test, y_train, y_test = train_test_split(X, y, test_size= 0.2, random_state= 0)"
   ]
  },
  {
   "cell_type": "markdown",
   "metadata": {
    "id": "3scC1j_HiTTc"
   },
   "source": [
    "## Training the Multiple linear regression "
   ]
  },
  {
   "cell_type": "code",
   "execution_count": 20,
   "metadata": {
    "colab": {
     "base_uri": "https://localhost:8080/"
    },
    "id": "Ujvn48vFiTTc",
    "outputId": "da38d868-6a8d-42ae-ea48-c2a445e40247"
   },
   "outputs": [
    {
     "data": {
      "text/plain": [
       "LinearRegression()"
      ]
     },
     "execution_count": 20,
     "metadata": {},
     "output_type": "execute_result"
    }
   ],
   "source": [
    "from sklearn.linear_model import LinearRegression\n",
    "regressor = LinearRegression()\n",
    "regressor.fit(X_train, y_train)"
   ]
  },
  {
   "cell_type": "markdown",
   "metadata": {
    "id": "m8A7XujviTTd"
   },
   "source": [
    "## Predicting the Test set results"
   ]
  },
  {
   "cell_type": "code",
   "execution_count": 21,
   "metadata": {
    "colab": {
     "base_uri": "https://localhost:8080/"
    },
    "id": "T3KJFdQNiTTd",
    "outputId": "7f6a8e58-e9ca-471f-b62c-8f17364675f0"
   },
   "outputs": [
    {
     "name": "stdout",
     "output_type": "stream",
     "text": [
      "[[285484.21 200624.  ]\n",
      " [156522.56 133000.  ]\n",
      " [104662.71 110000.  ]\n",
      " [231346.68 192000.  ]\n",
      " [118724.2   88000.  ]\n",
      " [ 99499.87  85000.  ]\n",
      " [263341.46 282922.  ]\n",
      " [125596.94 141000.  ]\n",
      " [520714.32 745000.  ]\n",
      " [165045.62 148800.  ]\n",
      " [197529.34 208900.  ]\n",
      " [178866.55 136905.  ]\n",
      " [238212.17 225000.  ]\n",
      " [118225.01 123000.  ]\n",
      " [137247.97 119200.  ]\n",
      " [154400.92 145000.  ]\n",
      " [227814.41 190000.  ]\n",
      " [ 97348.93 123600.  ]\n",
      " [126160.31 149350.  ]\n",
      " [182823.66 155000.  ]\n",
      " [145553.02 166000.  ]\n",
      " [151711.15 144500.  ]\n",
      " [ 97430.86 110000.  ]\n",
      " [162126.49 174000.  ]\n",
      " [196792.66 185000.  ]\n",
      " [199198.22 168000.  ]\n",
      " [179671.39 177500.  ]\n",
      " [ 47998.89  84500.  ]\n",
      " [311257.13 320000.  ]\n",
      " [119936.7  118500.  ]\n",
      " [189818.71 110000.  ]\n",
      " [214789.91 213000.  ]\n",
      " [153070.04 156000.  ]\n",
      " [284815.34 250000.  ]\n",
      " [288188.72 372500.  ]\n",
      " [208181.08 175000.  ]\n",
      " [284892.62 277500.  ]\n",
      " [113142.16 112500.  ]\n",
      " [224372.48 263000.  ]\n",
      " [314332.76 325000.  ]\n",
      " [223392.78 243000.  ]\n",
      " [127887.54 130000.  ]\n",
      " [194895.14 164990.  ]\n",
      " [296569.75 280000.  ]\n",
      " [325965.9  403000.  ]\n",
      " [170530.7  119000.  ]\n",
      " [115481.68 125000.  ]\n",
      " [105101.94 128200.  ]\n",
      " [181588.72 172500.  ]\n",
      " [ 71156.5   84900.  ]\n",
      " [353325.71 412500.  ]\n",
      " [145903.94 156000.  ]\n",
      " [187181.86 167900.  ]\n",
      " [ 57552.45 100000.  ]\n",
      " [268953.19 275000.  ]\n",
      " [110805.99 123000.  ]\n",
      " [109281.69 132000.  ]\n",
      " [250935.32 239900.  ]\n",
      " [144062.87 139000.  ]\n",
      " [ 86887.27 115000.  ]\n",
      " [159233.21 137500.  ]\n",
      " [123692.01 135000.  ]\n",
      " [130280.62 134450.  ]\n",
      " [156866.42 180500.  ]\n",
      " [226695.02 193500.  ]\n",
      " [180672.55 156500.  ]\n",
      " [107197.7  132000.  ]\n",
      " [212570.73 224500.  ]\n",
      " [107549.15 139000.  ]\n",
      " [202680.4  225000.  ]\n",
      " [193478.59 188500.  ]\n",
      " [126159.84 118000.  ]\n",
      " [ 49231.61  82000.  ]\n",
      " [259853.48 392000.  ]\n",
      " [ 74647.64 112000.  ]\n",
      " [264569.89 248900.  ]\n",
      " [124760.29 134500.  ]\n",
      " [ 81994.54  79500.  ]\n",
      " [272093.35 320000.  ]\n",
      " [159191.81 158000.  ]\n",
      " [139987.07 140000.  ]\n",
      " [115695.61 136500.  ]\n",
      " [124966.92 107500.  ]\n",
      " [142229.33 145000.  ]\n",
      " [209147.46 200500.  ]\n",
      " [214158.16 185000.  ]\n",
      " [ 78017.1  105000.  ]\n",
      " [199119.39 202665.  ]\n",
      " [168230.62 186000.  ]\n",
      " [145807.09 136000.  ]\n",
      " [190612.52 200500.  ]\n",
      " [183606.72 190000.  ]\n",
      " [178340.41 187500.  ]\n",
      " [230060.05 200000.  ]\n",
      " [201435.28 172500.  ]\n",
      " [165030.74 157000.  ]\n",
      " [227331.44 213000.  ]\n",
      " [167320.92 185000.  ]\n",
      " [ 92640.98 124500.  ]\n",
      " [143158.38 162900.  ]\n",
      " [264000.33 260000.  ]\n",
      " [191539.85 198500.  ]\n",
      " [105256.17 120000.  ]\n",
      " [161379.65 159500.  ]\n",
      " [102178.53 105900.  ]\n",
      " [270285.17 260000.  ]\n",
      " [157045.68 143000.  ]\n",
      " [ 82626.33 106500.  ]\n",
      " [168695.29 178900.  ]\n",
      " [112547.   127000.  ]\n",
      " [ 70561.42  90350.  ]\n",
      " [111301.28 118500.  ]\n",
      " [201352.23 190000.  ]\n",
      " [123837.84 119900.  ]\n",
      " [193310.61 183900.  ]\n",
      " [178987.18 155000.  ]\n",
      " [357444.95 386250.  ]\n",
      " [130541.94 133000.  ]\n",
      " [200355.58 193500.  ]\n",
      " [254426.79 270000.  ]\n",
      " [169958.46 141000.  ]\n",
      " [179895.07 146000.  ]\n",
      " [136989.34 128500.  ]\n",
      " [223812.63 176000.  ]\n",
      " [246106.51 214000.  ]\n",
      " [224735.98 222000.  ]\n",
      " [314289.51 415298.  ]\n",
      " [193097.12 187750.  ]\n",
      " [216466.99 199900.  ]\n",
      " [194807.23 180000.  ]\n",
      " [252527.26 206300.  ]\n",
      " [199413.35 194000.  ]\n",
      " [170750.88 142953.  ]\n",
      " [197070.93 182900.  ]\n",
      " [ 76433.85 116050.  ]\n",
      " [226966.42 213250.  ]\n",
      " [141367.75 139500.  ]\n",
      " [196207.72 179000.  ]\n",
      " [ 74773.35 107900.  ]\n",
      " [180901.19 175900.  ]\n",
      " [134145.02 158500.  ]\n",
      " [137256.95 145000.  ]\n",
      " [224941.18 217000.  ]\n",
      " [137907.38 150500.  ]\n",
      " [150714.02 108959.  ]\n",
      " [176230.47 165600.  ]\n",
      " [250892.57 201000.  ]\n",
      " [130101.99 145500.  ]\n",
      " [282749.44 319900.  ]\n",
      " [259266.15 215000.  ]\n",
      " [186432.89 180500.  ]\n",
      " [319288.27 367294.  ]\n",
      " [275961.88 239000.  ]\n",
      " [180187.25 145900.  ]\n",
      " [181449.64 161000.  ]\n",
      " [291634.97 250000.  ]\n",
      " [ 94982.23  89471.  ]\n",
      " [200806.1  230000.  ]\n",
      " [122093.61 147000.  ]\n",
      " [176284.69 163900.  ]\n",
      " [101039.22  97000.  ]\n",
      " [158188.04 142000.  ]\n",
      " [192340.42 197000.  ]\n",
      " [116717.67 129000.  ]\n",
      " [248832.2  232000.  ]\n",
      " [107014.17 115000.  ]\n",
      " [147863.89 175000.  ]\n",
      " [257363.02 265000.  ]\n",
      " [216723.66 207000.  ]\n",
      " [182317.   181000.  ]\n",
      " [186096.25 176000.  ]\n",
      " [163962.08 171000.  ]\n",
      " [196956.73 196000.  ]\n",
      " [179614.87 176000.  ]\n",
      " [124164.58 113000.  ]\n",
      " [105560.1  139000.  ]\n",
      " [129362.8  135000.  ]\n",
      " [268642.5  240000.  ]\n",
      " [138984.65 112000.  ]\n",
      " [150746.92 134000.  ]\n",
      " [309332.62 316600.  ]\n",
      " [201458.9  170000.  ]\n",
      " [122382.11 116000.  ]\n",
      " [290981.36 306000.  ]\n",
      " [ 85775.6   82500.  ]\n",
      " [182791.42 175000.  ]\n",
      " [119420.36 106000.  ]\n",
      " [204338.51 194000.  ]\n",
      " [210936.54 194201.  ]\n",
      " [151193.69 155900.  ]\n",
      " [143788.06 138000.  ]\n",
      " [165931.17 177000.  ]\n",
      " [213000.73 214000.  ]\n",
      " [125394.2  148000.  ]\n",
      " [104777.78 127000.  ]\n",
      " [164485.46 142500.  ]\n",
      " [ 69064.08  80000.  ]\n",
      " [137878.8  145000.  ]\n",
      " [180217.65 171000.  ]\n",
      " [144175.89 122500.  ]\n",
      " [139843.26 139000.  ]\n",
      " [233200.48 189000.  ]\n",
      " [ 90294.95 120500.  ]\n",
      " [128894.31 124000.  ]\n",
      " [126911.23 160000.  ]\n",
      " [252994.27 200000.  ]\n",
      " [161763.72 160000.  ]\n",
      " [317516.98 313000.  ]\n",
      " [263967.39 275000.  ]\n",
      " [ 31585.21  67000.  ]\n",
      " [154718.99 159000.  ]\n",
      " [269099.21 251000.  ]\n",
      " [ 55726.27  92900.  ]\n",
      " [ 86536.51 109500.  ]\n",
      " [344574.35 385000.  ]\n",
      " [221420.39 129000.  ]\n",
      " [216125.97  82500.  ]\n",
      " [272828.67 301000.  ]\n",
      " [255685.9  249700.  ]\n",
      " [ 57984.66  81000.  ]\n",
      " [225988.54 187500.  ]\n",
      " [170969.   110000.  ]\n",
      " [134470.52 117000.  ]\n",
      " [106159.85 128500.  ]\n",
      " [208017.36 213490.  ]\n",
      " [258250.68 284000.  ]\n",
      " [249961.71 230500.  ]\n",
      " [210967.29 190000.  ]\n",
      " [130718.61 135000.  ]\n",
      " [185675.21 152000.  ]\n",
      " [ 55461.55  87500.  ]\n",
      " [153129.72 155000.  ]\n",
      " [ 76676.3  115000.  ]\n",
      " [123055.22 144000.  ]\n",
      " [225863.23 248000.  ]\n",
      " [135437.48 132500.  ]\n",
      " [137969.6  136000.  ]\n",
      " [ 99715.19 117000.  ]\n",
      " [ 61391.11  82000.  ]\n",
      " [209549.92 157500.  ]\n",
      " [116253.56 110000.  ]\n",
      " [178979.91 181000.  ]\n",
      " [207408.08 192500.  ]\n",
      " [219297.07 223500.  ]\n",
      " [188145.99 181500.  ]\n",
      " [189716.74 170000.  ]\n",
      " [235647.74 187500.  ]\n",
      " [204786.08 185900.  ]\n",
      " [133281.85 160000.  ]\n",
      " [217344.88 192000.  ]\n",
      " [182369.78 181900.  ]\n",
      " [253575.96 266000.  ]\n",
      " [ 71808.69  99900.  ]\n",
      " [368553.63 438780.  ]\n",
      " [239528.54 229456.  ]\n",
      " [240137.98 216837.  ]\n",
      " [ 82796.57 110500.  ]\n",
      " [249999.99 175900.  ]\n",
      " [391171.85 538000.  ]\n",
      " [760648.28 160000.  ]\n",
      " [242503.91 172500.  ]\n",
      " [100568.93 108000.  ]\n",
      " [148243.98 131500.  ]\n",
      " [ 50684.42 106250.  ]\n",
      " [373162.72 385000.  ]\n",
      " [314017.06 370878.  ]\n",
      " [337656.62 345000.  ]\n",
      " [ 35781.2   68500.  ]\n",
      " [201401.16 250000.  ]\n",
      " [258767.96 245350.  ]\n",
      " [113581.47 125000.  ]\n",
      " [203582.14 234000.  ]\n",
      " [135888.   145000.  ]\n",
      " [186383.22 181000.  ]\n",
      " [153431.36 104000.  ]\n",
      " [242485.14 233000.  ]\n",
      " [220286.48 164000.  ]\n",
      " [185307.99 219500.  ]\n",
      " [214896.66 195000.  ]\n",
      " [116128.46 108000.  ]\n",
      " [133785.19 149900.  ]\n",
      " [339566.51 315000.  ]\n",
      " [147537.8  177500.  ]\n",
      " [137956.57 140000.  ]\n",
      " [193029.51 193879.  ]\n",
      " [229484.34 137900.  ]\n",
      " [138911.38 118000.  ]\n",
      " [287183.89 324000.  ]\n",
      " [419755.59 555000.  ]\n",
      " [201352.44 136000.  ]\n",
      " [ 56408.73  82500.  ]\n",
      " [ 87011.14 101000.  ]]\n"
     ]
    }
   ],
   "source": [
    "y_pred = regressor.predict(X_test)\n",
    "np.set_printoptions(precision=2)\n",
    "print(np.concatenate((y_pred.reshape(len(y_pred),1), y_test.reshape(len(y_test),1)),1))"
   ]
  },
  {
   "cell_type": "markdown",
   "metadata": {
    "id": "rz08IizPiTTe"
   },
   "source": [
    "## Evaluating the Model Performance"
   ]
  },
  {
   "cell_type": "code",
   "execution_count": 22,
   "metadata": {
    "colab": {
     "base_uri": "https://localhost:8080/"
    },
    "id": "V0OAY0KNiTTe",
    "outputId": "18f6e333-ee14-49e9-b7ee-f5fbcdaa7f73"
   },
   "outputs": [
    {
     "name": "stdout",
     "output_type": "stream",
     "text": [
      "0.6484322624685881\n"
     ]
    }
   ],
   "source": [
    "from sklearn.metrics import r2_score\n",
    "results_r2.append(r2_score(y_test,y_pred))\n",
    "print(r2_score(y_test,y_pred))"
   ]
  },
  {
   "cell_type": "markdown",
   "metadata": {
    "id": "HdyJRg3piTTf"
   },
   "source": [
    "# Model: Polynomial regression"
   ]
  },
  {
   "cell_type": "markdown",
   "metadata": {
    "id": "Ud_1XTb28iXH"
   },
   "source": [
    "## Splitting the dataset into the Training set and Test set"
   ]
  },
  {
   "cell_type": "code",
   "execution_count": 23,
   "metadata": {
    "id": "bUib_pbl8ipB"
   },
   "outputs": [],
   "source": [
    "from sklearn.model_selection import train_test_split\n",
    "X_train, X_test, y_train, y_test = train_test_split(X, y, test_size= 0.2, random_state = 0)"
   ]
  },
  {
   "cell_type": "markdown",
   "metadata": {
    "id": "Rb5nWuSHEfBV"
   },
   "source": [
    "## Training the Polynomial Regression model"
   ]
  },
  {
   "cell_type": "code",
   "execution_count": 24,
   "metadata": {
    "colab": {
     "base_uri": "https://localhost:8080/"
    },
    "id": "HYplp4pTEm0O",
    "outputId": "44a10c0f-3cdd-4254-b6ac-e46aab769d5d"
   },
   "outputs": [
    {
     "data": {
      "text/plain": [
       "LinearRegression()"
      ]
     },
     "execution_count": 24,
     "metadata": {},
     "output_type": "execute_result"
    }
   ],
   "source": [
    "from sklearn.preprocessing import PolynomialFeatures\n",
    "from sklearn.linear_model import LinearRegression\n",
    "\n",
    "poly_reg = PolynomialFeatures(degree= 2)\n",
    "X_poly_train = poly_reg.fit_transform(X_train)\n",
    "\n",
    "linear_poly = LinearRegression()\n",
    "linear_poly.fit(X_poly_train,y_train)"
   ]
  },
  {
   "cell_type": "markdown",
   "metadata": {
    "id": "pzF3BRps9nlk"
   },
   "source": [
    "## Predicting the Test set results"
   ]
  },
  {
   "cell_type": "code",
   "execution_count": 25,
   "metadata": {
    "colab": {
     "base_uri": "https://localhost:8080/"
    },
    "id": "36aFLFBK9pMk",
    "outputId": "898f5e6a-6a71-464e-f01b-98093512509b"
   },
   "outputs": [
    {
     "name": "stdout",
     "output_type": "stream",
     "text": [
      "[[236735.95 200624.  ]\n",
      " [150676.99 133000.  ]\n",
      " [ 95517.17 110000.  ]\n",
      " [229706.47 192000.  ]\n",
      " [106120.47  88000.  ]\n",
      " [114719.73  85000.  ]\n",
      " [264398.94 282922.  ]\n",
      " [125237.38 141000.  ]\n",
      " [656486.4  745000.  ]\n",
      " [134290.55 148800.  ]\n",
      " [184218.92 208900.  ]\n",
      " [162096.44 136905.  ]\n",
      " [237112.15 225000.  ]\n",
      " [124181.72 123000.  ]\n",
      " [131251.   119200.  ]\n",
      " [145428.22 145000.  ]\n",
      " [218510.52 190000.  ]\n",
      " [112112.42 123600.  ]\n",
      " [128295.55 149350.  ]\n",
      " [171747.21 155000.  ]\n",
      " [139600.36 166000.  ]\n",
      " [144208.66 144500.  ]\n",
      " [122705.6  110000.  ]\n",
      " [157182.94 174000.  ]\n",
      " [187906.51 185000.  ]\n",
      " [179382.38 168000.  ]\n",
      " [175627.1  177500.  ]\n",
      " [ 86356.22  84500.  ]\n",
      " [341062.28 320000.  ]\n",
      " [120892.61 118500.  ]\n",
      " [154527.4  110000.  ]\n",
      " [203117.05 213000.  ]\n",
      " [145950.19 156000.  ]\n",
      " [297970.12 250000.  ]\n",
      " [297317.5  372500.  ]\n",
      " [180627.66 175000.  ]\n",
      " [284491.15 277500.  ]\n",
      " [115815.15 112500.  ]\n",
      " [231745.47 263000.  ]\n",
      " [335603.34 325000.  ]\n",
      " [202726.64 243000.  ]\n",
      " [137741.18 130000.  ]\n",
      " [184676.23 164990.  ]\n",
      " [310109.4  280000.  ]\n",
      " [363883.08 403000.  ]\n",
      " [160887.98 119000.  ]\n",
      " [111436.46 125000.  ]\n",
      " [113611.19 128200.  ]\n",
      " [175497.48 172500.  ]\n",
      " [ 44871.78  84900.  ]\n",
      " [410620.58 412500.  ]\n",
      " [141721.68 156000.  ]\n",
      " [178439.97 167900.  ]\n",
      " [ 91277.82 100000.  ]\n",
      " [276559.81 275000.  ]\n",
      " [ 89709.87 123000.  ]\n",
      " [104580.77 132000.  ]\n",
      " [228777.43 239900.  ]\n",
      " [142940.64 139000.  ]\n",
      " [ 98092.9  115000.  ]\n",
      " [151063.67 137500.  ]\n",
      " [125969.75 135000.  ]\n",
      " [130627.93 134450.  ]\n",
      " [151821.58 180500.  ]\n",
      " [219665.75 193500.  ]\n",
      " [169059.72 156500.  ]\n",
      " [116684.49 132000.  ]\n",
      " [201237.22 224500.  ]\n",
      " [ 82078.52 139000.  ]\n",
      " [196998.86 225000.  ]\n",
      " [174014.28 188500.  ]\n",
      " [131403.62 118000.  ]\n",
      " [114478.86  82000.  ]\n",
      " [261500.56 392000.  ]\n",
      " [103358.16 112000.  ]\n",
      " [260279.75 248900.  ]\n",
      " [129139.01 134500.  ]\n",
      " [ 94814.52  79500.  ]\n",
      " [298960.28 320000.  ]\n",
      " [153126.02 158000.  ]\n",
      " [147231.5  140000.  ]\n",
      " [122445.46 136500.  ]\n",
      " [117400.06 107500.  ]\n",
      " [144880.85 145000.  ]\n",
      " [ 94821.08 200500.  ]\n",
      " [206224.54 185000.  ]\n",
      " [ 67301.08 105000.  ]\n",
      " [189873.57 202665.  ]\n",
      " [164744.67 186000.  ]\n",
      " [138819.76 136000.  ]\n",
      " [183676.34 200500.  ]\n",
      " [174145.65 190000.  ]\n",
      " [168411.89 187500.  ]\n",
      " [224660.   200000.  ]\n",
      " [188012.09 172500.  ]\n",
      " [154477.67 157000.  ]\n",
      " [224704.04 213000.  ]\n",
      " [151705.76 185000.  ]\n",
      " [106465.3  124500.  ]\n",
      " [127376.32 162900.  ]\n",
      " [264411.17 260000.  ]\n",
      " [164883.46 198500.  ]\n",
      " [ 98034.37 120000.  ]\n",
      " [171863.07 159500.  ]\n",
      " [ 88756.88 105900.  ]\n",
      " [294046.95 260000.  ]\n",
      " [157618.07 143000.  ]\n",
      " [ 97081.66 106500.  ]\n",
      " [163644.83 178900.  ]\n",
      " [107920.91 127000.  ]\n",
      " [ 95572.59  90350.  ]\n",
      " [122213.07 118500.  ]\n",
      " [193933.92 190000.  ]\n",
      " [124912.84 119900.  ]\n",
      " [173450.82 183900.  ]\n",
      " [166646.47 155000.  ]\n",
      " [405900.88 386250.  ]\n",
      " [133669.58 133000.  ]\n",
      " [189706.27 193500.  ]\n",
      " [259581.35 270000.  ]\n",
      " [146644.65 141000.  ]\n",
      " [160603.84 146000.  ]\n",
      " [138374.67 128500.  ]\n",
      " [213140.34 176000.  ]\n",
      " [241300.95 214000.  ]\n",
      " [222302.95 222000.  ]\n",
      " [342548.74 415298.  ]\n",
      " [179157.84 187750.  ]\n",
      " [205865.69 199900.  ]\n",
      " [186790.91 180000.  ]\n",
      " [240484.23 206300.  ]\n",
      " [186025.2  194000.  ]\n",
      " [140783.16 142953.  ]\n",
      " [188200.98 182900.  ]\n",
      " [102342.57 116050.  ]\n",
      " [222151.84 213250.  ]\n",
      " [135265.11 139500.  ]\n",
      " [186191.42 179000.  ]\n",
      " [103410.82 107900.  ]\n",
      " [172601.92 175900.  ]\n",
      " [129302.57 158500.  ]\n",
      " [143939.41 145000.  ]\n",
      " [  7708.39 217000.  ]\n",
      " [138828.84 150500.  ]\n",
      " [143683.06 108959.  ]\n",
      " [166683.23 165600.  ]\n",
      " [238143.99 201000.  ]\n",
      " [132944.26 145500.  ]\n",
      " [276196.93 319900.  ]\n",
      " [254757.76 215000.  ]\n",
      " [174757.78 180500.  ]\n",
      " [351617.86 367294.  ]\n",
      " [277699.41 239000.  ]\n",
      " [139050.26 145900.  ]\n",
      " [152920.72 161000.  ]\n",
      " [306846.08 250000.  ]\n",
      " [132042.63  89471.  ]\n",
      " [169278.41 230000.  ]\n",
      " [127209.4  147000.  ]\n",
      " [148703.69 163900.  ]\n",
      " [119658.88  97000.  ]\n",
      " [151716.97 142000.  ]\n",
      " [180246.48 197000.  ]\n",
      " [119010.32 129000.  ]\n",
      " [247177.72 232000.  ]\n",
      " [111528.97 115000.  ]\n",
      " [150304.06 175000.  ]\n",
      " [276525.33 265000.  ]\n",
      " [209215.62 207000.  ]\n",
      " [182847.79 181000.  ]\n",
      " [175980.79 176000.  ]\n",
      " [156605.42 171000.  ]\n",
      " [190994.33 196000.  ]\n",
      " [175669.53 176000.  ]\n",
      " [124054.21 113000.  ]\n",
      " [110287.74 139000.  ]\n",
      " [131164.22 135000.  ]\n",
      " [252410.65 240000.  ]\n",
      " [131444.76 112000.  ]\n",
      " [106271.89 134000.  ]\n",
      " [331437.5  316600.  ]\n",
      " [187879.78 170000.  ]\n",
      " [108415.67 116000.  ]\n",
      " [306336.03 306000.  ]\n",
      " [106884.2   82500.  ]\n",
      " [174759.19 175000.  ]\n",
      " [104579.35 106000.  ]\n",
      " [194775.6  194000.  ]\n",
      " [201579.17 194201.  ]\n",
      " [144874.64 155900.  ]\n",
      " [146553.2  138000.  ]\n",
      " [155530.88 177000.  ]\n",
      " [209732.51 214000.  ]\n",
      " [129430.56 148000.  ]\n",
      " [122028.25 127000.  ]\n",
      " [157131.77 142500.  ]\n",
      " [104836.2   80000.  ]\n",
      " [128689.48 145000.  ]\n",
      " [167017.82 171000.  ]\n",
      " [140134.52 122500.  ]\n",
      " [137570.44 139000.  ]\n",
      " [214696.75 189000.  ]\n",
      " [105677.86 120500.  ]\n",
      " [139894.81 124000.  ]\n",
      " [122269.24 160000.  ]\n",
      " [192837.01 200000.  ]\n",
      " [153166.6  160000.  ]\n",
      " [344555.49 313000.  ]\n",
      " [267841.13 275000.  ]\n",
      " [ 80418.92  67000.  ]\n",
      " [155434.23 159000.  ]\n",
      " [267246.08 251000.  ]\n",
      " [ 94851.68  92900.  ]\n",
      " [101748.72 109500.  ]\n",
      " [444871.89 385000.  ]\n",
      " [221088.29 129000.  ]\n",
      " [207686.8   82500.  ]\n",
      " [289588.94 301000.  ]\n",
      " [257090.96 249700.  ]\n",
      " [ 92276.53  81000.  ]\n",
      " [220027.69 187500.  ]\n",
      " [163140.21 110000.  ]\n",
      " [141140.17 117000.  ]\n",
      " [114169.46 128500.  ]\n",
      " [198827.43 213490.  ]\n",
      " [258417.71 284000.  ]\n",
      " [251362.78 230500.  ]\n",
      " [194095.54 190000.  ]\n",
      " [132261.68 135000.  ]\n",
      " [172196.81 152000.  ]\n",
      " [ 94638.74  87500.  ]\n",
      " [121100.59 155000.  ]\n",
      " [100951.68 115000.  ]\n",
      " [131187.21 144000.  ]\n",
      " [219524.33 248000.  ]\n",
      " [131088.7  132500.  ]\n",
      " [142918.69 136000.  ]\n",
      " [111440.06 117000.  ]\n",
      " [ 81864.28  82000.  ]\n",
      " [200188.53 157500.  ]\n",
      " [122185.77 110000.  ]\n",
      " [178423.71 181000.  ]\n",
      " [204426.34 192500.  ]\n",
      " [211333.22 223500.  ]\n",
      " [181779.8  181500.  ]\n",
      " [157334.41 170000.  ]\n",
      " [220263.25 187500.  ]\n",
      " [189929.75 185900.  ]\n",
      " [136505.06 160000.  ]\n",
      " [208726.59 192000.  ]\n",
      " [173104.02 181900.  ]\n",
      " [257996.89 266000.  ]\n",
      " [ 90986.46  99900.  ]\n",
      " [458888.8  438780.  ]\n",
      " [230237.63 229456.  ]\n",
      " [242320.43 216837.  ]\n",
      " [ 95173.33 110500.  ]\n",
      " [251999.65 175900.  ]\n",
      " [452431.88 538000.  ]\n",
      " [-50394.04 160000.  ]\n",
      " [230827.82 172500.  ]\n",
      " [109924.81 108000.  ]\n",
      " [148103.78 131500.  ]\n",
      " [ 77170.62 106250.  ]\n",
      " [432058.41 385000.  ]\n",
      " [338497.85 370878.  ]\n",
      " [350615.05 345000.  ]\n",
      " [ 77274.95  68500.  ]\n",
      " [193881.5  250000.  ]\n",
      " [261790.61 245350.  ]\n",
      " [121712.53 125000.  ]\n",
      " [200602.92 234000.  ]\n",
      " [128412.46 145000.  ]\n",
      " [179316.35 181000.  ]\n",
      " [153144.16 104000.  ]\n",
      " [242710.32 233000.  ]\n",
      " [210940.73 164000.  ]\n",
      " [169869.02 219500.  ]\n",
      " [216674.5  195000.  ]\n",
      " [136436.26 108000.  ]\n",
      " [136677.71 149900.  ]\n",
      " [382739.72 315000.  ]\n",
      " [167439.   177500.  ]\n",
      " [110092.71 140000.  ]\n",
      " [182550.74 193879.  ]\n",
      " [166241.21 137900.  ]\n",
      " [127138.16 118000.  ]\n",
      " [293700.25 324000.  ]\n",
      " [526212.14 555000.  ]\n",
      " [180274.53 136000.  ]\n",
      " [103826.63  82500.  ]\n",
      " [ 93874.79 101000.  ]]\n"
     ]
    }
   ],
   "source": [
    "#X_poly_test = poly_reg.fit_transform(X_test)\n",
    "X_poly_test = poly_reg.transform(X_test)\n",
    "y_pred = linear_poly.predict(X_poly_test)\n",
    "\n",
    "np.set_printoptions(precision=2)\n",
    "print(np.concatenate((y_pred.reshape(len(y_pred),1), y_test.reshape(len(y_test),1)),1))"
   ]
  },
  {
   "cell_type": "markdown",
   "metadata": {
    "id": "Fz1uTlWV919-"
   },
   "source": [
    "## Evaluating the Model Performance"
   ]
  },
  {
   "cell_type": "code",
   "execution_count": 26,
   "metadata": {
    "colab": {
     "base_uri": "https://localhost:8080/"
    },
    "id": "xvZQ_4W893-e",
    "outputId": "a6674e72-2fa0-4cec-afac-be5d0122b2e8"
   },
   "outputs": [
    {
     "name": "stdout",
     "output_type": "stream",
     "text": [
      "0.8479678245046699\n"
     ]
    }
   ],
   "source": [
    "from sklearn.metrics import r2_score\n",
    "results_r2.append(r2_score(y_test,y_pred))\n",
    "print(r2_score(y_test,y_pred))\n"
   ]
  },
  {
   "cell_type": "markdown",
   "metadata": {
    "id": "FVu_BmeCiTTj"
   },
   "source": [
    "# Model: Support vector regression"
   ]
  },
  {
   "cell_type": "code",
   "execution_count": 27,
   "metadata": {
    "id": "h3rDQUEDiTTk"
   },
   "outputs": [],
   "source": [
    "y = y.reshape(-1,1)"
   ]
  },
  {
   "cell_type": "markdown",
   "metadata": {
    "id": "Cuc1mGA3iTTk"
   },
   "source": [
    "## Splitting the dataset into the Training set and Test set"
   ]
  },
  {
   "cell_type": "code",
   "execution_count": 28,
   "metadata": {
    "id": "YuWEbE4ZiTTk"
   },
   "outputs": [],
   "source": [
    "from sklearn.model_selection import train_test_split\n",
    "X_train, X_test, y_train, y_test = train_test_split(X, y, test_size= 0.2, random_state= 0)"
   ]
  },
  {
   "cell_type": "markdown",
   "metadata": {
    "id": "u2oIWeZWiTTl"
   },
   "source": [
    "## Feature scaling"
   ]
  },
  {
   "cell_type": "code",
   "execution_count": 29,
   "metadata": {
    "id": "EZ5v7qOUiTTl"
   },
   "outputs": [],
   "source": [
    "from sklearn.preprocessing import StandardScaler\n",
    "sc_X = StandardScaler()\n",
    "sc_y = StandardScaler()\n",
    "\n",
    "X_train = sc_X.fit_transform(X_train)\n",
    "y_train = sc_y.fit_transform(y_train)"
   ]
  },
  {
   "cell_type": "markdown",
   "metadata": {
    "id": "jgvciRkGiTTl"
   },
   "source": [
    "## Training the SVR regression model "
   ]
  },
  {
   "cell_type": "code",
   "execution_count": 30,
   "metadata": {
    "colab": {
     "base_uri": "https://localhost:8080/"
    },
    "id": "QVabbRzPiTTl",
    "outputId": "882eea15-174e-4f57-a1d8-1c2a830e9ed1"
   },
   "outputs": [
    {
     "data": {
      "text/plain": [
       "SVR()"
      ]
     },
     "execution_count": 30,
     "metadata": {},
     "output_type": "execute_result"
    }
   ],
   "source": [
    "from sklearn.svm import SVR\n",
    "regressor = SVR(kernel = \"rbf\")\n",
    "regressor.fit(X_train, y_train)"
   ]
  },
  {
   "cell_type": "markdown",
   "metadata": {
    "id": "BT9gHJLuiTTl"
   },
   "source": [
    "## Predicting the Test set results"
   ]
  },
  {
   "cell_type": "code",
   "execution_count": 31,
   "metadata": {
    "colab": {
     "base_uri": "https://localhost:8080/"
    },
    "id": "UGeAk0JFiTTm",
    "outputId": "4974bd7c-cedd-4da4-a7c2-abe6da687968"
   },
   "outputs": [
    {
     "name": "stdout",
     "output_type": "stream",
     "text": [
      "[[220166.5  200624.  ]\n",
      " [145134.   133000.  ]\n",
      " [104886.01 110000.  ]\n",
      " [216384.4  192000.  ]\n",
      " [101236.13  88000.  ]\n",
      " [111739.41  85000.  ]\n",
      " [253534.58 282922.  ]\n",
      " [126899.54 141000.  ]\n",
      " [316755.82 745000.  ]\n",
      " [149598.16 148800.  ]\n",
      " [185060.45 208900.  ]\n",
      " [161846.89 136905.  ]\n",
      " [233374.03 225000.  ]\n",
      " [128388.08 123000.  ]\n",
      " [136261.8  119200.  ]\n",
      " [153344.52 145000.  ]\n",
      " [216392.19 190000.  ]\n",
      " [118453.57 123600.  ]\n",
      " [135670.02 149350.  ]\n",
      " [165848.36 155000.  ]\n",
      " [139704.94 166000.  ]\n",
      " [143522.29 144500.  ]\n",
      " [100713.48 110000.  ]\n",
      " [162346.01 174000.  ]\n",
      " [186222.1  185000.  ]\n",
      " [176796.12 168000.  ]\n",
      " [181026.95 177500.  ]\n",
      " [ 82734.19  84500.  ]\n",
      " [327490.86 320000.  ]\n",
      " [122010.91 118500.  ]\n",
      " [153443.06 110000.  ]\n",
      " [204390.73 213000.  ]\n",
      " [143928.25 156000.  ]\n",
      " [298945.61 250000.  ]\n",
      " [283338.24 372500.  ]\n",
      " [176704.94 175000.  ]\n",
      " [293274.09 277500.  ]\n",
      " [128929.01 112500.  ]\n",
      " [223853.12 263000.  ]\n",
      " [333016.8  325000.  ]\n",
      " [212018.33 243000.  ]\n",
      " [112012.67 130000.  ]\n",
      " [182832.88 164990.  ]\n",
      " [311295.58 280000.  ]\n",
      " [374792.6  403000.  ]\n",
      " [149241.   119000.  ]\n",
      " [113484.83 125000.  ]\n",
      " [118431.18 128200.  ]\n",
      " [172621.18 172500.  ]\n",
      " [103054.27  84900.  ]\n",
      " [422047.55 412500.  ]\n",
      " [141956.75 156000.  ]\n",
      " [170690.05 167900.  ]\n",
      " [ 82796.66 100000.  ]\n",
      " [264746.01 275000.  ]\n",
      " [146486.1  123000.  ]\n",
      " [120699.31 132000.  ]\n",
      " [223379.12 239900.  ]\n",
      " [145860.79 139000.  ]\n",
      " [103793.46 115000.  ]\n",
      " [146640.75 137500.  ]\n",
      " [133995.06 135000.  ]\n",
      " [137314.   134450.  ]\n",
      " [143211.91 180500.  ]\n",
      " [207319.29 193500.  ]\n",
      " [164012.27 156500.  ]\n",
      " [122340.48 132000.  ]\n",
      " [190974.91 224500.  ]\n",
      " [115794.87 139000.  ]\n",
      " [196942.43 225000.  ]\n",
      " [181789.34 188500.  ]\n",
      " [128500.08 118000.  ]\n",
      " [ 95374.07  82000.  ]\n",
      " [254399.87 392000.  ]\n",
      " [ 97299.98 112000.  ]\n",
      " [243710.14 248900.  ]\n",
      " [132092.43 134500.  ]\n",
      " [ 97998.68  79500.  ]\n",
      " [257287.71 320000.  ]\n",
      " [148682.72 158000.  ]\n",
      " [137475.29 140000.  ]\n",
      " [127670.65 136500.  ]\n",
      " [128275.73 107500.  ]\n",
      " [146782.39 145000.  ]\n",
      " [206372.84 200500.  ]\n",
      " [200150.92 185000.  ]\n",
      " [103622.13 105000.  ]\n",
      " [187108.61 202665.  ]\n",
      " [165737.13 186000.  ]\n",
      " [142000.73 136000.  ]\n",
      " [191790.16 200500.  ]\n",
      " [171669.13 190000.  ]\n",
      " [174257.3  187500.  ]\n",
      " [225830.12 200000.  ]\n",
      " [195391.53 172500.  ]\n",
      " [155507.26 157000.  ]\n",
      " [213605.95 213000.  ]\n",
      " [139920.5  185000.  ]\n",
      " [121249.6  124500.  ]\n",
      " [126089.55 162900.  ]\n",
      " [257873.3  260000.  ]\n",
      " [201799.71 198500.  ]\n",
      " [104571.16 120000.  ]\n",
      " [158412.4  159500.  ]\n",
      " [113291.01 105900.  ]\n",
      " [277614.91 260000.  ]\n",
      " [156460.8  143000.  ]\n",
      " [109692.37 106500.  ]\n",
      " [169568.16 178900.  ]\n",
      " [105392.57 127000.  ]\n",
      " [ 90730.52  90350.  ]\n",
      " [131182.52 118500.  ]\n",
      " [189224.06 190000.  ]\n",
      " [121149.48 119900.  ]\n",
      " [180448.96 183900.  ]\n",
      " [166864.78 155000.  ]\n",
      " [338410.19 386250.  ]\n",
      " [136174.45 133000.  ]\n",
      " [194584.85 193500.  ]\n",
      " [258136.99 270000.  ]\n",
      " [143467.73 141000.  ]\n",
      " [171142.03 146000.  ]\n",
      " [136466.73 128500.  ]\n",
      " [200260.53 176000.  ]\n",
      " [235340.68 214000.  ]\n",
      " [213373.9  222000.  ]\n",
      " [321452.02 415298.  ]\n",
      " [180610.69 187750.  ]\n",
      " [191695.   199900.  ]\n",
      " [177240.67 180000.  ]\n",
      " [212405.49 206300.  ]\n",
      " [191918.93 194000.  ]\n",
      " [149912.4  142953.  ]\n",
      " [175872.42 182900.  ]\n",
      " [104962.79 116050.  ]\n",
      " [213295.34 213250.  ]\n",
      " [132625.52 139500.  ]\n",
      " [183402.76 179000.  ]\n",
      " [105452.34 107900.  ]\n",
      " [178145.96 175900.  ]\n",
      " [131315.62 158500.  ]\n",
      " [147670.14 145000.  ]\n",
      " [207592.15 217000.  ]\n",
      " [145619.26 150500.  ]\n",
      " [144600.17 108959.  ]\n",
      " [172536.78 165600.  ]\n",
      " [231692.91 201000.  ]\n",
      " [135943.74 145500.  ]\n",
      " [288939.81 319900.  ]\n",
      " [250480.08 215000.  ]\n",
      " [163953.9  180500.  ]\n",
      " [338262.48 367294.  ]\n",
      " [277295.17 239000.  ]\n",
      " [160610.82 145900.  ]\n",
      " [165284.22 161000.  ]\n",
      " [290215.95 250000.  ]\n",
      " [107750.93  89471.  ]\n",
      " [169669.76 230000.  ]\n",
      " [115507.19 147000.  ]\n",
      " [166117.27 163900.  ]\n",
      " [125645.89  97000.  ]\n",
      " [142946.87 142000.  ]\n",
      " [186072.22 197000.  ]\n",
      " [134704.71 129000.  ]\n",
      " [247302.78 232000.  ]\n",
      " [102811.35 115000.  ]\n",
      " [150726.04 175000.  ]\n",
      " [256245.06 265000.  ]\n",
      " [203246.62 207000.  ]\n",
      " [179581.53 181000.  ]\n",
      " [165660.56 176000.  ]\n",
      " [157624.54 171000.  ]\n",
      " [183163.37 196000.  ]\n",
      " [160263.43 176000.  ]\n",
      " [112327.03 113000.  ]\n",
      " [ 96293.71 139000.  ]\n",
      " [136732.72 135000.  ]\n",
      " [254482.6  240000.  ]\n",
      " [127218.74 112000.  ]\n",
      " [139846.65 134000.  ]\n",
      " [295658.74 316600.  ]\n",
      " [179681.08 170000.  ]\n",
      " [117553.5  116000.  ]\n",
      " [301064.23 306000.  ]\n",
      " [110959.41  82500.  ]\n",
      " [171778.34 175000.  ]\n",
      " [ 96803.68 106000.  ]\n",
      " [189545.73 194000.  ]\n",
      " [205354.82 194201.  ]\n",
      " [142344.32 155900.  ]\n",
      " [146589.12 138000.  ]\n",
      " [157573.37 177000.  ]\n",
      " [201382.3  214000.  ]\n",
      " [139052.39 148000.  ]\n",
      " [110936.41 127000.  ]\n",
      " [152188.19 142500.  ]\n",
      " [ 96448.99  80000.  ]\n",
      " [133794.67 145000.  ]\n",
      " [165455.9  171000.  ]\n",
      " [143923.66 122500.  ]\n",
      " [143103.49 139000.  ]\n",
      " [188125.64 189000.  ]\n",
      " [105303.64 120500.  ]\n",
      " [124496.27 124000.  ]\n",
      " [132446.48 160000.  ]\n",
      " [225701.27 200000.  ]\n",
      " [152552.17 160000.  ]\n",
      " [338072.07 313000.  ]\n",
      " [262746.68 275000.  ]\n",
      " [ 72618.95  67000.  ]\n",
      " [159916.45 159000.  ]\n",
      " [271604.31 251000.  ]\n",
      " [ 92546.08  92900.  ]\n",
      " [100881.31 109500.  ]\n",
      " [258490.69 385000.  ]\n",
      " [214036.25 129000.  ]\n",
      " [193268.58  82500.  ]\n",
      " [271960.36 301000.  ]\n",
      " [255536.49 249700.  ]\n",
      " [ 89337.38  81000.  ]\n",
      " [203235.97 187500.  ]\n",
      " [163149.33 110000.  ]\n",
      " [131919.   117000.  ]\n",
      " [119262.72 128500.  ]\n",
      " [197370.85 213490.  ]\n",
      " [262514.19 284000.  ]\n",
      " [237154.11 230500.  ]\n",
      " [195942.18 190000.  ]\n",
      " [136515.41 135000.  ]\n",
      " [171313.98 152000.  ]\n",
      " [ 92276.54  87500.  ]\n",
      " [133492.63 155000.  ]\n",
      " [ 98418.87 115000.  ]\n",
      " [131011.43 144000.  ]\n",
      " [217503.52 248000.  ]\n",
      " [125982.2  132500.  ]\n",
      " [143535.01 136000.  ]\n",
      " [114404.   117000.  ]\n",
      " [ 84570.95  82000.  ]\n",
      " [173045.11 157500.  ]\n",
      " [114082.31 110000.  ]\n",
      " [178330.48 181000.  ]\n",
      " [199076.91 192500.  ]\n",
      " [214012.18 223500.  ]\n",
      " [164374.65 181500.  ]\n",
      " [170753.28 170000.  ]\n",
      " [214369.13 187500.  ]\n",
      " [196750.9  185900.  ]\n",
      " [118402.4  160000.  ]\n",
      " [204543.3  192000.  ]\n",
      " [161486.66 181900.  ]\n",
      " [256620.75 266000.  ]\n",
      " [ 91566.19  99900.  ]\n",
      " [260769.74 438780.  ]\n",
      " [227353.82 229456.  ]\n",
      " [225264.48 216837.  ]\n",
      " [ 93556.2  110500.  ]\n",
      " [238308.25 175900.  ]\n",
      " [236920.46 538000.  ]\n",
      " [197878.94 160000.  ]\n",
      " [226634.05 172500.  ]\n",
      " [121686.39 108000.  ]\n",
      " [149792.51 131500.  ]\n",
      " [ 84891.76 106250.  ]\n",
      " [413840.04 385000.  ]\n",
      " [338067.09 370878.  ]\n",
      " [326412.87 345000.  ]\n",
      " [ 68948.06  68500.  ]\n",
      " [184501.67 250000.  ]\n",
      " [259963.28 245350.  ]\n",
      " [116968.53 125000.  ]\n",
      " [186168.75 234000.  ]\n",
      " [137894.7  145000.  ]\n",
      " [173716.02 181000.  ]\n",
      " [139101.4  104000.  ]\n",
      " [247577.6  233000.  ]\n",
      " [188249.45 164000.  ]\n",
      " [165868.46 219500.  ]\n",
      " [214194.63 195000.  ]\n",
      " [117925.22 108000.  ]\n",
      " [134148.06 149900.  ]\n",
      " [385219.18 315000.  ]\n",
      " [155813.43 177500.  ]\n",
      " [147153.46 140000.  ]\n",
      " [181066.82 193879.  ]\n",
      " [180787.4  137900.  ]\n",
      " [126250.79 118000.  ]\n",
      " [288790.98 324000.  ]\n",
      " [383857.36 555000.  ]\n",
      " [163826.16 136000.  ]\n",
      " [122805.75  82500.  ]\n",
      " [ 90949.31 101000.  ]]\n"
     ]
    }
   ],
   "source": [
    "y_pred = sc_y.inverse_transform(regressor.predict(sc_X.transform(X_test)))\n",
    "np.set_printoptions(precision=2)\n",
    "print(np.concatenate((y_pred.reshape(len(y_pred),1), y_test.reshape(len(y_test),1)),1))"
   ]
  },
  {
   "cell_type": "markdown",
   "metadata": {
    "id": "xATR5DR7iTTm"
   },
   "source": [
    "## Evaluating the Model Performance"
   ]
  },
  {
   "cell_type": "code",
   "execution_count": 32,
   "metadata": {
    "colab": {
     "base_uri": "https://localhost:8080/"
    },
    "id": "5lJfxTGWiTTn",
    "outputId": "04904a2a-e696-4287-84d4-d97e9d1150d7"
   },
   "outputs": [
    {
     "name": "stdout",
     "output_type": "stream",
     "text": [
      "0.7409172404939695\n"
     ]
    }
   ],
   "source": [
    "from sklearn.metrics import r2_score\n",
    "results_r2.append(r2_score(y_test,y_pred))\n",
    "print(r2_score(y_test,y_pred))"
   ]
  },
  {
   "cell_type": "markdown",
   "metadata": {
    "id": "t-C-uoTUlx5y"
   },
   "source": [
    "## Presenting the result"
   ]
  },
  {
   "cell_type": "code",
   "execution_count": 36,
   "metadata": {
    "colab": {
     "base_uri": "https://localhost:8080/",
     "height": 441
    },
    "id": "5MwNUZ5kiTTo",
    "outputId": "709c61ae-cd14-46b9-cb8f-723fe618745d"
   },
   "outputs": [
    {
     "data": {
      "image/png": "[encoded data removed]",
      "text/plain": [
       "<Figure size 864x432 with 1 Axes>"
      ]
     },
     "metadata": {},
     "output_type": "display_data"
    }
   ],
   "source": [
    "import matplotlib.cm as cm\n",
    "from numpy.random import rand\n",
    "\n",
    "# get a color map\n",
    "cmap = cm.get_cmap('jet')\n",
    "# 5 nbrs 0 - 1 in array\n",
    "my_colors = rand(5)\n",
    "\n",
    "plt.style.use('fivethirtyeight')\n",
    "plt.figure(figsize =(12,6))\n",
    "\n",
    "models = np.array([\"XGB\", \"RF\", \"DT\", \"MLREG\", \"PREG\",\"SVR\"])\n",
    "\n",
    "plt.bar(models, results_r2, color = cmap(my_colors))\n",
    "plt.xlabel(\"Models\")\n",
    "plt.ylabel(\"R2\")\n",
    "plt.title(\"Model performance on test data for Top 10\")\n",
    "plt.ylim(0.0, 1)\n",
    "plt.show()"
   ]
  },
  {
   "cell_type": "markdown",
   "metadata": {},
   "source": [
    "XGBoost gives us the best result in this case also."
   ]
  },
  {
   "cell_type": "code",
   "execution_count": null,
   "metadata": {},
   "outputs": [],
   "source": []
  }
 ],
 "metadata": {
  "colab": {
   "collapsed_sections": [],
   "name": "Model_selection_dataset_3C.ipynb",
   "provenance": [],
   "toc_visible": true
  },
  "kernelspec": {
   "display_name": "Python 3",
   "language": "python",
   "name": "python3"
  },
  "language_info": {
   "codemirror_mode": {
    "name": "ipython",
    "version": 3
   },
   "file_extension": ".py",
   "mimetype": "text/x-python",
   "name": "python",
   "nbconvert_exporter": "python",
   "pygments_lexer": "ipython3",
   "version": "3.9.2"
  }
 },
 "nbformat": 4,
 "nbformat_minor": 1
}
