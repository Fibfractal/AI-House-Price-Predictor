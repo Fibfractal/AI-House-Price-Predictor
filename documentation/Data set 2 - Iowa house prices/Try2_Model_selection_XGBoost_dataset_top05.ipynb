{
 "cells": [
  {
   "cell_type": "markdown",
   "metadata": {
    "id": "r3cas2_1T98w"
   },
   "source": [
    "# Try 2 - Model selection, XGBoost dataset top5"
   ]
  },
  {
   "cell_type": "markdown",
   "metadata": {},
   "source": [
    "We created new csv-files that only contained the top columns in feature importance and the 'Saleprice'. We did three versions: top10, top12 and top15.\n",
    "\n",
    "We decided to run each of the new csv-files through the same notebook in different copies to see how the number of columns we chose to keep impacted the R2-value.\n",
    "\n",
    "After we ran those three, we decided to test if removing a few more columns gave a worse or better result.\n",
    "\n",
    "This notebook will show the csv-file for top5.\n"
   ]
  },
  {
   "cell_type": "markdown",
   "metadata": {
    "id": "IODliia6U1xO"
   },
   "source": [
    "## Importing the libraries"
   ]
  },
  {
   "cell_type": "code",
   "execution_count": 1,
   "metadata": {
    "id": "y98nA5UdU6Hf"
   },
   "outputs": [],
   "source": [
    "import numpy as np\n",
    "import matplotlib.pyplot as plt\n",
    "import pandas as pd\n",
    "import warnings\n",
    "warnings.filterwarnings(\"ignore\")"
   ]
  },
  {
   "cell_type": "markdown",
   "metadata": {
    "id": "jpjZ43YlU8eI"
   },
   "source": [
    "## Importing the dataset"
   ]
  },
  {
   "cell_type": "code",
   "execution_count": 2,
   "metadata": {
    "colab": {
     "base_uri": "https://localhost:8080/",
     "height": 326
    },
    "id": "pLVaXoYVU_Uy",
    "outputId": "8fa24332-a6e7-4318-85aa-75d5cfe61878"
   },
   "outputs": [
    {
     "data": {
      "text/html": [
       "<div>\n",
       "<style scoped>\n",
       "    .dataframe tbody tr th:only-of-type {\n",
       "        vertical-align: middle;\n",
       "    }\n",
       "\n",
       "    .dataframe tbody tr th {\n",
       "        vertical-align: top;\n",
       "    }\n",
       "\n",
       "    .dataframe thead th {\n",
       "        text-align: right;\n",
       "    }\n",
       "</style>\n",
       "<table border=\"1\" class=\"dataframe\">\n",
       "  <thead>\n",
       "    <tr style=\"text-align: right;\">\n",
       "      <th></th>\n",
       "      <th>1stFlrSF</th>\n",
       "      <th>TotalBsmtSF</th>\n",
       "      <th>2ndFlrSF</th>\n",
       "      <th>GrLivArea</th>\n",
       "      <th>OverallQual</th>\n",
       "      <th>Saleprice</th>\n",
       "    </tr>\n",
       "  </thead>\n",
       "  <tbody>\n",
       "    <tr>\n",
       "      <th>0</th>\n",
       "      <td>856</td>\n",
       "      <td>856</td>\n",
       "      <td>854</td>\n",
       "      <td>1710</td>\n",
       "      <td>7</td>\n",
       "      <td>208500</td>\n",
       "    </tr>\n",
       "    <tr>\n",
       "      <th>1</th>\n",
       "      <td>1262</td>\n",
       "      <td>1262</td>\n",
       "      <td>0</td>\n",
       "      <td>1262</td>\n",
       "      <td>6</td>\n",
       "      <td>181500</td>\n",
       "    </tr>\n",
       "    <tr>\n",
       "      <th>2</th>\n",
       "      <td>920</td>\n",
       "      <td>920</td>\n",
       "      <td>866</td>\n",
       "      <td>1786</td>\n",
       "      <td>7</td>\n",
       "      <td>223500</td>\n",
       "    </tr>\n",
       "    <tr>\n",
       "      <th>3</th>\n",
       "      <td>961</td>\n",
       "      <td>756</td>\n",
       "      <td>756</td>\n",
       "      <td>1717</td>\n",
       "      <td>7</td>\n",
       "      <td>140000</td>\n",
       "    </tr>\n",
       "    <tr>\n",
       "      <th>4</th>\n",
       "      <td>1145</td>\n",
       "      <td>1145</td>\n",
       "      <td>1053</td>\n",
       "      <td>2198</td>\n",
       "      <td>8</td>\n",
       "      <td>250000</td>\n",
       "    </tr>\n",
       "  </tbody>\n",
       "</table>\n",
       "</div>"
      ],
      "text/plain": [
       "   1stFlrSF  TotalBsmtSF  2ndFlrSF  GrLivArea  OverallQual  Saleprice\n",
       "0       856          856       854       1710            7     208500\n",
       "1      1262         1262         0       1262            6     181500\n",
       "2       920          920       866       1786            7     223500\n",
       "3       961          756       756       1717            7     140000\n",
       "4      1145         1145      1053       2198            8     250000"
      ]
     },
     "execution_count": 2,
     "metadata": {},
     "output_type": "execute_result"
    }
   ],
   "source": [
    "dataset = pd.read_csv('top5andprice.csv')\n",
    "X = dataset.iloc[:, :-1]\n",
    "y = dataset.iloc[:, -1]\n",
    "dataset.head()"
   ]
  },
  {
   "cell_type": "markdown",
   "metadata": {
    "id": "BSG-NjWNiTTP"
   },
   "source": [
    "## Encoding categorical data"
   ]
  },
  {
   "cell_type": "markdown",
   "metadata": {
    "id": "3KEVnY2MiTTQ"
   },
   "source": [
    "We can see below, that only one column has categorical data and must be one hot encoded."
   ]
  },
  {
   "cell_type": "code",
   "execution_count": 3,
   "metadata": {
    "colab": {
     "base_uri": "https://localhost:8080/"
    },
    "id": "SLF0lyCRiTTQ",
    "outputId": "fecffae4-53cb-4f09-bbc4-3dc53dd73511"
   },
   "outputs": [
    {
     "name": "stdout",
     "output_type": "stream",
     "text": [
      "<class 'pandas.core.frame.DataFrame'>\n",
      "RangeIndex: 1460 entries, 0 to 1459\n",
      "Data columns (total 6 columns):\n",
      " #   Column       Non-Null Count  Dtype\n",
      "---  ------       --------------  -----\n",
      " 0   1stFlrSF     1460 non-null   int64\n",
      " 1   TotalBsmtSF  1460 non-null   int64\n",
      " 2   2ndFlrSF     1460 non-null   int64\n",
      " 3   GrLivArea    1460 non-null   int64\n",
      " 4   OverallQual  1460 non-null   int64\n",
      " 5   Saleprice    1460 non-null   int64\n",
      "dtypes: int64(6)\n",
      "memory usage: 68.6 KB\n"
     ]
    }
   ],
   "source": [
    "dataset.info()"
   ]
  },
  {
   "cell_type": "markdown",
   "metadata": {
    "id": "YjYGMCxUp17G"
   },
   "source": [
    "### The onehot encoding of the columns"
   ]
  },
  {
   "cell_type": "code",
   "execution_count": 4,
   "metadata": {
    "colab": {
     "base_uri": "https://localhost:8080/",
     "height": 442
    },
    "id": "0Y0-fCjZiTTS",
    "outputId": "46cd9ec9-663f-4406-8c4d-1ad2ac264de6"
   },
   "outputs": [
    {
     "data": {
      "text/html": [
       "<div>\n",
       "<style scoped>\n",
       "    .dataframe tbody tr th:only-of-type {\n",
       "        vertical-align: middle;\n",
       "    }\n",
       "\n",
       "    .dataframe tbody tr th {\n",
       "        vertical-align: top;\n",
       "    }\n",
       "\n",
       "    .dataframe thead th {\n",
       "        text-align: right;\n",
       "    }\n",
       "</style>\n",
       "<table border=\"1\" class=\"dataframe\">\n",
       "  <thead>\n",
       "    <tr style=\"text-align: right;\">\n",
       "      <th></th>\n",
       "      <th>1stFlrSF</th>\n",
       "      <th>TotalBsmtSF</th>\n",
       "      <th>2ndFlrSF</th>\n",
       "      <th>GrLivArea</th>\n",
       "      <th>OverallQual</th>\n",
       "    </tr>\n",
       "  </thead>\n",
       "  <tbody>\n",
       "    <tr>\n",
       "      <th>0</th>\n",
       "      <td>856</td>\n",
       "      <td>856</td>\n",
       "      <td>854</td>\n",
       "      <td>1710</td>\n",
       "      <td>7</td>\n",
       "    </tr>\n",
       "    <tr>\n",
       "      <th>1</th>\n",
       "      <td>1262</td>\n",
       "      <td>1262</td>\n",
       "      <td>0</td>\n",
       "      <td>1262</td>\n",
       "      <td>6</td>\n",
       "    </tr>\n",
       "    <tr>\n",
       "      <th>2</th>\n",
       "      <td>920</td>\n",
       "      <td>920</td>\n",
       "      <td>866</td>\n",
       "      <td>1786</td>\n",
       "      <td>7</td>\n",
       "    </tr>\n",
       "    <tr>\n",
       "      <th>3</th>\n",
       "      <td>961</td>\n",
       "      <td>756</td>\n",
       "      <td>756</td>\n",
       "      <td>1717</td>\n",
       "      <td>7</td>\n",
       "    </tr>\n",
       "    <tr>\n",
       "      <th>4</th>\n",
       "      <td>1145</td>\n",
       "      <td>1145</td>\n",
       "      <td>1053</td>\n",
       "      <td>2198</td>\n",
       "      <td>8</td>\n",
       "    </tr>\n",
       "    <tr>\n",
       "      <th>5</th>\n",
       "      <td>796</td>\n",
       "      <td>796</td>\n",
       "      <td>566</td>\n",
       "      <td>1362</td>\n",
       "      <td>5</td>\n",
       "    </tr>\n",
       "    <tr>\n",
       "      <th>6</th>\n",
       "      <td>1694</td>\n",
       "      <td>1686</td>\n",
       "      <td>0</td>\n",
       "      <td>1694</td>\n",
       "      <td>8</td>\n",
       "    </tr>\n",
       "    <tr>\n",
       "      <th>7</th>\n",
       "      <td>1107</td>\n",
       "      <td>1107</td>\n",
       "      <td>983</td>\n",
       "      <td>2090</td>\n",
       "      <td>7</td>\n",
       "    </tr>\n",
       "    <tr>\n",
       "      <th>8</th>\n",
       "      <td>1022</td>\n",
       "      <td>952</td>\n",
       "      <td>752</td>\n",
       "      <td>1774</td>\n",
       "      <td>7</td>\n",
       "    </tr>\n",
       "    <tr>\n",
       "      <th>9</th>\n",
       "      <td>1077</td>\n",
       "      <td>991</td>\n",
       "      <td>0</td>\n",
       "      <td>1077</td>\n",
       "      <td>5</td>\n",
       "    </tr>\n",
       "  </tbody>\n",
       "</table>\n",
       "</div>"
      ],
      "text/plain": [
       "   1stFlrSF  TotalBsmtSF  2ndFlrSF  GrLivArea  OverallQual\n",
       "0       856          856       854       1710            7\n",
       "1      1262         1262         0       1262            6\n",
       "2       920          920       866       1786            7\n",
       "3       961          756       756       1717            7\n",
       "4      1145         1145      1053       2198            8\n",
       "5       796          796       566       1362            5\n",
       "6      1694         1686         0       1694            8\n",
       "7      1107         1107       983       2090            7\n",
       "8      1022          952       752       1774            7\n",
       "9      1077          991         0       1077            5"
      ]
     },
     "execution_count": 4,
     "metadata": {},
     "output_type": "execute_result"
    }
   ],
   "source": [
    "X = pd.get_dummies(X)\n",
    "X.head(10)"
   ]
  },
  {
   "cell_type": "code",
   "execution_count": 5,
   "metadata": {
    "id": "-b3yRb5giTTS"
   },
   "outputs": [],
   "source": [
    "X = X.values\n",
    "y = y.values"
   ]
  },
  {
   "cell_type": "markdown",
   "metadata": {
    "id": "vn1zGLmfiTTU"
   },
   "source": [
    "# Model: XGBoost regression"
   ]
  },
  {
   "cell_type": "markdown",
   "metadata": {
    "id": "aeQ7nGxkiTTU"
   },
   "source": [
    "## Splitting the dataset into the Training set and Test set"
   ]
  },
  {
   "cell_type": "code",
   "execution_count": 6,
   "metadata": {
    "id": "Xcr7Z3V_iTTU"
   },
   "outputs": [],
   "source": [
    "from sklearn.model_selection import train_test_split\n",
    "X_train, X_test, y_train, y_test = train_test_split(X, y, test_size= 0.2, random_state= 0)"
   ]
  },
  {
   "cell_type": "markdown",
   "metadata": {
    "id": "RzcKvOPPiTTU"
   },
   "source": [
    "## Training the XGBoost regression model "
   ]
  },
  {
   "cell_type": "code",
   "execution_count": 7,
   "metadata": {
    "colab": {
     "base_uri": "https://localhost:8080/"
    },
    "id": "4UTxqp8hiTTV",
    "outputId": "f8f215d6-9cb6-4d0f-f0f0-a65d264e1c71"
   },
   "outputs": [
    {
     "data": {
      "text/plain": [
       "XGBRegressor(base_score=0.5, booster='gbtree', colsample_bylevel=1,\n",
       "             colsample_bynode=1, colsample_bytree=1, gamma=0, gpu_id=-1,\n",
       "             importance_type='gain', interaction_constraints='',\n",
       "             learning_rate=0.300000012, max_delta_step=0, max_depth=6,\n",
       "             min_child_weight=1, missing=nan, monotone_constraints='()',\n",
       "             n_estimators=100, n_jobs=8, num_parallel_tree=1, random_state=0,\n",
       "             reg_alpha=0, reg_lambda=1, scale_pos_weight=1, seed=0, subsample=1,\n",
       "             tree_method='exact', validate_parameters=1, verbosity=None)"
      ]
     },
     "execution_count": 7,
     "metadata": {},
     "output_type": "execute_result"
    }
   ],
   "source": [
    "from xgboost import XGBRegressor\n",
    "#seed = 0 is default\n",
    "regressor = XGBRegressor(seed = 0)\n",
    "regressor.fit(X_train, y_train)"
   ]
  },
  {
   "cell_type": "markdown",
   "metadata": {
    "id": "47UZUJdxiTTV"
   },
   "source": [
    "## Predicting the Test set results"
   ]
  },
  {
   "cell_type": "code",
   "execution_count": 8,
   "metadata": {
    "colab": {
     "base_uri": "https://localhost:8080/"
    },
    "id": "OcWYcRWQiTTV",
    "outputId": "d2a09be3-fb43-4d8a-f748-a91324fbdef3"
   },
   "outputs": [
    {
     "name": "stdout",
     "output_type": "stream",
     "text": [
      "[[184692.2  200624.  ]\n",
      " [147056.38 133000.  ]\n",
      " [120415.55 110000.  ]\n",
      " [244656.03 192000.  ]\n",
      " [ 99908.59  88000.  ]\n",
      " [120669.    85000.  ]\n",
      " [241481.92 282922.  ]\n",
      " [120260.79 141000.  ]\n",
      " [753204.62 745000.  ]\n",
      " [128320.17 148800.  ]\n",
      " [204954.42 208900.  ]\n",
      " [178102.67 136905.  ]\n",
      " [205253.14 225000.  ]\n",
      " [126899.56 123000.  ]\n",
      " [119773.02 119200.  ]\n",
      " [168331.5  145000.  ]\n",
      " [182283.09 190000.  ]\n",
      " [133141.38 123600.  ]\n",
      " [151956.95 149350.  ]\n",
      " [199446.89 155000.  ]\n",
      " [132827.81 166000.  ]\n",
      " [141679.03 144500.  ]\n",
      " [126547.14 110000.  ]\n",
      " [148320.67 174000.  ]\n",
      " [164985.03 185000.  ]\n",
      " [249115.31 168000.  ]\n",
      " [182858.86 177500.  ]\n",
      " [ 79079.2   84500.  ]\n",
      " [330363.44 320000.  ]\n",
      " [119110.68 118500.  ]\n",
      " [148379.78 110000.  ]\n",
      " [148914.19 213000.  ]\n",
      " [131513.69 156000.  ]\n",
      " [270582.22 250000.  ]\n",
      " [262672.81 372500.  ]\n",
      " [169824.17 175000.  ]\n",
      " [260685.75 277500.  ]\n",
      " [117835.2  112500.  ]\n",
      " [216811.   263000.  ]\n",
      " [318690.28 325000.  ]\n",
      " [238655.12 243000.  ]\n",
      " [121670.43 130000.  ]\n",
      " [205681.59 164990.  ]\n",
      " [276969.5  280000.  ]\n",
      " [336930.97 403000.  ]\n",
      " [152609.22 119000.  ]\n",
      " [121772.59 125000.  ]\n",
      " [125048.73 128200.  ]\n",
      " [154416.31 172500.  ]\n",
      " [103391.41  84900.  ]\n",
      " [372744.03 412500.  ]\n",
      " [126651.98 156000.  ]\n",
      " [170486.88 167900.  ]\n",
      " [ 60944.91 100000.  ]\n",
      " [238625.03 275000.  ]\n",
      " [110666.73 123000.  ]\n",
      " [140445.86 132000.  ]\n",
      " [227203.39 239900.  ]\n",
      " [147819.88 139000.  ]\n",
      " [ 84061.3  115000.  ]\n",
      " [142616.95 137500.  ]\n",
      " [130234.41 135000.  ]\n",
      " [153004.67 134450.  ]\n",
      " [144128.77 180500.  ]\n",
      " [203390.69 193500.  ]\n",
      " [193573.69 156500.  ]\n",
      " [121334.03 132000.  ]\n",
      " [172613.38 224500.  ]\n",
      " [111074.74 139000.  ]\n",
      " [196242.98 225000.  ]\n",
      " [167175.17 188500.  ]\n",
      " [129419.32 118000.  ]\n",
      " [ 91943.77  82000.  ]\n",
      " [216796.   392000.  ]\n",
      " [110780.13 112000.  ]\n",
      " [282241.62 248900.  ]\n",
      " [131017.32 134500.  ]\n",
      " [114792.34  79500.  ]\n",
      " [277563.66 320000.  ]\n",
      " [159355.8  158000.  ]\n",
      " [125208.19 140000.  ]\n",
      " [119494.18 136500.  ]\n",
      " [141088.69 107500.  ]\n",
      " [138178.55 145000.  ]\n",
      " [250351.8  200500.  ]\n",
      " [181257.77 185000.  ]\n",
      " [ 84519.08 105000.  ]\n",
      " [199870.89 202665.  ]\n",
      " [160174.95 186000.  ]\n",
      " [119773.02 136000.  ]\n",
      " [165432.94 200500.  ]\n",
      " [188049.39 190000.  ]\n",
      " [153504.69 187500.  ]\n",
      " [214036.27 200000.  ]\n",
      " [172597.92 172500.  ]\n",
      " [151717.77 157000.  ]\n",
      " [213568.47 213000.  ]\n",
      " [150634.81 185000.  ]\n",
      " [112595.77 124500.  ]\n",
      " [136096.3  162900.  ]\n",
      " [276679.41 260000.  ]\n",
      " [197701.44 198500.  ]\n",
      " [102013.27 120000.  ]\n",
      " [143432.67 159500.  ]\n",
      " [107199.95 105900.  ]\n",
      " [346242.97 260000.  ]\n",
      " [129514.07 143000.  ]\n",
      " [119152.76 106500.  ]\n",
      " [153688.25 178900.  ]\n",
      " [134562.8  127000.  ]\n",
      " [ 76948.17  90350.  ]\n",
      " [123209.62 118500.  ]\n",
      " [212685.72 190000.  ]\n",
      " [115611.33 119900.  ]\n",
      " [174444.53 183900.  ]\n",
      " [164431.88 155000.  ]\n",
      " [602098.75 386250.  ]\n",
      " [135000.09 133000.  ]\n",
      " [186391.89 193500.  ]\n",
      " [268789.66 270000.  ]\n",
      " [132751.5  141000.  ]\n",
      " [155741.73 146000.  ]\n",
      " [138178.55 128500.  ]\n",
      " [206956.31 176000.  ]\n",
      " [208081.02 214000.  ]\n",
      " [202225.08 222000.  ]\n",
      " [418978.41 415298.  ]\n",
      " [170909.42 187750.  ]\n",
      " [175204.5  199900.  ]\n",
      " [160814.77 180000.  ]\n",
      " [194867.86 206300.  ]\n",
      " [174082.59 194000.  ]\n",
      " [172813.47 142953.  ]\n",
      " [160954.7  182900.  ]\n",
      " [112595.77 116050.  ]\n",
      " [240067.19 213250.  ]\n",
      " [136712.66 139500.  ]\n",
      " [201469.39 179000.  ]\n",
      " [111376.16 107900.  ]\n",
      " [172703.25 175900.  ]\n",
      " [153732.62 158500.  ]\n",
      " [112562.82 145000.  ]\n",
      " [206740.75 217000.  ]\n",
      " [135000.09 150500.  ]\n",
      " [146370.38 108959.  ]\n",
      " [165575.   165600.  ]\n",
      " [233061.75 201000.  ]\n",
      " [138715.72 145500.  ]\n",
      " [362727.22 319900.  ]\n",
      " [230251.14 215000.  ]\n",
      " [173500.75 180500.  ]\n",
      " [328731.38 367294.  ]\n",
      " [370112.06 239000.  ]\n",
      " [165659.66 145900.  ]\n",
      " [142750.3  161000.  ]\n",
      " [287433.94 250000.  ]\n",
      " [127132.1   89471.  ]\n",
      " [211534.98 230000.  ]\n",
      " [147819.88 147000.  ]\n",
      " [158190.8  163900.  ]\n",
      " [112595.77  97000.  ]\n",
      " [151559.64 142000.  ]\n",
      " [196982.44 197000.  ]\n",
      " [103956.48 129000.  ]\n",
      " [247669.75 232000.  ]\n",
      " [138216.36 115000.  ]\n",
      " [120438.77 175000.  ]\n",
      " [294830.25 265000.  ]\n",
      " [209207.23 207000.  ]\n",
      " [159589.33 181000.  ]\n",
      " [177314.86 176000.  ]\n",
      " [160527.11 171000.  ]\n",
      " [186721.09 196000.  ]\n",
      " [163546.73 176000.  ]\n",
      " [138178.55 113000.  ]\n",
      " [ 82373.88 139000.  ]\n",
      " [126151.75 135000.  ]\n",
      " [235119.52 240000.  ]\n",
      " [123220.62 112000.  ]\n",
      " [125078.54 134000.  ]\n",
      " [293123.53 316600.  ]\n",
      " [193806.77 170000.  ]\n",
      " [133716.2  116000.  ]\n",
      " [266594.97 306000.  ]\n",
      " [110666.73  82500.  ]\n",
      " [171279.64 175000.  ]\n",
      " [ 95406.96 106000.  ]\n",
      " [178036.39 194000.  ]\n",
      " [170808.97 194201.  ]\n",
      " [141679.03 155900.  ]\n",
      " [138178.55 138000.  ]\n",
      " [168713.56 177000.  ]\n",
      " [241100.81 214000.  ]\n",
      " [125954.49 148000.  ]\n",
      " [ 97903.77 127000.  ]\n",
      " [147337.48 142500.  ]\n",
      " [ 79079.2   80000.  ]\n",
      " [146310.52 145000.  ]\n",
      " [182869.67 171000.  ]\n",
      " [126571.1  122500.  ]\n",
      " [147536.69 139000.  ]\n",
      " [204683.41 189000.  ]\n",
      " [119733.58 120500.  ]\n",
      " [135000.09 124000.  ]\n",
      " [131779.3  160000.  ]\n",
      " [184353.88 200000.  ]\n",
      " [151717.77 160000.  ]\n",
      " [342622.97 313000.  ]\n",
      " [245917.75 275000.  ]\n",
      " [ 66258.52  67000.  ]\n",
      " [147819.88 159000.  ]\n",
      " [309463.38 251000.  ]\n",
      " [ 89545.16  92900.  ]\n",
      " [ 81514.3  109500.  ]\n",
      " [307718.09 385000.  ]\n",
      " [213477.69 129000.  ]\n",
      " [194009.33  82500.  ]\n",
      " [295158.41 301000.  ]\n",
      " [262710.12 249700.  ]\n",
      " [ 79079.2   81000.  ]\n",
      " [201266.73 187500.  ]\n",
      " [161641.33 110000.  ]\n",
      " [156822.19 117000.  ]\n",
      " [119494.18 128500.  ]\n",
      " [206587.75 213490.  ]\n",
      " [241783.59 284000.  ]\n",
      " [267291.5  230500.  ]\n",
      " [226217.22 190000.  ]\n",
      " [133358.59 135000.  ]\n",
      " [186071.   152000.  ]\n",
      " [ 89545.16  87500.  ]\n",
      " [109269.75 155000.  ]\n",
      " [112595.77 115000.  ]\n",
      " [141038.61 144000.  ]\n",
      " [215616.06 248000.  ]\n",
      " [139598.09 132500.  ]\n",
      " [191833.95 136000.  ]\n",
      " [113141.77 117000.  ]\n",
      " [120156.11  82000.  ]\n",
      " [193573.69 157500.  ]\n",
      " [138574.86 110000.  ]\n",
      " [188420.75 181000.  ]\n",
      " [193981.2  192500.  ]\n",
      " [194864.72 223500.  ]\n",
      " [174932.53 181500.  ]\n",
      " [188316.84 170000.  ]\n",
      " [221335.92 187500.  ]\n",
      " [184023.89 185900.  ]\n",
      " [123650.1  160000.  ]\n",
      " [192278.95 192000.  ]\n",
      " [164634.16 181900.  ]\n",
      " [262806.69 266000.  ]\n",
      " [119494.18  99900.  ]\n",
      " [437383.38 438780.  ]\n",
      " [224930.67 229456.  ]\n",
      " [277408.09 216837.  ]\n",
      " [ 99183.53 110500.  ]\n",
      " [212400.75 175900.  ]\n",
      " [381040.47 538000.  ]\n",
      " [218296.66 160000.  ]\n",
      " [217300.14 172500.  ]\n",
      " [126255.23 108000.  ]\n",
      " [163726.33 131500.  ]\n",
      " [ 87497.26 106250.  ]\n",
      " [470725.41 385000.  ]\n",
      " [372449.25 370878.  ]\n",
      " [368830.28 345000.  ]\n",
      " [ 65336.24  68500.  ]\n",
      " [222501.11 250000.  ]\n",
      " [313870.22 245350.  ]\n",
      " [131648.44 125000.  ]\n",
      " [205187.12 234000.  ]\n",
      " [131580.91 145000.  ]\n",
      " [189717.16 181000.  ]\n",
      " [143924.81 104000.  ]\n",
      " [219529.42 233000.  ]\n",
      " [164930.33 164000.  ]\n",
      " [201806.23 219500.  ]\n",
      " [226602.58 195000.  ]\n",
      " [105386.2  108000.  ]\n",
      " [125048.73 149900.  ]\n",
      " [438525.59 315000.  ]\n",
      " [174830.73 177500.  ]\n",
      " [140869.52 140000.  ]\n",
      " [197064.16 193879.  ]\n",
      " [158193.22 137900.  ]\n",
      " [106067.51 118000.  ]\n",
      " [293903.88 324000.  ]\n",
      " [599528.44 555000.  ]\n",
      " [173244.52 136000.  ]\n",
      " [ 59880.95  82500.  ]\n",
      " [ 76964.39 101000.  ]]\n"
     ]
    }
   ],
   "source": [
    "y_pred = regressor.predict(X_test)\n",
    "np.set_printoptions(precision=2)\n",
    "print(np.concatenate((y_pred.reshape(len(y_pred),1), y_test.reshape(len(y_test),1)),1))"
   ]
  },
  {
   "cell_type": "markdown",
   "metadata": {
    "id": "VOvvAlfniTTY"
   },
   "source": [
    "## Evaluating the Model Performance"
   ]
  },
  {
   "cell_type": "code",
   "execution_count": 9,
   "metadata": {
    "colab": {
     "base_uri": "https://localhost:8080/"
    },
    "id": "ae4yntjhiTTY",
    "outputId": "b5ff0285-71b0-4bc5-b502-6636fdf51673"
   },
   "outputs": [
    {
     "name": "stdout",
     "output_type": "stream",
     "text": [
      "0.8243776040452636\n"
     ]
    }
   ],
   "source": [
    "from sklearn.metrics import r2_score\n",
    "print(r2_score(y_test,y_pred))"
   ]
  }
 ],
 "metadata": {
  "colab": {
   "collapsed_sections": [],
   "name": "Model_selection_dataset_2_XGBoost.ipynb",
   "provenance": [],
   "toc_visible": true
  },
  "kernelspec": {
   "display_name": "Python 3",
   "language": "python",
   "name": "python3"
  },
  "language_info": {
   "codemirror_mode": {
    "name": "ipython",
    "version": 3
   },
   "file_extension": ".py",
   "mimetype": "text/x-python",
   "name": "python",
   "nbconvert_exporter": "python",
   "pygments_lexer": "ipython3",
   "version": "3.8.5"
  }
 },
 "nbformat": 4,
 "nbformat_minor": 1
}
