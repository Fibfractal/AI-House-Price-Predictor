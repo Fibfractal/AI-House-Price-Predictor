{
 "cells": [
  {
   "cell_type": "markdown",
   "metadata": {
    "id": "r3cas2_1T98w"
   },
   "source": [
    "# Try 2 - Model selection, XGBoost dataset top7"
   ]
  },
  {
   "cell_type": "markdown",
   "metadata": {},
   "source": [
    "We created new csv-files that only contained the top columns in feature importance and the 'Saleprice'. We did three versions: top10, top12 and top15.\n",
    "\n",
    "We decided to run each of the new csv-files through the same notebook in different copies to see how the number of columns we chose to keep impacted the R2-value.\n",
    "\n",
    "After we ran those three, we decided to test if removing a few more columns gave a worse or better result.\n",
    "\n",
    "This notebook will show the csv-file for top7.\n"
   ]
  },
  {
   "cell_type": "markdown",
   "metadata": {
    "id": "IODliia6U1xO"
   },
   "source": [
    "## Importing the libraries"
   ]
  },
  {
   "cell_type": "code",
   "execution_count": 1,
   "metadata": {
    "id": "y98nA5UdU6Hf"
   },
   "outputs": [],
   "source": [
    "import numpy as np\n",
    "import matplotlib.pyplot as plt\n",
    "import pandas as pd\n",
    "import warnings\n",
    "warnings.filterwarnings(\"ignore\")"
   ]
  },
  {
   "cell_type": "markdown",
   "metadata": {
    "id": "jpjZ43YlU8eI"
   },
   "source": [
    "## Importing the dataset"
   ]
  },
  {
   "cell_type": "code",
   "execution_count": 2,
   "metadata": {
    "colab": {
     "base_uri": "https://localhost:8080/",
     "height": 326
    },
    "id": "pLVaXoYVU_Uy",
    "outputId": "8fa24332-a6e7-4318-85aa-75d5cfe61878"
   },
   "outputs": [
    {
     "data": {
      "text/html": [
       "<div>\n",
       "<style scoped>\n",
       "    .dataframe tbody tr th:only-of-type {\n",
       "        vertical-align: middle;\n",
       "    }\n",
       "\n",
       "    .dataframe tbody tr th {\n",
       "        vertical-align: top;\n",
       "    }\n",
       "\n",
       "    .dataframe thead th {\n",
       "        text-align: right;\n",
       "    }\n",
       "</style>\n",
       "<table border=\"1\" class=\"dataframe\">\n",
       "  <thead>\n",
       "    <tr style=\"text-align: right;\">\n",
       "      <th></th>\n",
       "      <th>BsmtFinSF1</th>\n",
       "      <th>GarageCars</th>\n",
       "      <th>1stFlrSF</th>\n",
       "      <th>TotalBsmtSF</th>\n",
       "      <th>2ndFlrSF</th>\n",
       "      <th>GrLivArea</th>\n",
       "      <th>OverallQual</th>\n",
       "      <th>Saleprice</th>\n",
       "    </tr>\n",
       "  </thead>\n",
       "  <tbody>\n",
       "    <tr>\n",
       "      <th>0</th>\n",
       "      <td>706</td>\n",
       "      <td>2</td>\n",
       "      <td>856</td>\n",
       "      <td>856</td>\n",
       "      <td>854</td>\n",
       "      <td>1710</td>\n",
       "      <td>7</td>\n",
       "      <td>208500</td>\n",
       "    </tr>\n",
       "    <tr>\n",
       "      <th>1</th>\n",
       "      <td>978</td>\n",
       "      <td>2</td>\n",
       "      <td>1262</td>\n",
       "      <td>1262</td>\n",
       "      <td>0</td>\n",
       "      <td>1262</td>\n",
       "      <td>6</td>\n",
       "      <td>181500</td>\n",
       "    </tr>\n",
       "    <tr>\n",
       "      <th>2</th>\n",
       "      <td>486</td>\n",
       "      <td>2</td>\n",
       "      <td>920</td>\n",
       "      <td>920</td>\n",
       "      <td>866</td>\n",
       "      <td>1786</td>\n",
       "      <td>7</td>\n",
       "      <td>223500</td>\n",
       "    </tr>\n",
       "    <tr>\n",
       "      <th>3</th>\n",
       "      <td>216</td>\n",
       "      <td>3</td>\n",
       "      <td>961</td>\n",
       "      <td>756</td>\n",
       "      <td>756</td>\n",
       "      <td>1717</td>\n",
       "      <td>7</td>\n",
       "      <td>140000</td>\n",
       "    </tr>\n",
       "    <tr>\n",
       "      <th>4</th>\n",
       "      <td>655</td>\n",
       "      <td>3</td>\n",
       "      <td>1145</td>\n",
       "      <td>1145</td>\n",
       "      <td>1053</td>\n",
       "      <td>2198</td>\n",
       "      <td>8</td>\n",
       "      <td>250000</td>\n",
       "    </tr>\n",
       "  </tbody>\n",
       "</table>\n",
       "</div>"
      ],
      "text/plain": [
       "   BsmtFinSF1  GarageCars  1stFlrSF  TotalBsmtSF  2ndFlrSF  GrLivArea  \\\n",
       "0         706           2       856          856       854       1710   \n",
       "1         978           2      1262         1262         0       1262   \n",
       "2         486           2       920          920       866       1786   \n",
       "3         216           3       961          756       756       1717   \n",
       "4         655           3      1145         1145      1053       2198   \n",
       "\n",
       "   OverallQual  Saleprice  \n",
       "0            7     208500  \n",
       "1            6     181500  \n",
       "2            7     223500  \n",
       "3            7     140000  \n",
       "4            8     250000  "
      ]
     },
     "execution_count": 2,
     "metadata": {},
     "output_type": "execute_result"
    }
   ],
   "source": [
    "dataset = pd.read_csv('top7andprice.csv')\n",
    "X = dataset.iloc[:, :-1]\n",
    "y = dataset.iloc[:, -1]\n",
    "dataset.head()"
   ]
  },
  {
   "cell_type": "markdown",
   "metadata": {
    "id": "BSG-NjWNiTTP"
   },
   "source": [
    "## Encoding categorical data"
   ]
  },
  {
   "cell_type": "markdown",
   "metadata": {
    "id": "3KEVnY2MiTTQ"
   },
   "source": [
    "We can see below, that none of the columns have categorical data so no need to encode anything."
   ]
  },
  {
   "cell_type": "code",
   "execution_count": 3,
   "metadata": {
    "colab": {
     "base_uri": "https://localhost:8080/"
    },
    "id": "SLF0lyCRiTTQ",
    "outputId": "fecffae4-53cb-4f09-bbc4-3dc53dd73511"
   },
   "outputs": [
    {
     "name": "stdout",
     "output_type": "stream",
     "text": [
      "<class 'pandas.core.frame.DataFrame'>\n",
      "RangeIndex: 1460 entries, 0 to 1459\n",
      "Data columns (total 8 columns):\n",
      " #   Column       Non-Null Count  Dtype\n",
      "---  ------       --------------  -----\n",
      " 0   BsmtFinSF1   1460 non-null   int64\n",
      " 1   GarageCars   1460 non-null   int64\n",
      " 2   1stFlrSF     1460 non-null   int64\n",
      " 3   TotalBsmtSF  1460 non-null   int64\n",
      " 4   2ndFlrSF     1460 non-null   int64\n",
      " 5   GrLivArea    1460 non-null   int64\n",
      " 6   OverallQual  1460 non-null   int64\n",
      " 7   Saleprice    1460 non-null   int64\n",
      "dtypes: int64(8)\n",
      "memory usage: 91.4 KB\n"
     ]
    }
   ],
   "source": [
    "dataset.info()"
   ]
  },
  {
   "cell_type": "code",
   "execution_count": 5,
   "metadata": {
    "id": "-b3yRb5giTTS"
   },
   "outputs": [],
   "source": [
    "X = X.values\n",
    "y = y.values"
   ]
  },
  {
   "cell_type": "markdown",
   "metadata": {
    "id": "vn1zGLmfiTTU"
   },
   "source": [
    "# Model: XGBoost regression"
   ]
  },
  {
   "cell_type": "markdown",
   "metadata": {
    "id": "aeQ7nGxkiTTU"
   },
   "source": [
    "## Splitting the dataset into the Training set and Test set"
   ]
  },
  {
   "cell_type": "code",
   "execution_count": 6,
   "metadata": {
    "id": "Xcr7Z3V_iTTU"
   },
   "outputs": [],
   "source": [
    "from sklearn.model_selection import train_test_split\n",
    "X_train, X_test, y_train, y_test = train_test_split(X, y, test_size= 0.2, random_state= 0)"
   ]
  },
  {
   "cell_type": "markdown",
   "metadata": {
    "id": "RzcKvOPPiTTU"
   },
   "source": [
    "## Training the XGBoost regression model "
   ]
  },
  {
   "cell_type": "code",
   "execution_count": 7,
   "metadata": {
    "colab": {
     "base_uri": "https://localhost:8080/"
    },
    "id": "4UTxqp8hiTTV",
    "outputId": "f8f215d6-9cb6-4d0f-f0f0-a65d264e1c71"
   },
   "outputs": [
    {
     "data": {
      "text/plain": [
       "XGBRegressor(base_score=0.5, booster='gbtree', colsample_bylevel=1,\n",
       "             colsample_bynode=1, colsample_bytree=1, gamma=0, gpu_id=-1,\n",
       "             importance_type='gain', interaction_constraints='',\n",
       "             learning_rate=0.300000012, max_delta_step=0, max_depth=6,\n",
       "             min_child_weight=1, missing=nan, monotone_constraints='()',\n",
       "             n_estimators=100, n_jobs=8, num_parallel_tree=1, random_state=0,\n",
       "             reg_alpha=0, reg_lambda=1, scale_pos_weight=1, seed=0, subsample=1,\n",
       "             tree_method='exact', validate_parameters=1, verbosity=None)"
      ]
     },
     "execution_count": 7,
     "metadata": {},
     "output_type": "execute_result"
    }
   ],
   "source": [
    "from xgboost import XGBRegressor\n",
    "#seed = 0 is default\n",
    "regressor = XGBRegressor(seed = 0)\n",
    "regressor.fit(X_train, y_train)"
   ]
  },
  {
   "cell_type": "markdown",
   "metadata": {
    "id": "47UZUJdxiTTV"
   },
   "source": [
    "## Predicting the Test set results"
   ]
  },
  {
   "cell_type": "code",
   "execution_count": 8,
   "metadata": {
    "colab": {
     "base_uri": "https://localhost:8080/"
    },
    "id": "OcWYcRWQiTTV",
    "outputId": "d2a09be3-fb43-4d8a-f748-a91324fbdef3"
   },
   "outputs": [
    {
     "name": "stdout",
     "output_type": "stream",
     "text": [
      "[[240702.77 200624.  ]\n",
      " [152925.48 133000.  ]\n",
      " [125636.73 110000.  ]\n",
      " [215485.78 192000.  ]\n",
      " [ 86568.7   88000.  ]\n",
      " [124416.64  85000.  ]\n",
      " [267422.91 282922.  ]\n",
      " [117050.02 141000.  ]\n",
      " [674705.81 745000.  ]\n",
      " [143692.94 148800.  ]\n",
      " [189190.95 208900.  ]\n",
      " [155771.75 136905.  ]\n",
      " [207611.72 225000.  ]\n",
      " [127531.34 123000.  ]\n",
      " [139433.94 119200.  ]\n",
      " [171770.62 145000.  ]\n",
      " [172965.14 190000.  ]\n",
      " [116246.52 123600.  ]\n",
      " [135565.56 149350.  ]\n",
      " [220693.03 155000.  ]\n",
      " [149670.89 166000.  ]\n",
      " [142493.84 144500.  ]\n",
      " [112896.7  110000.  ]\n",
      " [171144.97 174000.  ]\n",
      " [174872.62 185000.  ]\n",
      " [231421.39 168000.  ]\n",
      " [191123.53 177500.  ]\n",
      " [ 70944.99  84500.  ]\n",
      " [343369.03 320000.  ]\n",
      " [113790.27 118500.  ]\n",
      " [110396.42 110000.  ]\n",
      " [168420.86 213000.  ]\n",
      " [142039.39 156000.  ]\n",
      " [283699.38 250000.  ]\n",
      " [259947.38 372500.  ]\n",
      " [162396.28 175000.  ]\n",
      " [292225.53 277500.  ]\n",
      " [139924.88 112500.  ]\n",
      " [222978.7  263000.  ]\n",
      " [288101.44 325000.  ]\n",
      " [242286.36 243000.  ]\n",
      " [141949.36 130000.  ]\n",
      " [184888.67 164990.  ]\n",
      " [276222.84 280000.  ]\n",
      " [367418.88 403000.  ]\n",
      " [130181.91 119000.  ]\n",
      " [131645.84 125000.  ]\n",
      " [128787.39 128200.  ]\n",
      " [161720.59 172500.  ]\n",
      " [ 89426.28  84900.  ]\n",
      " [338088.06 412500.  ]\n",
      " [143936.67 156000.  ]\n",
      " [181267.83 167900.  ]\n",
      " [ 71760.91 100000.  ]\n",
      " [265118.09 275000.  ]\n",
      " [109222.74 123000.  ]\n",
      " [145838.47 132000.  ]\n",
      " [254194.11 239900.  ]\n",
      " [167984.42 139000.  ]\n",
      " [ 96371.52 115000.  ]\n",
      " [143763.05 137500.  ]\n",
      " [134890.12 135000.  ]\n",
      " [137961.72 134450.  ]\n",
      " [151947.17 180500.  ]\n",
      " [215826.56 193500.  ]\n",
      " [190469.95 156500.  ]\n",
      " [123600.51 132000.  ]\n",
      " [171979.78 224500.  ]\n",
      " [115720.54 139000.  ]\n",
      " [194336.19 225000.  ]\n",
      " [175619.83 188500.  ]\n",
      " [133531.88 118000.  ]\n",
      " [ 96406.86  82000.  ]\n",
      " [225431.77 392000.  ]\n",
      " [ 81438.88 112000.  ]\n",
      " [272385.25 248900.  ]\n",
      " [132590.61 134500.  ]\n",
      " [106149.66  79500.  ]\n",
      " [273400.22 320000.  ]\n",
      " [152356.41 158000.  ]\n",
      " [141120.84 140000.  ]\n",
      " [125324.31 136500.  ]\n",
      " [155387.62 107500.  ]\n",
      " [152663.2  145000.  ]\n",
      " [208004.19 200500.  ]\n",
      " [202173.09 185000.  ]\n",
      " [ 62575.48 105000.  ]\n",
      " [200486.28 202665.  ]\n",
      " [176368.84 186000.  ]\n",
      " [138660.98 136000.  ]\n",
      " [199802.22 200500.  ]\n",
      " [195806.89 190000.  ]\n",
      " [167772.47 187500.  ]\n",
      " [213316.41 200000.  ]\n",
      " [178653.11 172500.  ]\n",
      " [147659.03 157000.  ]\n",
      " [226737.86 213000.  ]\n",
      " [174257.8  185000.  ]\n",
      " [107344.4  124500.  ]\n",
      " [133345.66 162900.  ]\n",
      " [258474.38 260000.  ]\n",
      " [206535.31 198500.  ]\n",
      " [ 93428.88 120000.  ]\n",
      " [166440.22 159500.  ]\n",
      " [ 86268.62 105900.  ]\n",
      " [315016.38 260000.  ]\n",
      " [144690.16 143000.  ]\n",
      " [118335.95 106500.  ]\n",
      " [169364.64 178900.  ]\n",
      " [117447.98 127000.  ]\n",
      " [102424.98  90350.  ]\n",
      " [127148.95 118500.  ]\n",
      " [184050.66 190000.  ]\n",
      " [121996.63 119900.  ]\n",
      " [169097.08 183900.  ]\n",
      " [188768.69 155000.  ]\n",
      " [471749.19 386250.  ]\n",
      " [127653.62 133000.  ]\n",
      " [205045.73 193500.  ]\n",
      " [255769.03 270000.  ]\n",
      " [157996.73 141000.  ]\n",
      " [161938.89 146000.  ]\n",
      " [152930.11 128500.  ]\n",
      " [217646.94 176000.  ]\n",
      " [247533.95 214000.  ]\n",
      " [210976.64 222000.  ]\n",
      " [374541.94 415298.  ]\n",
      " [162827.14 187750.  ]\n",
      " [187052.22 199900.  ]\n",
      " [190975.88 180000.  ]\n",
      " [210290.3  206300.  ]\n",
      " [184354.12 194000.  ]\n",
      " [147300.3  142953.  ]\n",
      " [185800.67 182900.  ]\n",
      " [112592.8  116050.  ]\n",
      " [227979.86 213250.  ]\n",
      " [136019.42 139500.  ]\n",
      " [191001.42 179000.  ]\n",
      " [104641.23 107900.  ]\n",
      " [174035.8  175900.  ]\n",
      " [128469.46 158500.  ]\n",
      " [131893.59 145000.  ]\n",
      " [191351.06 217000.  ]\n",
      " [141008.25 150500.  ]\n",
      " [134874.73 108959.  ]\n",
      " [179649.81 165600.  ]\n",
      " [246650.98 201000.  ]\n",
      " [138175.41 145500.  ]\n",
      " [289456.91 319900.  ]\n",
      " [243291.95 215000.  ]\n",
      " [188275.22 180500.  ]\n",
      " [371012.75 367294.  ]\n",
      " [268326.22 239000.  ]\n",
      " [170039.67 145900.  ]\n",
      " [200579.61 161000.  ]\n",
      " [277497.47 250000.  ]\n",
      " [127034.2   89471.  ]\n",
      " [196305.47 230000.  ]\n",
      " [101697.2  147000.  ]\n",
      " [166086.02 163900.  ]\n",
      " [114207.08  97000.  ]\n",
      " [156455.22 142000.  ]\n",
      " [188224.7  197000.  ]\n",
      " [108275.38 129000.  ]\n",
      " [241261.75 232000.  ]\n",
      " [115886.84 115000.  ]\n",
      " [137688.   175000.  ]\n",
      " [275602.66 265000.  ]\n",
      " [218527.98 207000.  ]\n",
      " [159837.03 181000.  ]\n",
      " [183751.91 176000.  ]\n",
      " [166928.66 171000.  ]\n",
      " [186572.47 196000.  ]\n",
      " [156842.11 176000.  ]\n",
      " [122836.48 113000.  ]\n",
      " [ 98935.69 139000.  ]\n",
      " [131492.22 135000.  ]\n",
      " [241675.66 240000.  ]\n",
      " [133520.59 112000.  ]\n",
      " [147279.22 134000.  ]\n",
      " [279464.69 316600.  ]\n",
      " [183457.91 170000.  ]\n",
      " [122349.55 116000.  ]\n",
      " [303708.34 306000.  ]\n",
      " [112298.64  82500.  ]\n",
      " [183993.27 175000.  ]\n",
      " [ 95650.62 106000.  ]\n",
      " [190494.02 194000.  ]\n",
      " [177052.64 194201.  ]\n",
      " [142493.84 155900.  ]\n",
      " [155161.05 138000.  ]\n",
      " [156636.12 177000.  ]\n",
      " [206356.09 214000.  ]\n",
      " [130157.82 148000.  ]\n",
      " [115834.22 127000.  ]\n",
      " [140101.77 142500.  ]\n",
      " [ 84621.79  80000.  ]\n",
      " [132119.17 145000.  ]\n",
      " [188253.67 171000.  ]\n",
      " [124169.26 122500.  ]\n",
      " [142592.28 139000.  ]\n",
      " [199234.44 189000.  ]\n",
      " [107052.72 120500.  ]\n",
      " [109358.81 124000.  ]\n",
      " [112410.45 160000.  ]\n",
      " [183382.47 200000.  ]\n",
      " [149131.19 160000.  ]\n",
      " [358457.59 313000.  ]\n",
      " [247093.8  275000.  ]\n",
      " [ 86982.29  67000.  ]\n",
      " [152657.47 159000.  ]\n",
      " [290927.16 251000.  ]\n",
      " [ 95354.41  92900.  ]\n",
      " [113460.65 109500.  ]\n",
      " [358233.03 385000.  ]\n",
      " [236102.78 129000.  ]\n",
      " [201854.09  82500.  ]\n",
      " [252426.98 301000.  ]\n",
      " [263118.38 249700.  ]\n",
      " [ 60093.46  81000.  ]\n",
      " [195983.08 187500.  ]\n",
      " [157293.5  110000.  ]\n",
      " [127299.16 117000.  ]\n",
      " [115484.61 128500.  ]\n",
      " [186152.98 213490.  ]\n",
      " [229822.47 284000.  ]\n",
      " [248686.42 230500.  ]\n",
      " [229605.25 190000.  ]\n",
      " [128717.2  135000.  ]\n",
      " [175546.52 152000.  ]\n",
      " [ 95354.41  87500.  ]\n",
      " [149316.53 155000.  ]\n",
      " [ 87171.78 115000.  ]\n",
      " [124384.12 144000.  ]\n",
      " [214562.12 248000.  ]\n",
      " [129207.37 132500.  ]\n",
      " [144195.58 136000.  ]\n",
      " [116898.7  117000.  ]\n",
      " [ 85439.02  82000.  ]\n",
      " [216157.31 157500.  ]\n",
      " [131703.39 110000.  ]\n",
      " [190721.2  181000.  ]\n",
      " [202980.25 192500.  ]\n",
      " [198415.58 223500.  ]\n",
      " [180355.06 181500.  ]\n",
      " [180420.84 170000.  ]\n",
      " [210900.94 187500.  ]\n",
      " [162883.53 185900.  ]\n",
      " [113763.34 160000.  ]\n",
      " [206638.52 192000.  ]\n",
      " [168447.8  181900.  ]\n",
      " [265717.12 266000.  ]\n",
      " [ 99120.12  99900.  ]\n",
      " [463864.34 438780.  ]\n",
      " [225949.12 229456.  ]\n",
      " [191279.59 216837.  ]\n",
      " [ 97311.7  110500.  ]\n",
      " [252577.61 175900.  ]\n",
      " [403149.94 538000.  ]\n",
      " [212094.59 160000.  ]\n",
      " [214194.56 172500.  ]\n",
      " [124207.28 108000.  ]\n",
      " [152705.8  131500.  ]\n",
      " [ 87400.16 106250.  ]\n",
      " [457329.59 385000.  ]\n",
      " [326411.97 370878.  ]\n",
      " [361604.75 345000.  ]\n",
      " [ 62607.37  68500.  ]\n",
      " [210398.56 250000.  ]\n",
      " [301648.19 245350.  ]\n",
      " [126738.3  125000.  ]\n",
      " [182073.12 234000.  ]\n",
      " [128595.85 145000.  ]\n",
      " [157299.23 181000.  ]\n",
      " [130510.28 104000.  ]\n",
      " [218793.11 233000.  ]\n",
      " [237286.97 164000.  ]\n",
      " [190588.36 219500.  ]\n",
      " [228409.16 195000.  ]\n",
      " [134777.98 108000.  ]\n",
      " [140644.38 149900.  ]\n",
      " [416168.88 315000.  ]\n",
      " [157183.84 177500.  ]\n",
      " [174322.89 140000.  ]\n",
      " [166504.89 193879.  ]\n",
      " [195264.72 137900.  ]\n",
      " [119811.07 118000.  ]\n",
      " [320578.69 324000.  ]\n",
      " [559289.19 555000.  ]\n",
      " [155441.23 136000.  ]\n",
      " [ 88345.94  82500.  ]\n",
      " [ 84951.66 101000.  ]]\n"
     ]
    }
   ],
   "source": [
    "y_pred = regressor.predict(X_test)\n",
    "np.set_printoptions(precision=2)\n",
    "print(np.concatenate((y_pred.reshape(len(y_pred),1), y_test.reshape(len(y_test),1)),1))"
   ]
  },
  {
   "cell_type": "markdown",
   "metadata": {
    "id": "VOvvAlfniTTY"
   },
   "source": [
    "## Evaluating the Model Performance"
   ]
  },
  {
   "cell_type": "code",
   "execution_count": 9,
   "metadata": {
    "colab": {
     "base_uri": "https://localhost:8080/"
    },
    "id": "ae4yntjhiTTY",
    "outputId": "b5ff0285-71b0-4bc5-b502-6636fdf51673"
   },
   "outputs": [
    {
     "name": "stdout",
     "output_type": "stream",
     "text": [
      "0.8629247966353095\n"
     ]
    }
   ],
   "source": [
    "from sklearn.metrics import r2_score\n",
    "print(r2_score(y_test,y_pred))"
   ]
  }
 ],
 "metadata": {
  "colab": {
   "collapsed_sections": [],
   "name": "Model_selection_dataset_2_XGBoost.ipynb",
   "provenance": [],
   "toc_visible": true
  },
  "kernelspec": {
   "display_name": "Python 3",
   "language": "python",
   "name": "python3"
  },
  "language_info": {
   "codemirror_mode": {
    "name": "ipython",
    "version": 3
   },
   "file_extension": ".py",
   "mimetype": "text/x-python",
   "name": "python",
   "nbconvert_exporter": "python",
   "pygments_lexer": "ipython3",
   "version": "3.8.5"
  }
 },
 "nbformat": 4,
 "nbformat_minor": 1
}
