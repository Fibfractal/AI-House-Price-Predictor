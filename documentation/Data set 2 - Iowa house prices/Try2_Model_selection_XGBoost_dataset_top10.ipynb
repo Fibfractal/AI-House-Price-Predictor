{
 "cells": [
  {
   "cell_type": "markdown",
   "metadata": {
    "id": "r3cas2_1T98w"
   },
   "source": [
    "# Try 2 - Model selection, XGBoost dataset top10"
   ]
  },
  {
   "cell_type": "markdown",
   "metadata": {},
   "source": [
    "### This was our pick, the analysis is explained in a summary at the end of this notebook."
   ]
  },
  {
   "cell_type": "markdown",
   "metadata": {},
   "source": [
    "We created new csv-files that only contained the top columns in feature importance and the 'Saleprice'. We did three versions: top10, top12 and top15.\n",
    "\n",
    "We decided to run each of the new csv-files through the same notebook in different copies to see how the number of columns we chose to keep impacted the R2-value.\n",
    "\n",
    "This notebook will show the csv-file for top10.\n"
   ]
  },
  {
   "cell_type": "markdown",
   "metadata": {
    "id": "IODliia6U1xO"
   },
   "source": [
    "## Importing the libraries"
   ]
  },
  {
   "cell_type": "code",
   "execution_count": 1,
   "metadata": {
    "id": "y98nA5UdU6Hf"
   },
   "outputs": [],
   "source": [
    "import numpy as np\n",
    "import matplotlib.pyplot as plt\n",
    "import pandas as pd\n",
    "import warnings\n",
    "warnings.filterwarnings(\"ignore\")"
   ]
  },
  {
   "cell_type": "markdown",
   "metadata": {
    "id": "jpjZ43YlU8eI"
   },
   "source": [
    "## Importing the dataset"
   ]
  },
  {
   "cell_type": "code",
   "execution_count": 2,
   "metadata": {
    "colab": {
     "base_uri": "https://localhost:8080/",
     "height": 326
    },
    "id": "pLVaXoYVU_Uy",
    "outputId": "8fa24332-a6e7-4318-85aa-75d5cfe61878"
   },
   "outputs": [
    {
     "data": {
      "text/html": [
       "<div>\n",
       "<style scoped>\n",
       "    .dataframe tbody tr th:only-of-type {\n",
       "        vertical-align: middle;\n",
       "    }\n",
       "\n",
       "    .dataframe tbody tr th {\n",
       "        vertical-align: top;\n",
       "    }\n",
       "\n",
       "    .dataframe thead th {\n",
       "        text-align: right;\n",
       "    }\n",
       "</style>\n",
       "<table border=\"1\" class=\"dataframe\">\n",
       "  <thead>\n",
       "    <tr style=\"text-align: right;\">\n",
       "      <th></th>\n",
       "      <th>TotRmsAbvGrd</th>\n",
       "      <th>YearBuilt</th>\n",
       "      <th>LandContour</th>\n",
       "      <th>BsmtFinSF1</th>\n",
       "      <th>GarageCars</th>\n",
       "      <th>1stFlrSF</th>\n",
       "      <th>TotalBsmtSF</th>\n",
       "      <th>2ndFlrSF</th>\n",
       "      <th>GrLivArea</th>\n",
       "      <th>OverallQual</th>\n",
       "      <th>Saleprice</th>\n",
       "    </tr>\n",
       "  </thead>\n",
       "  <tbody>\n",
       "    <tr>\n",
       "      <th>0</th>\n",
       "      <td>8</td>\n",
       "      <td>2003</td>\n",
       "      <td>Lvl</td>\n",
       "      <td>706</td>\n",
       "      <td>2</td>\n",
       "      <td>856</td>\n",
       "      <td>856</td>\n",
       "      <td>854</td>\n",
       "      <td>1710</td>\n",
       "      <td>7</td>\n",
       "      <td>208500</td>\n",
       "    </tr>\n",
       "    <tr>\n",
       "      <th>1</th>\n",
       "      <td>6</td>\n",
       "      <td>1976</td>\n",
       "      <td>Lvl</td>\n",
       "      <td>978</td>\n",
       "      <td>2</td>\n",
       "      <td>1262</td>\n",
       "      <td>1262</td>\n",
       "      <td>0</td>\n",
       "      <td>1262</td>\n",
       "      <td>6</td>\n",
       "      <td>181500</td>\n",
       "    </tr>\n",
       "    <tr>\n",
       "      <th>2</th>\n",
       "      <td>6</td>\n",
       "      <td>2001</td>\n",
       "      <td>Lvl</td>\n",
       "      <td>486</td>\n",
       "      <td>2</td>\n",
       "      <td>920</td>\n",
       "      <td>920</td>\n",
       "      <td>866</td>\n",
       "      <td>1786</td>\n",
       "      <td>7</td>\n",
       "      <td>223500</td>\n",
       "    </tr>\n",
       "    <tr>\n",
       "      <th>3</th>\n",
       "      <td>7</td>\n",
       "      <td>1915</td>\n",
       "      <td>Lvl</td>\n",
       "      <td>216</td>\n",
       "      <td>3</td>\n",
       "      <td>961</td>\n",
       "      <td>756</td>\n",
       "      <td>756</td>\n",
       "      <td>1717</td>\n",
       "      <td>7</td>\n",
       "      <td>140000</td>\n",
       "    </tr>\n",
       "    <tr>\n",
       "      <th>4</th>\n",
       "      <td>9</td>\n",
       "      <td>2000</td>\n",
       "      <td>Lvl</td>\n",
       "      <td>655</td>\n",
       "      <td>3</td>\n",
       "      <td>1145</td>\n",
       "      <td>1145</td>\n",
       "      <td>1053</td>\n",
       "      <td>2198</td>\n",
       "      <td>8</td>\n",
       "      <td>250000</td>\n",
       "    </tr>\n",
       "  </tbody>\n",
       "</table>\n",
       "</div>"
      ],
      "text/plain": [
       "   TotRmsAbvGrd  YearBuilt LandContour  BsmtFinSF1  GarageCars  1stFlrSF  \\\n",
       "0             8       2003         Lvl         706           2       856   \n",
       "1             6       1976         Lvl         978           2      1262   \n",
       "2             6       2001         Lvl         486           2       920   \n",
       "3             7       1915         Lvl         216           3       961   \n",
       "4             9       2000         Lvl         655           3      1145   \n",
       "\n",
       "   TotalBsmtSF  2ndFlrSF  GrLivArea  OverallQual  Saleprice  \n",
       "0          856       854       1710            7     208500  \n",
       "1         1262         0       1262            6     181500  \n",
       "2          920       866       1786            7     223500  \n",
       "3          756       756       1717            7     140000  \n",
       "4         1145      1053       2198            8     250000  "
      ]
     },
     "execution_count": 2,
     "metadata": {},
     "output_type": "execute_result"
    }
   ],
   "source": [
    "dataset = pd.read_csv('top10andprice.csv')\n",
    "X = dataset.iloc[:, :-1]\n",
    "y = dataset.iloc[:, -1]\n",
    "dataset.head()"
   ]
  },
  {
   "cell_type": "markdown",
   "metadata": {
    "id": "BSG-NjWNiTTP"
   },
   "source": [
    "## Encoding categorical data"
   ]
  },
  {
   "cell_type": "markdown",
   "metadata": {
    "id": "3KEVnY2MiTTQ"
   },
   "source": [
    "We can see below, that only one column has categorical data and must be one hot encoded."
   ]
  },
  {
   "cell_type": "code",
   "execution_count": 3,
   "metadata": {
    "colab": {
     "base_uri": "https://localhost:8080/"
    },
    "id": "SLF0lyCRiTTQ",
    "outputId": "fecffae4-53cb-4f09-bbc4-3dc53dd73511"
   },
   "outputs": [
    {
     "name": "stdout",
     "output_type": "stream",
     "text": [
      "<class 'pandas.core.frame.DataFrame'>\n",
      "RangeIndex: 1460 entries, 0 to 1459\n",
      "Data columns (total 11 columns):\n",
      " #   Column        Non-Null Count  Dtype \n",
      "---  ------        --------------  ----- \n",
      " 0   TotRmsAbvGrd  1460 non-null   int64 \n",
      " 1   YearBuilt     1460 non-null   int64 \n",
      " 2   LandContour   1460 non-null   object\n",
      " 3   BsmtFinSF1    1460 non-null   int64 \n",
      " 4   GarageCars    1460 non-null   int64 \n",
      " 5   1stFlrSF      1460 non-null   int64 \n",
      " 6   TotalBsmtSF   1460 non-null   int64 \n",
      " 7   2ndFlrSF      1460 non-null   int64 \n",
      " 8   GrLivArea     1460 non-null   int64 \n",
      " 9   OverallQual   1460 non-null   int64 \n",
      " 10  Saleprice     1460 non-null   int64 \n",
      "dtypes: int64(10), object(1)\n",
      "memory usage: 125.6+ KB\n"
     ]
    }
   ],
   "source": [
    "dataset.info()"
   ]
  },
  {
   "cell_type": "markdown",
   "metadata": {
    "id": "YjYGMCxUp17G"
   },
   "source": [
    "### The onehot encoding of the columns"
   ]
  },
  {
   "cell_type": "code",
   "execution_count": 4,
   "metadata": {
    "colab": {
     "base_uri": "https://localhost:8080/",
     "height": 442
    },
    "id": "0Y0-fCjZiTTS",
    "outputId": "46cd9ec9-663f-4406-8c4d-1ad2ac264de6"
   },
   "outputs": [
    {
     "data": {
      "text/html": [
       "<div>\n",
       "<style scoped>\n",
       "    .dataframe tbody tr th:only-of-type {\n",
       "        vertical-align: middle;\n",
       "    }\n",
       "\n",
       "    .dataframe tbody tr th {\n",
       "        vertical-align: top;\n",
       "    }\n",
       "\n",
       "    .dataframe thead th {\n",
       "        text-align: right;\n",
       "    }\n",
       "</style>\n",
       "<table border=\"1\" class=\"dataframe\">\n",
       "  <thead>\n",
       "    <tr style=\"text-align: right;\">\n",
       "      <th></th>\n",
       "      <th>TotRmsAbvGrd</th>\n",
       "      <th>YearBuilt</th>\n",
       "      <th>BsmtFinSF1</th>\n",
       "      <th>GarageCars</th>\n",
       "      <th>1stFlrSF</th>\n",
       "      <th>TotalBsmtSF</th>\n",
       "      <th>2ndFlrSF</th>\n",
       "      <th>GrLivArea</th>\n",
       "      <th>OverallQual</th>\n",
       "      <th>LandContour_Bnk</th>\n",
       "      <th>LandContour_HLS</th>\n",
       "      <th>LandContour_Low</th>\n",
       "      <th>LandContour_Lvl</th>\n",
       "    </tr>\n",
       "  </thead>\n",
       "  <tbody>\n",
       "    <tr>\n",
       "      <th>0</th>\n",
       "      <td>8</td>\n",
       "      <td>2003</td>\n",
       "      <td>706</td>\n",
       "      <td>2</td>\n",
       "      <td>856</td>\n",
       "      <td>856</td>\n",
       "      <td>854</td>\n",
       "      <td>1710</td>\n",
       "      <td>7</td>\n",
       "      <td>0</td>\n",
       "      <td>0</td>\n",
       "      <td>0</td>\n",
       "      <td>1</td>\n",
       "    </tr>\n",
       "    <tr>\n",
       "      <th>1</th>\n",
       "      <td>6</td>\n",
       "      <td>1976</td>\n",
       "      <td>978</td>\n",
       "      <td>2</td>\n",
       "      <td>1262</td>\n",
       "      <td>1262</td>\n",
       "      <td>0</td>\n",
       "      <td>1262</td>\n",
       "      <td>6</td>\n",
       "      <td>0</td>\n",
       "      <td>0</td>\n",
       "      <td>0</td>\n",
       "      <td>1</td>\n",
       "    </tr>\n",
       "    <tr>\n",
       "      <th>2</th>\n",
       "      <td>6</td>\n",
       "      <td>2001</td>\n",
       "      <td>486</td>\n",
       "      <td>2</td>\n",
       "      <td>920</td>\n",
       "      <td>920</td>\n",
       "      <td>866</td>\n",
       "      <td>1786</td>\n",
       "      <td>7</td>\n",
       "      <td>0</td>\n",
       "      <td>0</td>\n",
       "      <td>0</td>\n",
       "      <td>1</td>\n",
       "    </tr>\n",
       "    <tr>\n",
       "      <th>3</th>\n",
       "      <td>7</td>\n",
       "      <td>1915</td>\n",
       "      <td>216</td>\n",
       "      <td>3</td>\n",
       "      <td>961</td>\n",
       "      <td>756</td>\n",
       "      <td>756</td>\n",
       "      <td>1717</td>\n",
       "      <td>7</td>\n",
       "      <td>0</td>\n",
       "      <td>0</td>\n",
       "      <td>0</td>\n",
       "      <td>1</td>\n",
       "    </tr>\n",
       "    <tr>\n",
       "      <th>4</th>\n",
       "      <td>9</td>\n",
       "      <td>2000</td>\n",
       "      <td>655</td>\n",
       "      <td>3</td>\n",
       "      <td>1145</td>\n",
       "      <td>1145</td>\n",
       "      <td>1053</td>\n",
       "      <td>2198</td>\n",
       "      <td>8</td>\n",
       "      <td>0</td>\n",
       "      <td>0</td>\n",
       "      <td>0</td>\n",
       "      <td>1</td>\n",
       "    </tr>\n",
       "    <tr>\n",
       "      <th>5</th>\n",
       "      <td>5</td>\n",
       "      <td>1993</td>\n",
       "      <td>732</td>\n",
       "      <td>2</td>\n",
       "      <td>796</td>\n",
       "      <td>796</td>\n",
       "      <td>566</td>\n",
       "      <td>1362</td>\n",
       "      <td>5</td>\n",
       "      <td>0</td>\n",
       "      <td>0</td>\n",
       "      <td>0</td>\n",
       "      <td>1</td>\n",
       "    </tr>\n",
       "    <tr>\n",
       "      <th>6</th>\n",
       "      <td>7</td>\n",
       "      <td>2004</td>\n",
       "      <td>1369</td>\n",
       "      <td>2</td>\n",
       "      <td>1694</td>\n",
       "      <td>1686</td>\n",
       "      <td>0</td>\n",
       "      <td>1694</td>\n",
       "      <td>8</td>\n",
       "      <td>0</td>\n",
       "      <td>0</td>\n",
       "      <td>0</td>\n",
       "      <td>1</td>\n",
       "    </tr>\n",
       "    <tr>\n",
       "      <th>7</th>\n",
       "      <td>7</td>\n",
       "      <td>1973</td>\n",
       "      <td>859</td>\n",
       "      <td>2</td>\n",
       "      <td>1107</td>\n",
       "      <td>1107</td>\n",
       "      <td>983</td>\n",
       "      <td>2090</td>\n",
       "      <td>7</td>\n",
       "      <td>0</td>\n",
       "      <td>0</td>\n",
       "      <td>0</td>\n",
       "      <td>1</td>\n",
       "    </tr>\n",
       "    <tr>\n",
       "      <th>8</th>\n",
       "      <td>8</td>\n",
       "      <td>1931</td>\n",
       "      <td>0</td>\n",
       "      <td>2</td>\n",
       "      <td>1022</td>\n",
       "      <td>952</td>\n",
       "      <td>752</td>\n",
       "      <td>1774</td>\n",
       "      <td>7</td>\n",
       "      <td>0</td>\n",
       "      <td>0</td>\n",
       "      <td>0</td>\n",
       "      <td>1</td>\n",
       "    </tr>\n",
       "    <tr>\n",
       "      <th>9</th>\n",
       "      <td>5</td>\n",
       "      <td>1939</td>\n",
       "      <td>851</td>\n",
       "      <td>1</td>\n",
       "      <td>1077</td>\n",
       "      <td>991</td>\n",
       "      <td>0</td>\n",
       "      <td>1077</td>\n",
       "      <td>5</td>\n",
       "      <td>0</td>\n",
       "      <td>0</td>\n",
       "      <td>0</td>\n",
       "      <td>1</td>\n",
       "    </tr>\n",
       "  </tbody>\n",
       "</table>\n",
       "</div>"
      ],
      "text/plain": [
       "   TotRmsAbvGrd  YearBuilt  BsmtFinSF1  GarageCars  1stFlrSF  TotalBsmtSF  \\\n",
       "0             8       2003         706           2       856          856   \n",
       "1             6       1976         978           2      1262         1262   \n",
       "2             6       2001         486           2       920          920   \n",
       "3             7       1915         216           3       961          756   \n",
       "4             9       2000         655           3      1145         1145   \n",
       "5             5       1993         732           2       796          796   \n",
       "6             7       2004        1369           2      1694         1686   \n",
       "7             7       1973         859           2      1107         1107   \n",
       "8             8       1931           0           2      1022          952   \n",
       "9             5       1939         851           1      1077          991   \n",
       "\n",
       "   2ndFlrSF  GrLivArea  OverallQual  LandContour_Bnk  LandContour_HLS  \\\n",
       "0       854       1710            7                0                0   \n",
       "1         0       1262            6                0                0   \n",
       "2       866       1786            7                0                0   \n",
       "3       756       1717            7                0                0   \n",
       "4      1053       2198            8                0                0   \n",
       "5       566       1362            5                0                0   \n",
       "6         0       1694            8                0                0   \n",
       "7       983       2090            7                0                0   \n",
       "8       752       1774            7                0                0   \n",
       "9         0       1077            5                0                0   \n",
       "\n",
       "   LandContour_Low  LandContour_Lvl  \n",
       "0                0                1  \n",
       "1                0                1  \n",
       "2                0                1  \n",
       "3                0                1  \n",
       "4                0                1  \n",
       "5                0                1  \n",
       "6                0                1  \n",
       "7                0                1  \n",
       "8                0                1  \n",
       "9                0                1  "
      ]
     },
     "execution_count": 4,
     "metadata": {},
     "output_type": "execute_result"
    }
   ],
   "source": [
    "X = pd.get_dummies(X)\n",
    "X.head(10)"
   ]
  },
  {
   "cell_type": "code",
   "execution_count": 5,
   "metadata": {
    "id": "-b3yRb5giTTS"
   },
   "outputs": [],
   "source": [
    "X = X.values\n",
    "y = y.values"
   ]
  },
  {
   "cell_type": "markdown",
   "metadata": {
    "id": "vn1zGLmfiTTU"
   },
   "source": [
    "# Model: XGBoost regression"
   ]
  },
  {
   "cell_type": "markdown",
   "metadata": {
    "id": "aeQ7nGxkiTTU"
   },
   "source": [
    "## Splitting the dataset into the Training set and Test set"
   ]
  },
  {
   "cell_type": "code",
   "execution_count": 6,
   "metadata": {
    "id": "Xcr7Z3V_iTTU"
   },
   "outputs": [],
   "source": [
    "from sklearn.model_selection import train_test_split\n",
    "X_train, X_test, y_train, y_test = train_test_split(X, y, test_size= 0.2, random_state= 0)"
   ]
  },
  {
   "cell_type": "markdown",
   "metadata": {
    "id": "RzcKvOPPiTTU"
   },
   "source": [
    "## Training the XGBoost regression model "
   ]
  },
  {
   "cell_type": "code",
   "execution_count": 7,
   "metadata": {
    "colab": {
     "base_uri": "https://localhost:8080/"
    },
    "id": "4UTxqp8hiTTV",
    "outputId": "f8f215d6-9cb6-4d0f-f0f0-a65d264e1c71"
   },
   "outputs": [
    {
     "data": {
      "text/plain": [
       "XGBRegressor(base_score=0.5, booster='gbtree', colsample_bylevel=1,\n",
       "             colsample_bynode=1, colsample_bytree=1, gamma=0, gpu_id=-1,\n",
       "             importance_type='gain', interaction_constraints='',\n",
       "             learning_rate=0.300000012, max_delta_step=0, max_depth=6,\n",
       "             min_child_weight=1, missing=nan, monotone_constraints='()',\n",
       "             n_estimators=100, n_jobs=8, num_parallel_tree=1, random_state=0,\n",
       "             reg_alpha=0, reg_lambda=1, scale_pos_weight=1, seed=0, subsample=1,\n",
       "             tree_method='exact', validate_parameters=1, verbosity=None)"
      ]
     },
     "execution_count": 7,
     "metadata": {},
     "output_type": "execute_result"
    }
   ],
   "source": [
    "from xgboost import XGBRegressor\n",
    "#seed = 0 is default\n",
    "regressor = XGBRegressor(seed = 0)\n",
    "regressor.fit(X_train, y_train)"
   ]
  },
  {
   "cell_type": "markdown",
   "metadata": {
    "id": "47UZUJdxiTTV"
   },
   "source": [
    "## Predicting the Test set results"
   ]
  },
  {
   "cell_type": "code",
   "execution_count": 8,
   "metadata": {
    "colab": {
     "base_uri": "https://localhost:8080/"
    },
    "id": "OcWYcRWQiTTV",
    "outputId": "d2a09be3-fb43-4d8a-f748-a91324fbdef3"
   },
   "outputs": [
    {
     "name": "stdout",
     "output_type": "stream",
     "text": [
      "[[268616.91 200624.  ]\n",
      " [134145.41 133000.  ]\n",
      " [115241.47 110000.  ]\n",
      " [224192.3  192000.  ]\n",
      " [ 84624.42  88000.  ]\n",
      " [114255.57  85000.  ]\n",
      " [273759.91 282922.  ]\n",
      " [120748.48 141000.  ]\n",
      " [647299.62 745000.  ]\n",
      " [151545.2  148800.  ]\n",
      " [207496.84 208900.  ]\n",
      " [149168.36 136905.  ]\n",
      " [225470.17 225000.  ]\n",
      " [129125.52 123000.  ]\n",
      " [143378.91 119200.  ]\n",
      " [150941.78 145000.  ]\n",
      " [207925.55 190000.  ]\n",
      " [116103.92 123600.  ]\n",
      " [129082.12 149350.  ]\n",
      " [188426.08 155000.  ]\n",
      " [136327.08 166000.  ]\n",
      " [145646.66 144500.  ]\n",
      " [104045.16 110000.  ]\n",
      " [170363.91 174000.  ]\n",
      " [171670.39 185000.  ]\n",
      " [146942.5  168000.  ]\n",
      " [180437.31 177500.  ]\n",
      " [ 74575.54  84500.  ]\n",
      " [361920.38 320000.  ]\n",
      " [121242.62 118500.  ]\n",
      " [124880.2  110000.  ]\n",
      " [187729.48 213000.  ]\n",
      " [141876.33 156000.  ]\n",
      " [290945.88 250000.  ]\n",
      " [256832.98 372500.  ]\n",
      " [171180.47 175000.  ]\n",
      " [285192.47 277500.  ]\n",
      " [138615.77 112500.  ]\n",
      " [216736.06 263000.  ]\n",
      " [281292.03 325000.  ]\n",
      " [257299.08 243000.  ]\n",
      " [136754.2  130000.  ]\n",
      " [180403.56 164990.  ]\n",
      " [263293.62 280000.  ]\n",
      " [348064.53 403000.  ]\n",
      " [128555.13 119000.  ]\n",
      " [117434.08 125000.  ]\n",
      " [122638.83 128200.  ]\n",
      " [169837.97 172500.  ]\n",
      " [ 77454.32  84900.  ]\n",
      " [364807.28 412500.  ]\n",
      " [143305.34 156000.  ]\n",
      " [172632.62 167900.  ]\n",
      " [ 78841.91 100000.  ]\n",
      " [254331.02 275000.  ]\n",
      " [118034.56 123000.  ]\n",
      " [159996.94 132000.  ]\n",
      " [245463.33 239900.  ]\n",
      " [167471.89 139000.  ]\n",
      " [106602.02 115000.  ]\n",
      " [141482.47 137500.  ]\n",
      " [133967.34 135000.  ]\n",
      " [138647.3  134450.  ]\n",
      " [138589.55 180500.  ]\n",
      " [209264.47 193500.  ]\n",
      " [172594.92 156500.  ]\n",
      " [130354.52 132000.  ]\n",
      " [209392.09 224500.  ]\n",
      " [103348.69 139000.  ]\n",
      " [198810.45 225000.  ]\n",
      " [174842.69 188500.  ]\n",
      " [119733.09 118000.  ]\n",
      " [101514.46  82000.  ]\n",
      " [257171.12 392000.  ]\n",
      " [111458.05 112000.  ]\n",
      " [267893.06 248900.  ]\n",
      " [135100.27 134500.  ]\n",
      " [ 92652.52  79500.  ]\n",
      " [281216.31 320000.  ]\n",
      " [138952.89 158000.  ]\n",
      " [132644.03 140000.  ]\n",
      " [129389.63 136500.  ]\n",
      " [122716.73 107500.  ]\n",
      " [149022.17 145000.  ]\n",
      " [187845.77 200500.  ]\n",
      " [183744.03 185000.  ]\n",
      " [ 83561.36 105000.  ]\n",
      " [204974.06 202665.  ]\n",
      " [199998.78 186000.  ]\n",
      " [147790.27 136000.  ]\n",
      " [199085.8  200500.  ]\n",
      " [179077.55 190000.  ]\n",
      " [172069.28 187500.  ]\n",
      " [224657.77 200000.  ]\n",
      " [182473.83 172500.  ]\n",
      " [140347.91 157000.  ]\n",
      " [214480.84 213000.  ]\n",
      " [157652.92 185000.  ]\n",
      " [118043.02 124500.  ]\n",
      " [141280.16 162900.  ]\n",
      " [279438.25 260000.  ]\n",
      " [203800.17 198500.  ]\n",
      " [103358.74 120000.  ]\n",
      " [149485.67 159500.  ]\n",
      " [ 89019.36 105900.  ]\n",
      " [279157.06 260000.  ]\n",
      " [149594.41 143000.  ]\n",
      " [116146.68 106500.  ]\n",
      " [171761.23 178900.  ]\n",
      " [118651.43 127000.  ]\n",
      " [100994.78  90350.  ]\n",
      " [129791.64 118500.  ]\n",
      " [191221.27 190000.  ]\n",
      " [125445.7  119900.  ]\n",
      " [175524.67 183900.  ]\n",
      " [166253.8  155000.  ]\n",
      " [425578.19 386250.  ]\n",
      " [130452.17 133000.  ]\n",
      " [206532.48 193500.  ]\n",
      " [262044.45 270000.  ]\n",
      " [159952.38 141000.  ]\n",
      " [184229.17 146000.  ]\n",
      " [144940.09 128500.  ]\n",
      " [215985.8  176000.  ]\n",
      " [231337.33 214000.  ]\n",
      " [231832.47 222000.  ]\n",
      " [368142.19 415298.  ]\n",
      " [169628.84 187750.  ]\n",
      " [192182.8  199900.  ]\n",
      " [182734.12 180000.  ]\n",
      " [187970.16 206300.  ]\n",
      " [182463.02 194000.  ]\n",
      " [137937.28 142953.  ]\n",
      " [180804.83 182900.  ]\n",
      " [104986.2  116050.  ]\n",
      " [230525.95 213250.  ]\n",
      " [140392.86 139500.  ]\n",
      " [198633.48 179000.  ]\n",
      " [112921.23 107900.  ]\n",
      " [182952.59 175900.  ]\n",
      " [130314.06 158500.  ]\n",
      " [139328.09 145000.  ]\n",
      " [262253.53 217000.  ]\n",
      " [145035.14 150500.  ]\n",
      " [167319.09 108959.  ]\n",
      " [169730.   165600.  ]\n",
      " [247792.45 201000.  ]\n",
      " [132778.98 145500.  ]\n",
      " [284659.72 319900.  ]\n",
      " [238718.75 215000.  ]\n",
      " [163219.33 180500.  ]\n",
      " [400592.09 367294.  ]\n",
      " [265265.16 239000.  ]\n",
      " [110480.   145900.  ]\n",
      " [207079.28 161000.  ]\n",
      " [265465.16 250000.  ]\n",
      " [ 99937.66  89471.  ]\n",
      " [165963.98 230000.  ]\n",
      " [118413.89 147000.  ]\n",
      " [161268.22 163900.  ]\n",
      " [120323.71  97000.  ]\n",
      " [147647.11 142000.  ]\n",
      " [181478.89 197000.  ]\n",
      " [109567.72 129000.  ]\n",
      " [234874.42 232000.  ]\n",
      " [127078.77 115000.  ]\n",
      " [144580.03 175000.  ]\n",
      " [257796.89 265000.  ]\n",
      " [195119.66 207000.  ]\n",
      " [156169.92 181000.  ]\n",
      " [170325.83 176000.  ]\n",
      " [170443.53 171000.  ]\n",
      " [184941.66 196000.  ]\n",
      " [163364.56 176000.  ]\n",
      " [129840.59 113000.  ]\n",
      " [ 98515.43 139000.  ]\n",
      " [142453.06 135000.  ]\n",
      " [264748.06 240000.  ]\n",
      " [124705.76 112000.  ]\n",
      " [152917.   134000.  ]\n",
      " [291499.75 316600.  ]\n",
      " [194610.22 170000.  ]\n",
      " [ 91470.72 116000.  ]\n",
      " [325006.59 306000.  ]\n",
      " [110691.95  82500.  ]\n",
      " [186739.95 175000.  ]\n",
      " [ 90079.91 106000.  ]\n",
      " [199123.88 194000.  ]\n",
      " [192915.16 194201.  ]\n",
      " [144571.47 155900.  ]\n",
      " [145781.22 138000.  ]\n",
      " [161769.75 177000.  ]\n",
      " [210907.03 214000.  ]\n",
      " [138159.05 148000.  ]\n",
      " [109023.81 127000.  ]\n",
      " [142506.44 142500.  ]\n",
      " [ 86682.03  80000.  ]\n",
      " [139213.61 145000.  ]\n",
      " [165544.22 171000.  ]\n",
      " [129325.2  122500.  ]\n",
      " [143785.95 139000.  ]\n",
      " [183560.42 189000.  ]\n",
      " [112481.37 120500.  ]\n",
      " [ 86275.68 124000.  ]\n",
      " [114282.41 160000.  ]\n",
      " [181910.02 200000.  ]\n",
      " [151109.59 160000.  ]\n",
      " [334727.25 313000.  ]\n",
      " [255499.2  275000.  ]\n",
      " [ 54251.27  67000.  ]\n",
      " [161313.44 159000.  ]\n",
      " [288835.06 251000.  ]\n",
      " [ 93148.62  92900.  ]\n",
      " [100220.62 109500.  ]\n",
      " [315042.94 385000.  ]\n",
      " [245368.56 129000.  ]\n",
      " [187765.58  82500.  ]\n",
      " [287542.03 301000.  ]\n",
      " [266468.97 249700.  ]\n",
      " [ 79104.1   81000.  ]\n",
      " [202445.38 187500.  ]\n",
      " [161558.39 110000.  ]\n",
      " [121953.53 117000.  ]\n",
      " [123971.09 128500.  ]\n",
      " [191940.98 213490.  ]\n",
      " [228025.2  284000.  ]\n",
      " [250896.39 230500.  ]\n",
      " [209532.31 190000.  ]\n",
      " [134336.05 135000.  ]\n",
      " [169405.05 152000.  ]\n",
      " [ 92204.43  87500.  ]\n",
      " [139521.5  155000.  ]\n",
      " [ 88659.57 115000.  ]\n",
      " [140868.61 144000.  ]\n",
      " [216937.17 248000.  ]\n",
      " [129232.85 132500.  ]\n",
      " [139366.06 136000.  ]\n",
      " [118799.97 117000.  ]\n",
      " [ 90399.11  82000.  ]\n",
      " [196630.03 157500.  ]\n",
      " [138449.14 110000.  ]\n",
      " [178408.08 181000.  ]\n",
      " [197356.41 192500.  ]\n",
      " [211428.7  223500.  ]\n",
      " [169813.45 181500.  ]\n",
      " [190613.45 170000.  ]\n",
      " [216553.92 187500.  ]\n",
      " [181170.08 185900.  ]\n",
      " [117741.01 160000.  ]\n",
      " [197569.77 192000.  ]\n",
      " [174764.16 181900.  ]\n",
      " [264302.59 266000.  ]\n",
      " [ 84385.08  99900.  ]\n",
      " [464784.12 438780.  ]\n",
      " [248493.33 229456.  ]\n",
      " [235272.45 216837.  ]\n",
      " [ 96368.34 110500.  ]\n",
      " [244068.56 175900.  ]\n",
      " [427683.09 538000.  ]\n",
      " [203099.06 160000.  ]\n",
      " [210835.58 172500.  ]\n",
      " [126891.45 108000.  ]\n",
      " [116559.8  131500.  ]\n",
      " [ 89302.5  106250.  ]\n",
      " [447620.19 385000.  ]\n",
      " [341965.88 370878.  ]\n",
      " [292702.88 345000.  ]\n",
      " [ 65836.02  68500.  ]\n",
      " [216764.83 250000.  ]\n",
      " [334053.91 245350.  ]\n",
      " [131408.95 125000.  ]\n",
      " [186321.77 234000.  ]\n",
      " [151962.62 145000.  ]\n",
      " [179312.   181000.  ]\n",
      " [159110.77 104000.  ]\n",
      " [223802.48 233000.  ]\n",
      " [243486.16 164000.  ]\n",
      " [191567.94 219500.  ]\n",
      " [219769.28 195000.  ]\n",
      " [119324.29 108000.  ]\n",
      " [132980.06 149900.  ]\n",
      " [355981.06 315000.  ]\n",
      " [149343.25 177500.  ]\n",
      " [150844.44 140000.  ]\n",
      " [170694.61 193879.  ]\n",
      " [210820.7  137900.  ]\n",
      " [117710.02 118000.  ]\n",
      " [319515.44 324000.  ]\n",
      " [568030.44 555000.  ]\n",
      " [171269.91 136000.  ]\n",
      " [ 71704.95  82500.  ]\n",
      " [ 68940.1  101000.  ]]\n"
     ]
    }
   ],
   "source": [
    "y_pred = regressor.predict(X_test)\n",
    "np.set_printoptions(precision=2)\n",
    "print(np.concatenate((y_pred.reshape(len(y_pred),1), y_test.reshape(len(y_test),1)),1))"
   ]
  },
  {
   "cell_type": "markdown",
   "metadata": {
    "id": "VOvvAlfniTTY"
   },
   "source": [
    "## Evaluating the Model Performance"
   ]
  },
  {
   "cell_type": "code",
   "execution_count": 9,
   "metadata": {
    "colab": {
     "base_uri": "https://localhost:8080/"
    },
    "id": "ae4yntjhiTTY",
    "outputId": "b5ff0285-71b0-4bc5-b502-6636fdf51673"
   },
   "outputs": [
    {
     "name": "stdout",
     "output_type": "stream",
     "text": [
      "0.8797663434499159\n"
     ]
    }
   ],
   "source": [
    "from sklearn.metrics import r2_score\n",
    "print(r2_score(y_test,y_pred))"
   ]
  },
  {
   "cell_type": "markdown",
   "metadata": {},
   "source": [
    "### Analysis of the best number of top features"
   ]
  },
  {
   "cell_type": "markdown",
   "metadata": {},
   "source": [
    "The R2 value:<br><br>\n",
    "\n",
    "Top 15  --- 0.8772459102377688 -> 0.877 \n",
    "\n",
    "Top 12  --- 0.8728539932453862 -> 0.873 \n",
    "\n",
    "Top 10  --- 0.8797663434499159 -> 0.880 \n",
    "\n",
    "Top 7   --- 0.8629247966353095 -> 0.863 \n",
    "\n",
    "Top 5   --- 0.8243776040452636 -> 0.824"
   ]
  },
  {
   "cell_type": "markdown",
   "metadata": {},
   "source": [
    "With the bar plot below, we came to the conclusion that the top 10 features seems to be a good pick."
   ]
  },
  {
   "cell_type": "code",
   "execution_count": 10,
   "metadata": {},
   "outputs": [
    {
     "data": {
      "image/png": "[encoded data removed]",
      "text/plain": [
       "<Figure size 864x432 with 1 Axes>"
      ]
     },
     "metadata": {},
     "output_type": "display_data"
    }
   ],
   "source": [
    "import matplotlib.cm as cm\n",
    "from numpy.random import rand\n",
    "\n",
    "models = np.array([\"Top5\", \"Top7\", \"Top10\", \"Top12\", \"Top15\"])\n",
    "results_r2 = [ 0.824, 0.863, 0.880, 0.873, 0.877 ]\n",
    "\n",
    "# get a color map\n",
    "cmap = cm.get_cmap('jet')\n",
    "# 5 nbrs 0 - 1 in array\n",
    "my_colors = rand(5)\n",
    "\n",
    "plt.style.use('fivethirtyeight')\n",
    "plt.figure(figsize =(12,6))\n",
    "plt.bar(models, results_r2, color = cmap(my_colors))\n",
    "plt.xlabel(\"Nbr of top features\")\n",
    "plt.ylabel(\"R2\")\n",
    "plt.title(\"XGBoost performance on test data set\")\n",
    "plt.ylim(0.7, 1)\n",
    "plt.show()"
   ]
  }
 ],
 "metadata": {
  "colab": {
   "collapsed_sections": [],
   "name": "Model_selection_dataset_2_XGBoost.ipynb",
   "provenance": [],
   "toc_visible": true
  },
  "kernelspec": {
   "display_name": "Python 3",
   "language": "python",
   "name": "python3"
  },
  "language_info": {
   "codemirror_mode": {
    "name": "ipython",
    "version": 3
   },
   "file_extension": ".py",
   "mimetype": "text/x-python",
   "name": "python",
   "nbconvert_exporter": "python",
   "pygments_lexer": "ipython3",
   "version": "3.8.5"
  }
 },
 "nbformat": 4,
 "nbformat_minor": 1
}
